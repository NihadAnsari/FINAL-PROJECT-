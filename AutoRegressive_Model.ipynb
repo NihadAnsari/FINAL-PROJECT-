{
  "nbformat": 4,
  "nbformat_minor": 0,
  "metadata": {
    "colab": {
      "name": "AutoRegressive Model.ipynb",
      "provenance": [],
      "collapsed_sections": []
    },
    "kernelspec": {
      "name": "python3",
      "display_name": "Python 3"
    },
    "language_info": {
      "name": "python"
    }
  },
  "cells": [
    {
      "cell_type": "code",
      "metadata": {
        "colab": {
          "base_uri": "https://localhost:8080/"
        },
        "id": "KUKZ1drj45C3",
        "outputId": "6298b92a-ad01-4d34-d0f1-b0584d824d37"
      },
      "source": [
        "!pip install statsmodels --upgrade"
      ],
      "execution_count": null,
      "outputs": [
        {
          "output_type": "stream",
          "text": [
            "Requirement already satisfied: statsmodels in /usr/local/lib/python3.7/dist-packages (0.10.2)\n",
            "Collecting statsmodels\n",
            "  Downloading statsmodels-0.12.2-cp37-cp37m-manylinux1_x86_64.whl (9.5 MB)\n",
            "\u001b[K     |████████████████████████████████| 9.5 MB 29.6 MB/s \n",
            "\u001b[?25hRequirement already satisfied: pandas>=0.21 in /usr/local/lib/python3.7/dist-packages (from statsmodels) (1.1.5)\n",
            "Requirement already satisfied: scipy>=1.1 in /usr/local/lib/python3.7/dist-packages (from statsmodels) (1.4.1)\n",
            "Requirement already satisfied: patsy>=0.5 in /usr/local/lib/python3.7/dist-packages (from statsmodels) (0.5.1)\n",
            "Requirement already satisfied: numpy>=1.15 in /usr/local/lib/python3.7/dist-packages (from statsmodels) (1.19.5)\n",
            "Requirement already satisfied: python-dateutil>=2.7.3 in /usr/local/lib/python3.7/dist-packages (from pandas>=0.21->statsmodels) (2.8.2)\n",
            "Requirement already satisfied: pytz>=2017.2 in /usr/local/lib/python3.7/dist-packages (from pandas>=0.21->statsmodels) (2018.9)\n",
            "Requirement already satisfied: six in /usr/local/lib/python3.7/dist-packages (from patsy>=0.5->statsmodels) (1.15.0)\n",
            "Installing collected packages: statsmodels\n",
            "  Attempting uninstall: statsmodels\n",
            "    Found existing installation: statsmodels 0.10.2\n",
            "    Uninstalling statsmodels-0.10.2:\n",
            "      Successfully uninstalled statsmodels-0.10.2\n",
            "Successfully installed statsmodels-0.12.2\n"
          ],
          "name": "stdout"
        }
      ]
    },
    {
      "cell_type": "code",
      "metadata": {
        "id": "BcSGVmZTLn6I"
      },
      "source": [
        "import pandas as pd\n",
        "import numpy as np\n",
        "from matplotlib import  pyplot\n",
        "import warnings\n",
        "warnings.filterwarnings('ignore')\n",
        "from statsmodels.tsa.ar_model import AutoReg"
      ],
      "execution_count": null,
      "outputs": []
    },
    {
      "cell_type": "code",
      "metadata": {
        "id": "RCS763J7LunB"
      },
      "source": [
        "df = pd.read_excel(\"/content/DEXINUS (1).xls\")"
      ],
      "execution_count": null,
      "outputs": []
    },
    {
      "cell_type": "code",
      "metadata": {
        "colab": {
          "base_uri": "https://localhost:8080/",
          "height": 202
        },
        "id": "4lUMrW7WMDwz",
        "outputId": "e6353862-953b-41bc-d979-b170e6d86f4c"
      },
      "source": [
        "df.head()"
      ],
      "execution_count": null,
      "outputs": [
        {
          "output_type": "execute_result",
          "data": {
            "text/html": [
              "<div>\n",
              "<style scoped>\n",
              "    .dataframe tbody tr th:only-of-type {\n",
              "        vertical-align: middle;\n",
              "    }\n",
              "\n",
              "    .dataframe tbody tr th {\n",
              "        vertical-align: top;\n",
              "    }\n",
              "\n",
              "    .dataframe thead th {\n",
              "        text-align: right;\n",
              "    }\n",
              "</style>\n",
              "<table border=\"1\" class=\"dataframe\">\n",
              "  <thead>\n",
              "    <tr style=\"text-align: right;\">\n",
              "      <th></th>\n",
              "      <th>observation_date</th>\n",
              "      <th>DEXINUS</th>\n",
              "    </tr>\n",
              "  </thead>\n",
              "  <tbody>\n",
              "    <tr>\n",
              "      <th>0</th>\n",
              "      <td>1973-01-02</td>\n",
              "      <td>8.02</td>\n",
              "    </tr>\n",
              "    <tr>\n",
              "      <th>1</th>\n",
              "      <td>1973-01-03</td>\n",
              "      <td>8.02</td>\n",
              "    </tr>\n",
              "    <tr>\n",
              "      <th>2</th>\n",
              "      <td>1973-01-04</td>\n",
              "      <td>8.00</td>\n",
              "    </tr>\n",
              "    <tr>\n",
              "      <th>3</th>\n",
              "      <td>1973-01-05</td>\n",
              "      <td>8.01</td>\n",
              "    </tr>\n",
              "    <tr>\n",
              "      <th>4</th>\n",
              "      <td>1973-01-08</td>\n",
              "      <td>8.00</td>\n",
              "    </tr>\n",
              "  </tbody>\n",
              "</table>\n",
              "</div>"
            ],
            "text/plain": [
              "  observation_date  DEXINUS\n",
              "0       1973-01-02     8.02\n",
              "1       1973-01-03     8.02\n",
              "2       1973-01-04     8.00\n",
              "3       1973-01-05     8.01\n",
              "4       1973-01-08     8.00"
            ]
          },
          "metadata": {},
          "execution_count": 4
        }
      ]
    },
    {
      "cell_type": "code",
      "metadata": {
        "colab": {
          "base_uri": "https://localhost:8080/"
        },
        "id": "GkSu6-dMW4YK",
        "outputId": "6b03015f-7dd6-4c7d-c146-cd5095d3bd2b"
      },
      "source": [
        "df.isnull().sum()"
      ],
      "execution_count": null,
      "outputs": [
        {
          "output_type": "execute_result",
          "data": {
            "text/plain": [
              "observation_date      0\n",
              "DEXINUS             494\n",
              "dtype: int64"
            ]
          },
          "metadata": {},
          "execution_count": 5
        }
      ]
    },
    {
      "cell_type": "code",
      "metadata": {
        "id": "bTH3HGYHW_zg"
      },
      "source": [
        "#Forward Filling\n",
        "df.fillna(method='ffill', inplace=True)"
      ],
      "execution_count": null,
      "outputs": []
    },
    {
      "cell_type": "code",
      "metadata": {
        "colab": {
          "base_uri": "https://localhost:8080/"
        },
        "id": "m1tFM1XdXEmy",
        "outputId": "1b159ce8-42f7-4f85-e523-0b011caae708"
      },
      "source": [
        "df.isnull().sum()"
      ],
      "execution_count": null,
      "outputs": [
        {
          "output_type": "execute_result",
          "data": {
            "text/plain": [
              "observation_date    0\n",
              "DEXINUS             0\n",
              "dtype: int64"
            ]
          },
          "metadata": {},
          "execution_count": 7
        }
      ]
    },
    {
      "cell_type": "code",
      "metadata": {
        "id": "5MlxU_fgMogx"
      },
      "source": [
        "def change_into_datetime(col):\n",
        "    df[col]=pd.to_datetime(df[col])"
      ],
      "execution_count": null,
      "outputs": []
    },
    {
      "cell_type": "code",
      "metadata": {
        "id": "t-Jjlno5M-yV"
      },
      "source": [
        "for i in ['observation_date']:\n",
        "    change_into_datetime(i)"
      ],
      "execution_count": null,
      "outputs": []
    },
    {
      "cell_type": "code",
      "metadata": {
        "colab": {
          "base_uri": "https://localhost:8080/"
        },
        "id": "AujdHiX7NEfX",
        "outputId": "380450c3-d0a4-4f93-f3f5-00d5a4d9ff6c"
      },
      "source": [
        "df.dtypes"
      ],
      "execution_count": null,
      "outputs": [
        {
          "output_type": "execute_result",
          "data": {
            "text/plain": [
              "observation_date    datetime64[ns]\n",
              "DEXINUS                    float64\n",
              "dtype: object"
            ]
          },
          "metadata": {},
          "execution_count": 10
        }
      ]
    },
    {
      "cell_type": "code",
      "metadata": {
        "id": "kzeqkzS_Xa4d"
      },
      "source": [
        "df['Day']= df['observation_date'].dt.day\n",
        "df['Month']= df['observation_date'].dt.month\n",
        "df['Year']= df['observation_date'].dt.year"
      ],
      "execution_count": null,
      "outputs": []
    },
    {
      "cell_type": "code",
      "metadata": {
        "id": "BZFRJCP3YTUA"
      },
      "source": [
        "from statsmodels.tsa.stattools import adfuller"
      ],
      "execution_count": null,
      "outputs": []
    },
    {
      "cell_type": "code",
      "metadata": {
        "colab": {
          "base_uri": "https://localhost:8080/"
        },
        "id": "g0avCkLVYAw_",
        "outputId": "dde9987a-287f-4996-a8ab-d29ff808e0b3"
      },
      "source": [
        "test_result = adfuller(df['DEXINUS'])\n",
        "test_result"
      ],
      "execution_count": null,
      "outputs": [
        {
          "output_type": "execute_result",
          "data": {
            "text/plain": [
              "(0.6320006223926236,\n",
              " 0.9883783969303007,\n",
              " 37,\n",
              " 12611,\n",
              " {'1%': -3.4308686449575485,\n",
              "  '10%': -2.56689200640251,\n",
              "  '5%': -2.8617692154460714},\n",
              " -8076.628404652423)"
            ]
          },
          "metadata": {},
          "execution_count": 13
        }
      ]
    },
    {
      "cell_type": "code",
      "metadata": {
        "id": "JRlw98cIYZOL"
      },
      "source": [
        "def adfuller_test(DEXINUS):\n",
        "    result=adfuller(DEXINUS)\n",
        "    labels=['ADF Test Statistic', 'p-values','#Lags Used','Number of Observations Used']\n",
        "    for value,label in zip(result,labels):\n",
        "        print(label+' : '+str(value))\n",
        "        if result[1]<=0.05:\n",
        "            print(\"Reject the null hypothesis(H0).Data is stationary\")\n",
        "        else:\n",
        "                print(\"Accept the null hypothesis(H0).Data is non-stationary\")"
      ],
      "execution_count": null,
      "outputs": []
    },
    {
      "cell_type": "code",
      "metadata": {
        "colab": {
          "base_uri": "https://localhost:8080/"
        },
        "id": "4wRaQ2r_YmTf",
        "outputId": "1a81b870-3c63-494b-edff-040c7ae8f7c2"
      },
      "source": [
        "adfuller_test(df['DEXINUS'])"
      ],
      "execution_count": null,
      "outputs": [
        {
          "output_type": "stream",
          "text": [
            "ADF Test Statistic : 0.6320006223926236\n",
            "Accept the null hypothesis(H0).Data is non-stationary\n",
            "p-values : 0.9883783969303007\n",
            "Accept the null hypothesis(H0).Data is non-stationary\n",
            "#Lags Used : 37\n",
            "Accept the null hypothesis(H0).Data is non-stationary\n",
            "Number of Observations Used : 12611\n",
            "Accept the null hypothesis(H0).Data is non-stationary\n"
          ],
          "name": "stdout"
        }
      ]
    },
    {
      "cell_type": "code",
      "metadata": {
        "colab": {
          "base_uri": "https://localhost:8080/",
          "height": 416
        },
        "id": "RMgMEtFeYueH",
        "outputId": "da2176d2-b6c2-47d3-e3ee-14b248f13446"
      },
      "source": [
        "df['diff']=df['DEXINUS'].diff(periods = 1)\n",
        "df"
      ],
      "execution_count": null,
      "outputs": [
        {
          "output_type": "execute_result",
          "data": {
            "text/html": [
              "<div>\n",
              "<style scoped>\n",
              "    .dataframe tbody tr th:only-of-type {\n",
              "        vertical-align: middle;\n",
              "    }\n",
              "\n",
              "    .dataframe tbody tr th {\n",
              "        vertical-align: top;\n",
              "    }\n",
              "\n",
              "    .dataframe thead th {\n",
              "        text-align: right;\n",
              "    }\n",
              "</style>\n",
              "<table border=\"1\" class=\"dataframe\">\n",
              "  <thead>\n",
              "    <tr style=\"text-align: right;\">\n",
              "      <th></th>\n",
              "      <th>observation_date</th>\n",
              "      <th>DEXINUS</th>\n",
              "      <th>Day</th>\n",
              "      <th>Month</th>\n",
              "      <th>Year</th>\n",
              "      <th>diff</th>\n",
              "    </tr>\n",
              "  </thead>\n",
              "  <tbody>\n",
              "    <tr>\n",
              "      <th>0</th>\n",
              "      <td>1973-01-02</td>\n",
              "      <td>8.02</td>\n",
              "      <td>2</td>\n",
              "      <td>1</td>\n",
              "      <td>1973</td>\n",
              "      <td>NaN</td>\n",
              "    </tr>\n",
              "    <tr>\n",
              "      <th>1</th>\n",
              "      <td>1973-01-03</td>\n",
              "      <td>8.02</td>\n",
              "      <td>3</td>\n",
              "      <td>1</td>\n",
              "      <td>1973</td>\n",
              "      <td>0.00</td>\n",
              "    </tr>\n",
              "    <tr>\n",
              "      <th>2</th>\n",
              "      <td>1973-01-04</td>\n",
              "      <td>8.00</td>\n",
              "      <td>4</td>\n",
              "      <td>1</td>\n",
              "      <td>1973</td>\n",
              "      <td>-0.02</td>\n",
              "    </tr>\n",
              "    <tr>\n",
              "      <th>3</th>\n",
              "      <td>1973-01-05</td>\n",
              "      <td>8.01</td>\n",
              "      <td>5</td>\n",
              "      <td>1</td>\n",
              "      <td>1973</td>\n",
              "      <td>0.01</td>\n",
              "    </tr>\n",
              "    <tr>\n",
              "      <th>4</th>\n",
              "      <td>1973-01-08</td>\n",
              "      <td>8.00</td>\n",
              "      <td>8</td>\n",
              "      <td>1</td>\n",
              "      <td>1973</td>\n",
              "      <td>-0.01</td>\n",
              "    </tr>\n",
              "    <tr>\n",
              "      <th>...</th>\n",
              "      <td>...</td>\n",
              "      <td>...</td>\n",
              "      <td>...</td>\n",
              "      <td>...</td>\n",
              "      <td>...</td>\n",
              "      <td>...</td>\n",
              "    </tr>\n",
              "    <tr>\n",
              "      <th>12644</th>\n",
              "      <td>2021-06-21</td>\n",
              "      <td>74.18</td>\n",
              "      <td>21</td>\n",
              "      <td>6</td>\n",
              "      <td>2021</td>\n",
              "      <td>0.04</td>\n",
              "    </tr>\n",
              "    <tr>\n",
              "      <th>12645</th>\n",
              "      <td>2021-06-22</td>\n",
              "      <td>74.37</td>\n",
              "      <td>22</td>\n",
              "      <td>6</td>\n",
              "      <td>2021</td>\n",
              "      <td>0.19</td>\n",
              "    </tr>\n",
              "    <tr>\n",
              "      <th>12646</th>\n",
              "      <td>2021-06-23</td>\n",
              "      <td>74.13</td>\n",
              "      <td>23</td>\n",
              "      <td>6</td>\n",
              "      <td>2021</td>\n",
              "      <td>-0.24</td>\n",
              "    </tr>\n",
              "    <tr>\n",
              "      <th>12647</th>\n",
              "      <td>2021-06-24</td>\n",
              "      <td>74.14</td>\n",
              "      <td>24</td>\n",
              "      <td>6</td>\n",
              "      <td>2021</td>\n",
              "      <td>0.01</td>\n",
              "    </tr>\n",
              "    <tr>\n",
              "      <th>12648</th>\n",
              "      <td>2021-06-25</td>\n",
              "      <td>74.14</td>\n",
              "      <td>25</td>\n",
              "      <td>6</td>\n",
              "      <td>2021</td>\n",
              "      <td>0.00</td>\n",
              "    </tr>\n",
              "  </tbody>\n",
              "</table>\n",
              "<p>12649 rows × 6 columns</p>\n",
              "</div>"
            ],
            "text/plain": [
              "      observation_date  DEXINUS  Day  Month  Year  diff\n",
              "0           1973-01-02     8.02    2      1  1973   NaN\n",
              "1           1973-01-03     8.02    3      1  1973  0.00\n",
              "2           1973-01-04     8.00    4      1  1973 -0.02\n",
              "3           1973-01-05     8.01    5      1  1973  0.01\n",
              "4           1973-01-08     8.00    8      1  1973 -0.01\n",
              "...                ...      ...  ...    ...   ...   ...\n",
              "12644       2021-06-21    74.18   21      6  2021  0.04\n",
              "12645       2021-06-22    74.37   22      6  2021  0.19\n",
              "12646       2021-06-23    74.13   23      6  2021 -0.24\n",
              "12647       2021-06-24    74.14   24      6  2021  0.01\n",
              "12648       2021-06-25    74.14   25      6  2021  0.00\n",
              "\n",
              "[12649 rows x 6 columns]"
            ]
          },
          "metadata": {},
          "execution_count": 16
        }
      ]
    },
    {
      "cell_type": "code",
      "metadata": {
        "colab": {
          "base_uri": "https://localhost:8080/"
        },
        "id": "z-IaY2LwY6hH",
        "outputId": "7d3f79f3-333e-44ed-dc05-d44dc21819df"
      },
      "source": [
        "adfuller_test(df['diff'].dropna())"
      ],
      "execution_count": null,
      "outputs": [
        {
          "output_type": "stream",
          "text": [
            "ADF Test Statistic : -19.055602597887876\n",
            "Reject the null hypothesis(H0).Data is stationary\n",
            "p-values : 0.0\n",
            "Reject the null hypothesis(H0).Data is stationary\n",
            "#Lags Used : 36\n",
            "Reject the null hypothesis(H0).Data is stationary\n",
            "Number of Observations Used : 12611\n",
            "Reject the null hypothesis(H0).Data is stationary\n"
          ],
          "name": "stdout"
        }
      ]
    },
    {
      "cell_type": "code",
      "metadata": {
        "id": "GNcE_b1U0h2A"
      },
      "source": [
        "del df['diff']"
      ],
      "execution_count": null,
      "outputs": []
    },
    {
      "cell_type": "code",
      "metadata": {
        "id": "k7yCNveT4GRf"
      },
      "source": [
        "train=df.iloc[:12529]\n",
        "test=df.iloc[12529:]"
      ],
      "execution_count": null,
      "outputs": []
    },
    {
      "cell_type": "code",
      "metadata": {
        "id": "mPuadX0z6Dun"
      },
      "source": [
        "# llr test\n",
        "from scipy.stats.distributions import chi2\n",
        "import statsmodels.tsa.stattools as sts \n",
        "def LLR_test(mod_1, mod_2, DF=1):\n",
        "    L1 = mod_1.fit().llf\n",
        "    L2 = mod_2.fit().llf\n",
        "    LR = (2*(L2-L1))\n",
        "    p = chi2.sf(LR, DF).round(3)\n",
        "    return p"
      ],
      "execution_count": null,
      "outputs": []
    },
    {
      "cell_type": "code",
      "metadata": {
        "id": "WU6ySGKe6mMN"
      },
      "source": [
        "from statsmodels.tsa.arima_model import ARMA\n",
        "model = ARMA(df.DEXINUS, order = (1,0))"
      ],
      "execution_count": null,
      "outputs": []
    },
    {
      "cell_type": "code",
      "metadata": {
        "id": "6WHjllFf7u9M"
      },
      "source": [
        "results = model.fit(disp = 0)"
      ],
      "execution_count": null,
      "outputs": []
    },
    {
      "cell_type": "code",
      "metadata": {
        "colab": {
          "base_uri": "https://localhost:8080/",
          "height": 277
        },
        "id": "VQztRRJ58bmo",
        "outputId": "55b98e98-ad9d-4fb2-bed3-a0ea1011adc5"
      },
      "source": [
        "results.summary()"
      ],
      "execution_count": null,
      "outputs": [
        {
          "output_type": "execute_result",
          "data": {
            "text/html": [
              "<table class=\"simpletable\">\n",
              "<caption>ARMA Model Results</caption>\n",
              "<tr>\n",
              "  <th>Dep. Variable:</th>      <td>DEXINUS</td>     <th>  No. Observations:  </th>   <td>12649</td>  \n",
              "</tr>\n",
              "<tr>\n",
              "  <th>Model:</th>            <td>ARMA(1, 0)</td>    <th>  Log Likelihood     </th> <td>3999.248</td> \n",
              "</tr>\n",
              "<tr>\n",
              "  <th>Method:</th>             <td>css-mle</td>     <th>  S.D. of innovations</th>   <td>0.176</td>  \n",
              "</tr>\n",
              "<tr>\n",
              "  <th>Date:</th>          <td>Thu, 19 Aug 2021</td> <th>  AIC                </th> <td>-7992.496</td>\n",
              "</tr>\n",
              "<tr>\n",
              "  <th>Time:</th>              <td>15:10:35</td>     <th>  BIC                </th> <td>-7970.160</td>\n",
              "</tr>\n",
              "<tr>\n",
              "  <th>Sample:</th>                <td>0</td>        <th>  HQIC               </th> <td>-7985.023</td>\n",
              "</tr>\n",
              "<tr>\n",
              "  <th></th>                       <td> </td>        <th>                     </th>     <td> </td>    \n",
              "</tr>\n",
              "</table>\n",
              "<table class=\"simpletable\">\n",
              "<tr>\n",
              "        <td></td>           <th>coef</th>     <th>std err</th>      <th>z</th>      <th>P>|z|</th>  <th>[0.025</th>    <th>0.975]</th>  \n",
              "</tr>\n",
              "<tr>\n",
              "  <th>const</th>         <td>   46.9882</td> <td>      nan</td> <td>      nan</td> <td>   nan</td> <td>      nan</td> <td>      nan</td>\n",
              "</tr>\n",
              "<tr>\n",
              "  <th>ar.L1.DEXINUS</th> <td>    1.0000</td> <td>      nan</td> <td>      nan</td> <td>   nan</td> <td>      nan</td> <td>      nan</td>\n",
              "</tr>\n",
              "</table>\n",
              "<table class=\"simpletable\">\n",
              "<caption>Roots</caption>\n",
              "<tr>\n",
              "    <td></td>   <th>            Real</th>  <th>         Imaginary</th> <th>         Modulus</th>  <th>        Frequency</th>\n",
              "</tr>\n",
              "<tr>\n",
              "  <th>AR.1</th> <td>           1.0000</td> <td>          +0.0000j</td> <td>           1.0000</td> <td>           0.0000</td>\n",
              "</tr>\n",
              "</table>"
            ],
            "text/plain": [
              "<class 'statsmodels.iolib.summary.Summary'>\n",
              "\"\"\"\n",
              "                              ARMA Model Results                              \n",
              "==============================================================================\n",
              "Dep. Variable:                DEXINUS   No. Observations:                12649\n",
              "Model:                     ARMA(1, 0)   Log Likelihood                3999.248\n",
              "Method:                       css-mle   S.D. of innovations              0.176\n",
              "Date:                Thu, 19 Aug 2021   AIC                          -7992.496\n",
              "Time:                        15:10:35   BIC                          -7970.160\n",
              "Sample:                             0   HQIC                         -7985.023\n",
              "                                                                              \n",
              "=================================================================================\n",
              "                    coef    std err          z      P>|z|      [0.025      0.975]\n",
              "---------------------------------------------------------------------------------\n",
              "const            46.9882        nan        nan        nan         nan         nan\n",
              "ar.L1.DEXINUS     1.0000        nan        nan        nan         nan         nan\n",
              "                                    Roots                                    \n",
              "=============================================================================\n",
              "                  Real          Imaginary           Modulus         Frequency\n",
              "-----------------------------------------------------------------------------\n",
              "AR.1            1.0000           +0.0000j            1.0000            0.0000\n",
              "-----------------------------------------------------------------------------\n",
              "\"\"\""
            ]
          },
          "metadata": {},
          "execution_count": 23
        }
      ]
    },
    {
      "cell_type": "code",
      "metadata": {
        "id": "9Ew6m_8Y8ilI"
      },
      "source": [
        "#Higher-Lag AR Models for Returns\n",
        "model = ARMA(df.DEXINUS, order = (1,0))"
      ],
      "execution_count": null,
      "outputs": []
    },
    {
      "cell_type": "code",
      "metadata": {
        "id": "347phbk29j1R"
      },
      "source": [
        "results = model.fit(disp = 0)"
      ],
      "execution_count": null,
      "outputs": []
    },
    {
      "cell_type": "code",
      "metadata": {
        "colab": {
          "base_uri": "https://localhost:8080/",
          "height": 277
        },
        "id": "m6xk1zAp99Ky",
        "outputId": "2226467f-a0bb-42f1-8813-692f07b4e403"
      },
      "source": [
        "results.summary()"
      ],
      "execution_count": null,
      "outputs": [
        {
          "output_type": "execute_result",
          "data": {
            "text/html": [
              "<table class=\"simpletable\">\n",
              "<caption>ARMA Model Results</caption>\n",
              "<tr>\n",
              "  <th>Dep. Variable:</th>      <td>DEXINUS</td>     <th>  No. Observations:  </th>   <td>12649</td>  \n",
              "</tr>\n",
              "<tr>\n",
              "  <th>Model:</th>            <td>ARMA(1, 0)</td>    <th>  Log Likelihood     </th> <td>3999.248</td> \n",
              "</tr>\n",
              "<tr>\n",
              "  <th>Method:</th>             <td>css-mle</td>     <th>  S.D. of innovations</th>   <td>0.176</td>  \n",
              "</tr>\n",
              "<tr>\n",
              "  <th>Date:</th>          <td>Thu, 19 Aug 2021</td> <th>  AIC                </th> <td>-7992.496</td>\n",
              "</tr>\n",
              "<tr>\n",
              "  <th>Time:</th>              <td>15:10:41</td>     <th>  BIC                </th> <td>-7970.160</td>\n",
              "</tr>\n",
              "<tr>\n",
              "  <th>Sample:</th>                <td>0</td>        <th>  HQIC               </th> <td>-7985.023</td>\n",
              "</tr>\n",
              "<tr>\n",
              "  <th></th>                       <td> </td>        <th>                     </th>     <td> </td>    \n",
              "</tr>\n",
              "</table>\n",
              "<table class=\"simpletable\">\n",
              "<tr>\n",
              "        <td></td>           <th>coef</th>     <th>std err</th>      <th>z</th>      <th>P>|z|</th>  <th>[0.025</th>    <th>0.975]</th>  \n",
              "</tr>\n",
              "<tr>\n",
              "  <th>const</th>         <td>   46.9882</td> <td>      nan</td> <td>      nan</td> <td>   nan</td> <td>      nan</td> <td>      nan</td>\n",
              "</tr>\n",
              "<tr>\n",
              "  <th>ar.L1.DEXINUS</th> <td>    1.0000</td> <td>      nan</td> <td>      nan</td> <td>   nan</td> <td>      nan</td> <td>      nan</td>\n",
              "</tr>\n",
              "</table>\n",
              "<table class=\"simpletable\">\n",
              "<caption>Roots</caption>\n",
              "<tr>\n",
              "    <td></td>   <th>            Real</th>  <th>         Imaginary</th> <th>         Modulus</th>  <th>        Frequency</th>\n",
              "</tr>\n",
              "<tr>\n",
              "  <th>AR.1</th> <td>           1.0000</td> <td>          +0.0000j</td> <td>           1.0000</td> <td>           0.0000</td>\n",
              "</tr>\n",
              "</table>"
            ],
            "text/plain": [
              "<class 'statsmodels.iolib.summary.Summary'>\n",
              "\"\"\"\n",
              "                              ARMA Model Results                              \n",
              "==============================================================================\n",
              "Dep. Variable:                DEXINUS   No. Observations:                12649\n",
              "Model:                     ARMA(1, 0)   Log Likelihood                3999.248\n",
              "Method:                       css-mle   S.D. of innovations              0.176\n",
              "Date:                Thu, 19 Aug 2021   AIC                          -7992.496\n",
              "Time:                        15:10:41   BIC                          -7970.160\n",
              "Sample:                             0   HQIC                         -7985.023\n",
              "                                                                              \n",
              "=================================================================================\n",
              "                    coef    std err          z      P>|z|      [0.025      0.975]\n",
              "---------------------------------------------------------------------------------\n",
              "const            46.9882        nan        nan        nan         nan         nan\n",
              "ar.L1.DEXINUS     1.0000        nan        nan        nan         nan         nan\n",
              "                                    Roots                                    \n",
              "=============================================================================\n",
              "                  Real          Imaginary           Modulus         Frequency\n",
              "-----------------------------------------------------------------------------\n",
              "AR.1            1.0000           +0.0000j            1.0000            0.0000\n",
              "-----------------------------------------------------------------------------\n",
              "\"\"\""
            ]
          },
          "metadata": {},
          "execution_count": 26
        }
      ]
    },
    {
      "cell_type": "code",
      "metadata": {
        "colab": {
          "base_uri": "https://localhost:8080/"
        },
        "id": "Pv3VCaUk-Cgh",
        "outputId": "1de03ad2-8cfc-437a-dc67-558ed80abe6f"
      },
      "source": [
        "LLR_test(model,model)"
      ],
      "execution_count": null,
      "outputs": [
        {
          "output_type": "execute_result",
          "data": {
            "text/plain": [
              "1.0"
            ]
          },
          "metadata": {},
          "execution_count": 27
        }
      ]
    },
    {
      "cell_type": "code",
      "metadata": {
        "id": "92RFqTz7-OoD"
      },
      "source": [
        "predict=results.predict(start=len(train), end=len(train)+len(test)-1,dynamic=False)"
      ],
      "execution_count": null,
      "outputs": []
    },
    {
      "cell_type": "code",
      "metadata": {
        "colab": {
          "base_uri": "https://localhost:8080/"
        },
        "id": "9Jud_UNs_EAW",
        "outputId": "59a17fb4-dcbd-401b-f22f-5f1987a108dc"
      },
      "source": [
        "from sklearn.metrics import mean_squared_error\n",
        "from math import sqrt\n",
        "print(\"root mean square error\",mean_squared_error(test.DEXINUS, predict))"
      ],
      "execution_count": null,
      "outputs": [
        {
          "output_type": "stream",
          "text": [
            "root mean square error 0.061962500591714535\n"
          ],
          "name": "stdout"
        }
      ]
    },
    {
      "cell_type": "code",
      "metadata": {
        "colab": {
          "base_uri": "https://localhost:8080/",
          "height": 416
        },
        "id": "7eu9_Afv_8cB",
        "outputId": "f9639169-2c72-4df2-abf3-41468dc73f6b"
      },
      "source": [
        "data=pd.DataFrame({'test':test.DEXINUS,'prediction':predict})\n",
        "data"
      ],
      "execution_count": null,
      "outputs": [
        {
          "output_type": "execute_result",
          "data": {
            "text/html": [
              "<div>\n",
              "<style scoped>\n",
              "    .dataframe tbody tr th:only-of-type {\n",
              "        vertical-align: middle;\n",
              "    }\n",
              "\n",
              "    .dataframe tbody tr th {\n",
              "        vertical-align: top;\n",
              "    }\n",
              "\n",
              "    .dataframe thead th {\n",
              "        text-align: right;\n",
              "    }\n",
              "</style>\n",
              "<table border=\"1\" class=\"dataframe\">\n",
              "  <thead>\n",
              "    <tr style=\"text-align: right;\">\n",
              "      <th></th>\n",
              "      <th>test</th>\n",
              "      <th>prediction</th>\n",
              "    </tr>\n",
              "  </thead>\n",
              "  <tbody>\n",
              "    <tr>\n",
              "      <th>12529</th>\n",
              "      <td>73.50</td>\n",
              "      <td>73.31</td>\n",
              "    </tr>\n",
              "    <tr>\n",
              "      <th>12530</th>\n",
              "      <td>73.26</td>\n",
              "      <td>73.50</td>\n",
              "    </tr>\n",
              "    <tr>\n",
              "      <th>12531</th>\n",
              "      <td>73.07</td>\n",
              "      <td>73.26</td>\n",
              "    </tr>\n",
              "    <tr>\n",
              "      <th>12532</th>\n",
              "      <td>73.11</td>\n",
              "      <td>73.07</td>\n",
              "    </tr>\n",
              "    <tr>\n",
              "      <th>12533</th>\n",
              "      <td>73.08</td>\n",
              "      <td>73.11</td>\n",
              "    </tr>\n",
              "    <tr>\n",
              "      <th>...</th>\n",
              "      <td>...</td>\n",
              "      <td>...</td>\n",
              "    </tr>\n",
              "    <tr>\n",
              "      <th>12644</th>\n",
              "      <td>74.18</td>\n",
              "      <td>74.14</td>\n",
              "    </tr>\n",
              "    <tr>\n",
              "      <th>12645</th>\n",
              "      <td>74.37</td>\n",
              "      <td>74.18</td>\n",
              "    </tr>\n",
              "    <tr>\n",
              "      <th>12646</th>\n",
              "      <td>74.13</td>\n",
              "      <td>74.37</td>\n",
              "    </tr>\n",
              "    <tr>\n",
              "      <th>12647</th>\n",
              "      <td>74.14</td>\n",
              "      <td>74.13</td>\n",
              "    </tr>\n",
              "    <tr>\n",
              "      <th>12648</th>\n",
              "      <td>74.14</td>\n",
              "      <td>74.14</td>\n",
              "    </tr>\n",
              "  </tbody>\n",
              "</table>\n",
              "<p>120 rows × 2 columns</p>\n",
              "</div>"
            ],
            "text/plain": [
              "        test  prediction\n",
              "12529  73.50       73.31\n",
              "12530  73.26       73.50\n",
              "12531  73.07       73.26\n",
              "12532  73.11       73.07\n",
              "12533  73.08       73.11\n",
              "...      ...         ...\n",
              "12644  74.18       74.14\n",
              "12645  74.37       74.18\n",
              "12646  74.13       74.37\n",
              "12647  74.14       74.13\n",
              "12648  74.14       74.14\n",
              "\n",
              "[120 rows x 2 columns]"
            ]
          },
          "metadata": {},
          "execution_count": 30
        }
      ]
    },
    {
      "cell_type": "code",
      "metadata": {
        "colab": {
          "base_uri": "https://localhost:8080/",
          "height": 608
        },
        "id": "E0x1brljAJbq",
        "outputId": "b118d5d8-d70e-4ad1-99de-21edaeb575e2"
      },
      "source": [
        "#train.Dexinus.plot(legend=True,label=\"train\")\n",
        "test.DEXINUS.plot(legend=True,label=\"test\")\n",
        "predict.plot(legend=True,label=\"predict\",figsize=(20,10))"
      ],
      "execution_count": null,
      "outputs": [
        {
          "output_type": "execute_result",
          "data": {
            "text/plain": [
              "<matplotlib.axes._subplots.AxesSubplot at 0x7f75e7ec3610>"
            ]
          },
          "metadata": {},
          "execution_count": 31
        },
        {
          "output_type": "display_data",
          "data": {
            "image/png": "[encoded data removed]",
            "text/plain": [
              "<Figure size 1440x720 with 1 Axes>"
            ]
          },
          "metadata": {
            "needs_background": "light"
          }
        }
      ]
    },
    {
      "cell_type": "code",
      "metadata": {
        "id": "yPsGMMeQAyDW"
      },
      "source": [
        "# Future data\n",
        "future_dates = pd.date_range(start = df.observation_date.max() + pd.DateOffset(1), end = df.observation_date.max() + pd.DateOffset(30), freq = 'D')\n",
        "Future= pd.DataFrame()\n",
        "Future['Month'] = [i.month for i in future_dates]\n",
        "Future['Year'] = [i.year for i in future_dates]\n",
        "Future['Day'] = [i.day for i in future_dates]"
      ],
      "execution_count": null,
      "outputs": []
    },
    {
      "cell_type": "code",
      "metadata": {
        "colab": {
          "base_uri": "https://localhost:8080/"
        },
        "id": "3W-FOtDnDs9R",
        "outputId": "e1b0a69a-edd5-480c-8b84-b1e0551a4658"
      },
      "source": [
        "future_dates"
      ],
      "execution_count": null,
      "outputs": [
        {
          "output_type": "execute_result",
          "data": {
            "text/plain": [
              "DatetimeIndex(['2021-06-26', '2021-06-27', '2021-06-28', '2021-06-29',\n",
              "               '2021-06-30', '2021-07-01', '2021-07-02', '2021-07-03',\n",
              "               '2021-07-04', '2021-07-05', '2021-07-06', '2021-07-07',\n",
              "               '2021-07-08', '2021-07-09', '2021-07-10', '2021-07-11',\n",
              "               '2021-07-12', '2021-07-13', '2021-07-14', '2021-07-15',\n",
              "               '2021-07-16', '2021-07-17', '2021-07-18', '2021-07-19',\n",
              "               '2021-07-20', '2021-07-21', '2021-07-22', '2021-07-23',\n",
              "               '2021-07-24', '2021-07-25'],\n",
              "              dtype='datetime64[ns]', freq='D')"
            ]
          },
          "metadata": {},
          "execution_count": 33
        }
      ]
    },
    {
      "cell_type": "code",
      "metadata": {
        "id": "nJJiwA3tDvpI"
      },
      "source": [
        "future_dates_df=pd.DataFrame(index=future_dates[1:],columns=df.columns)"
      ],
      "execution_count": null,
      "outputs": []
    },
    {
      "cell_type": "code",
      "metadata": {
        "colab": {
          "base_uri": "https://localhost:8080/"
        },
        "id": "o_FI0GpTD4ln",
        "outputId": "cb44a22d-9f8b-4494-e1ae-f65fb2b88161"
      },
      "source": [
        "df_future=pd.concat([df,future_dates_df])\n",
        "len(df_future)"
      ],
      "execution_count": null,
      "outputs": [
        {
          "output_type": "execute_result",
          "data": {
            "text/plain": [
              "12678"
            ]
          },
          "metadata": {},
          "execution_count": 35
        }
      ]
    },
    {
      "cell_type": "code",
      "metadata": {
        "colab": {
          "base_uri": "https://localhost:8080/",
          "height": 202
        },
        "id": "EIUYJbwjEImK",
        "outputId": "93dcb2ca-bc70-4c08-f673-12a2c441e84c"
      },
      "source": [
        "df.tail()"
      ],
      "execution_count": null,
      "outputs": [
        {
          "output_type": "execute_result",
          "data": {
            "text/html": [
              "<div>\n",
              "<style scoped>\n",
              "    .dataframe tbody tr th:only-of-type {\n",
              "        vertical-align: middle;\n",
              "    }\n",
              "\n",
              "    .dataframe tbody tr th {\n",
              "        vertical-align: top;\n",
              "    }\n",
              "\n",
              "    .dataframe thead th {\n",
              "        text-align: right;\n",
              "    }\n",
              "</style>\n",
              "<table border=\"1\" class=\"dataframe\">\n",
              "  <thead>\n",
              "    <tr style=\"text-align: right;\">\n",
              "      <th></th>\n",
              "      <th>observation_date</th>\n",
              "      <th>DEXINUS</th>\n",
              "      <th>Day</th>\n",
              "      <th>Month</th>\n",
              "      <th>Year</th>\n",
              "    </tr>\n",
              "  </thead>\n",
              "  <tbody>\n",
              "    <tr>\n",
              "      <th>12644</th>\n",
              "      <td>2021-06-21</td>\n",
              "      <td>74.18</td>\n",
              "      <td>21</td>\n",
              "      <td>6</td>\n",
              "      <td>2021</td>\n",
              "    </tr>\n",
              "    <tr>\n",
              "      <th>12645</th>\n",
              "      <td>2021-06-22</td>\n",
              "      <td>74.37</td>\n",
              "      <td>22</td>\n",
              "      <td>6</td>\n",
              "      <td>2021</td>\n",
              "    </tr>\n",
              "    <tr>\n",
              "      <th>12646</th>\n",
              "      <td>2021-06-23</td>\n",
              "      <td>74.13</td>\n",
              "      <td>23</td>\n",
              "      <td>6</td>\n",
              "      <td>2021</td>\n",
              "    </tr>\n",
              "    <tr>\n",
              "      <th>12647</th>\n",
              "      <td>2021-06-24</td>\n",
              "      <td>74.14</td>\n",
              "      <td>24</td>\n",
              "      <td>6</td>\n",
              "      <td>2021</td>\n",
              "    </tr>\n",
              "    <tr>\n",
              "      <th>12648</th>\n",
              "      <td>2021-06-25</td>\n",
              "      <td>74.14</td>\n",
              "      <td>25</td>\n",
              "      <td>6</td>\n",
              "      <td>2021</td>\n",
              "    </tr>\n",
              "  </tbody>\n",
              "</table>\n",
              "</div>"
            ],
            "text/plain": [
              "      observation_date  DEXINUS  Day  Month  Year\n",
              "12644       2021-06-21    74.18   21      6  2021\n",
              "12645       2021-06-22    74.37   22      6  2021\n",
              "12646       2021-06-23    74.13   23      6  2021\n",
              "12647       2021-06-24    74.14   24      6  2021\n",
              "12648       2021-06-25    74.14   25      6  2021"
            ]
          },
          "metadata": {},
          "execution_count": 36
        }
      ]
    },
    {
      "cell_type": "code",
      "metadata": {
        "id": "oM8emM3eF3T2"
      },
      "source": [
        "predictfuture=results.predict(start=12649, end=len(df_future)+1,dynamic=False)"
      ],
      "execution_count": null,
      "outputs": []
    },
    {
      "cell_type": "code",
      "metadata": {
        "colab": {
          "base_uri": "https://localhost:8080/",
          "height": 825
        },
        "id": "KPSxlx81KRx-",
        "outputId": "4d69245e-cee6-4e98-b7d6-a3cc0173cf5a"
      },
      "source": [
        "#train_df.DEXINUS.plot(legend=True,label=\"Train\")\n",
        "test.DEXINUS.plot(legend=True,label=\"test\",figsize=(18,14))\n",
        "predictfuture.plot(legend=True,label='predict')"
      ],
      "execution_count": null,
      "outputs": [
        {
          "output_type": "execute_result",
          "data": {
            "text/plain": [
              "<matplotlib.axes._subplots.AxesSubplot at 0x7f75e7e25050>"
            ]
          },
          "metadata": {},
          "execution_count": 38
        },
        {
          "output_type": "display_data",
          "data": {
            "image/png": "[encoded data removed]",
            "text/plain": [
              "<Figure size 1296x1008 with 1 Axes>"
            ]
          },
          "metadata": {
            "needs_background": "light"
          }
        }
      ]
    },
    {
      "cell_type": "code",
      "metadata": {
        "colab": {
          "base_uri": "https://localhost:8080/"
        },
        "id": "SsyhWxZWKua6",
        "outputId": "5a4c8777-142e-4cc6-a2f5-85f6e795f9db"
      },
      "source": [
        "predictfuture.head(60)"
      ],
      "execution_count": null,
      "outputs": [
        {
          "output_type": "execute_result",
          "data": {
            "text/plain": [
              "12649    74.140000\n",
              "12650    74.140000\n",
              "12651    74.140000\n",
              "12652    74.140000\n",
              "12653    74.140000\n",
              "12654    74.140000\n",
              "12655    74.140000\n",
              "12656    74.140000\n",
              "12657    74.140000\n",
              "12658    74.139999\n",
              "12659    74.139999\n",
              "12660    74.139999\n",
              "12661    74.139999\n",
              "12662    74.139999\n",
              "12663    74.139999\n",
              "12664    74.139999\n",
              "12665    74.139999\n",
              "12666    74.139999\n",
              "12667    74.139999\n",
              "12668    74.139999\n",
              "12669    74.139999\n",
              "12670    74.139999\n",
              "12671    74.139999\n",
              "12672    74.139999\n",
              "12673    74.139999\n",
              "12674    74.139999\n",
              "12675    74.139999\n",
              "12676    74.139999\n",
              "12677    74.139998\n",
              "12678    74.139998\n",
              "12679    74.139998\n",
              "dtype: float64"
            ]
          },
          "metadata": {},
          "execution_count": 40
        }
      ]
    }
  ]
}