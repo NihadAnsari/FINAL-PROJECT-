{
  "nbformat": 4,
  "nbformat_minor": 5,
  "metadata": {
    "hide_input": false,
    "kernelspec": {
      "display_name": "Python 3",
      "language": "python",
      "name": "python3"
    },
    "language_info": {
      "codemirror_mode": {
        "name": "ipython",
        "version": 3
      },
      "file_extension": ".py",
      "mimetype": "text/x-python",
      "name": "python",
      "nbconvert_exporter": "python",
      "pygments_lexer": "ipython3",
      "version": "3.8.11"
    },
    "toc": {
      "base_numbering": 1,
      "nav_menu": {},
      "number_sections": true,
      "sideBar": true,
      "skip_h1_title": true,
      "title_cell": "Table of Contents",
      "title_sidebar": "Contents",
      "toc_cell": false,
      "toc_position": {
        "height": "calc(100% - 180px)",
        "left": "10px",
        "top": "150px",
        "width": "371.2px"
      },
      "toc_section_display": true,
      "toc_window_display": true
    },
    "colab": {
      "name": "Neural Network.ipynb",
      "provenance": [],
      "collapsed_sections": []
    }
  },
  "cells": [
    {
      "cell_type": "markdown",
      "metadata": {
        "id": "124d215f"
      },
      "source": [
        "# Forecast Exchange Rates"
      ],
      "id": "124d215f"
    },
    {
      "cell_type": "code",
      "metadata": {
        "id": "74d2199c"
      },
      "source": [
        "import pandas as pd\n",
        "import numpy as np\n",
        "import seaborn as sns\n",
        "import matplotlib.pyplot as plt\n",
        "from plotly import tools\n",
        "import plotly.express as px\n",
        "import plotly.graph_objects as go\n",
        "from plotly.subplots import make_subplots\n",
        "import datetime as dt\n",
        "import warnings \n",
        "warnings.filterwarnings('ignore')"
      ],
      "id": "74d2199c",
      "execution_count": null,
      "outputs": []
    },
    {
      "cell_type": "code",
      "metadata": {
        "id": "e6c85619",
        "colab": {
          "base_uri": "https://localhost:8080/",
          "height": 204
        },
        "outputId": "331b9af9-fc2e-463b-a9cf-e14b4167b3a5"
      },
      "source": [
        "nn = pd.read_csv('/content/DEXINUS (1).csv',parse_dates=[\"observation_date\"])\n",
        "nn.head()"
      ],
      "id": "e6c85619",
      "execution_count": null,
      "outputs": [
        {
          "output_type": "execute_result",
          "data": {
            "text/html": [
              "<div>\n",
              "<style scoped>\n",
              "    .dataframe tbody tr th:only-of-type {\n",
              "        vertical-align: middle;\n",
              "    }\n",
              "\n",
              "    .dataframe tbody tr th {\n",
              "        vertical-align: top;\n",
              "    }\n",
              "\n",
              "    .dataframe thead th {\n",
              "        text-align: right;\n",
              "    }\n",
              "</style>\n",
              "<table border=\"1\" class=\"dataframe\">\n",
              "  <thead>\n",
              "    <tr style=\"text-align: right;\">\n",
              "      <th></th>\n",
              "      <th>observation_date</th>\n",
              "      <th>DEXINUS</th>\n",
              "    </tr>\n",
              "  </thead>\n",
              "  <tbody>\n",
              "    <tr>\n",
              "      <th>0</th>\n",
              "      <td>1973-02-01</td>\n",
              "      <td>8.02</td>\n",
              "    </tr>\n",
              "    <tr>\n",
              "      <th>1</th>\n",
              "      <td>1973-03-01</td>\n",
              "      <td>8.02</td>\n",
              "    </tr>\n",
              "    <tr>\n",
              "      <th>2</th>\n",
              "      <td>1973-04-01</td>\n",
              "      <td>8.00</td>\n",
              "    </tr>\n",
              "    <tr>\n",
              "      <th>3</th>\n",
              "      <td>1973-05-01</td>\n",
              "      <td>8.01</td>\n",
              "    </tr>\n",
              "    <tr>\n",
              "      <th>4</th>\n",
              "      <td>1973-08-01</td>\n",
              "      <td>8.00</td>\n",
              "    </tr>\n",
              "  </tbody>\n",
              "</table>\n",
              "</div>"
            ],
            "text/plain": [
              "  observation_date  DEXINUS\n",
              "0       1973-02-01     8.02\n",
              "1       1973-03-01     8.02\n",
              "2       1973-04-01     8.00\n",
              "3       1973-05-01     8.01\n",
              "4       1973-08-01     8.00"
            ]
          },
          "metadata": {},
          "execution_count": 4
        }
      ]
    },
    {
      "cell_type": "code",
      "metadata": {
        "id": "c44cf661",
        "colab": {
          "base_uri": "https://localhost:8080/",
          "height": 204
        },
        "outputId": "75414997-4f86-41e6-e92a-5fc2793f257d"
      },
      "source": [
        "#Copy Data\n",
        "df = nn.copy()\n",
        "df.head()"
      ],
      "id": "c44cf661",
      "execution_count": null,
      "outputs": [
        {
          "output_type": "execute_result",
          "data": {
            "text/html": [
              "<div>\n",
              "<style scoped>\n",
              "    .dataframe tbody tr th:only-of-type {\n",
              "        vertical-align: middle;\n",
              "    }\n",
              "\n",
              "    .dataframe tbody tr th {\n",
              "        vertical-align: top;\n",
              "    }\n",
              "\n",
              "    .dataframe thead th {\n",
              "        text-align: right;\n",
              "    }\n",
              "</style>\n",
              "<table border=\"1\" class=\"dataframe\">\n",
              "  <thead>\n",
              "    <tr style=\"text-align: right;\">\n",
              "      <th></th>\n",
              "      <th>observation_date</th>\n",
              "      <th>DEXINUS</th>\n",
              "    </tr>\n",
              "  </thead>\n",
              "  <tbody>\n",
              "    <tr>\n",
              "      <th>0</th>\n",
              "      <td>1973-02-01</td>\n",
              "      <td>8.02</td>\n",
              "    </tr>\n",
              "    <tr>\n",
              "      <th>1</th>\n",
              "      <td>1973-03-01</td>\n",
              "      <td>8.02</td>\n",
              "    </tr>\n",
              "    <tr>\n",
              "      <th>2</th>\n",
              "      <td>1973-04-01</td>\n",
              "      <td>8.00</td>\n",
              "    </tr>\n",
              "    <tr>\n",
              "      <th>3</th>\n",
              "      <td>1973-05-01</td>\n",
              "      <td>8.01</td>\n",
              "    </tr>\n",
              "    <tr>\n",
              "      <th>4</th>\n",
              "      <td>1973-08-01</td>\n",
              "      <td>8.00</td>\n",
              "    </tr>\n",
              "  </tbody>\n",
              "</table>\n",
              "</div>"
            ],
            "text/plain": [
              "  observation_date  DEXINUS\n",
              "0       1973-02-01     8.02\n",
              "1       1973-03-01     8.02\n",
              "2       1973-04-01     8.00\n",
              "3       1973-05-01     8.01\n",
              "4       1973-08-01     8.00"
            ]
          },
          "metadata": {},
          "execution_count": 5
        }
      ]
    },
    {
      "cell_type": "code",
      "metadata": {
        "id": "5c3b96bb",
        "colab": {
          "base_uri": "https://localhost:8080/"
        },
        "outputId": "0d767c9d-9d37-476e-9e2d-9de127b5a71e"
      },
      "source": [
        "df.shape"
      ],
      "id": "5c3b96bb",
      "execution_count": null,
      "outputs": [
        {
          "output_type": "execute_result",
          "data": {
            "text/plain": [
              "(12649, 2)"
            ]
          },
          "metadata": {},
          "execution_count": 6
        }
      ]
    },
    {
      "cell_type": "code",
      "metadata": {
        "id": "d6b9a1ae"
      },
      "source": [
        "#renaming the Date and Dexinus\n",
        "data = df[['observation_date', 'DEXINUS']]\n",
        "data.columns = ['Date', 'Dexinus']"
      ],
      "id": "d6b9a1ae",
      "execution_count": null,
      "outputs": []
    },
    {
      "cell_type": "code",
      "metadata": {
        "id": "7eb777c0",
        "colab": {
          "base_uri": "https://localhost:8080/",
          "height": 204
        },
        "outputId": "d4622376-4920-4fdc-f9ce-6f3cdff6282d"
      },
      "source": [
        "data.head()"
      ],
      "id": "7eb777c0",
      "execution_count": null,
      "outputs": [
        {
          "output_type": "execute_result",
          "data": {
            "text/html": [
              "<div>\n",
              "<style scoped>\n",
              "    .dataframe tbody tr th:only-of-type {\n",
              "        vertical-align: middle;\n",
              "    }\n",
              "\n",
              "    .dataframe tbody tr th {\n",
              "        vertical-align: top;\n",
              "    }\n",
              "\n",
              "    .dataframe thead th {\n",
              "        text-align: right;\n",
              "    }\n",
              "</style>\n",
              "<table border=\"1\" class=\"dataframe\">\n",
              "  <thead>\n",
              "    <tr style=\"text-align: right;\">\n",
              "      <th></th>\n",
              "      <th>Date</th>\n",
              "      <th>Dexinus</th>\n",
              "    </tr>\n",
              "  </thead>\n",
              "  <tbody>\n",
              "    <tr>\n",
              "      <th>0</th>\n",
              "      <td>1973-02-01</td>\n",
              "      <td>8.02</td>\n",
              "    </tr>\n",
              "    <tr>\n",
              "      <th>1</th>\n",
              "      <td>1973-03-01</td>\n",
              "      <td>8.02</td>\n",
              "    </tr>\n",
              "    <tr>\n",
              "      <th>2</th>\n",
              "      <td>1973-04-01</td>\n",
              "      <td>8.00</td>\n",
              "    </tr>\n",
              "    <tr>\n",
              "      <th>3</th>\n",
              "      <td>1973-05-01</td>\n",
              "      <td>8.01</td>\n",
              "    </tr>\n",
              "    <tr>\n",
              "      <th>4</th>\n",
              "      <td>1973-08-01</td>\n",
              "      <td>8.00</td>\n",
              "    </tr>\n",
              "  </tbody>\n",
              "</table>\n",
              "</div>"
            ],
            "text/plain": [
              "        Date  Dexinus\n",
              "0 1973-02-01     8.02\n",
              "1 1973-03-01     8.02\n",
              "2 1973-04-01     8.00\n",
              "3 1973-05-01     8.01\n",
              "4 1973-08-01     8.00"
            ]
          },
          "metadata": {},
          "execution_count": 8
        }
      ]
    },
    {
      "cell_type": "code",
      "metadata": {
        "id": "af512782",
        "colab": {
          "base_uri": "https://localhost:8080/"
        },
        "outputId": "debf8236-1962-4c85-be3b-2cdfd3eb8b9c"
      },
      "source": [
        "data.info()"
      ],
      "id": "af512782",
      "execution_count": null,
      "outputs": [
        {
          "output_type": "stream",
          "text": [
            "<class 'pandas.core.frame.DataFrame'>\n",
            "RangeIndex: 12649 entries, 0 to 12648\n",
            "Data columns (total 2 columns):\n",
            " #   Column   Non-Null Count  Dtype         \n",
            "---  ------   --------------  -----         \n",
            " 0   Date     12649 non-null  datetime64[ns]\n",
            " 1   Dexinus  12155 non-null  float64       \n",
            "dtypes: datetime64[ns](1), float64(1)\n",
            "memory usage: 197.8 KB\n"
          ],
          "name": "stdout"
        }
      ]
    },
    {
      "cell_type": "code",
      "metadata": {
        "id": "5ff0f85f"
      },
      "source": [
        "data['Dexinus'] = pd.to_numeric(data.Dexinus)"
      ],
      "id": "5ff0f85f",
      "execution_count": null,
      "outputs": []
    },
    {
      "cell_type": "markdown",
      "metadata": {
        "id": "e3c64864"
      },
      "source": [
        "Sorting Date in Ascending order"
      ],
      "id": "e3c64864"
    },
    {
      "cell_type": "code",
      "metadata": {
        "id": "07c57e08"
      },
      "source": [
        "data = data.sort_values('Date', ascending=True)"
      ],
      "id": "07c57e08",
      "execution_count": null,
      "outputs": []
    },
    {
      "cell_type": "code",
      "metadata": {
        "id": "55c55a50",
        "colab": {
          "base_uri": "https://localhost:8080/"
        },
        "outputId": "cfc1ba70-7e75-4ff9-bb24-872403a88493"
      },
      "source": [
        "data.Dexinus.describe()"
      ],
      "id": "55c55a50",
      "execution_count": null,
      "outputs": [
        {
          "output_type": "execute_result",
          "data": {
            "text/plain": [
              "count    12155.000000\n",
              "mean        34.206133\n",
              "std         21.089190\n",
              "min          7.190000\n",
              "25%         12.075000\n",
              "50%         35.890000\n",
              "75%         47.650000\n",
              "max         76.950000\n",
              "Name: Dexinus, dtype: float64"
            ]
          },
          "metadata": {},
          "execution_count": 12
        }
      ]
    },
    {
      "cell_type": "code",
      "metadata": {
        "id": "cb708c8c",
        "colab": {
          "base_uri": "https://localhost:8080/"
        },
        "outputId": "f60c3f86-9040-492c-abb8-6355bc2a8da8"
      },
      "source": [
        "data.isnull().sum()"
      ],
      "id": "cb708c8c",
      "execution_count": null,
      "outputs": [
        {
          "output_type": "execute_result",
          "data": {
            "text/plain": [
              "Date         0\n",
              "Dexinus    494\n",
              "dtype: int64"
            ]
          },
          "metadata": {},
          "execution_count": 13
        }
      ]
    },
    {
      "cell_type": "code",
      "metadata": {
        "id": "556b5ddc"
      },
      "source": [
        "#Forward Filling\n",
        "data.fillna(method='ffill', inplace=True)"
      ],
      "id": "556b5ddc",
      "execution_count": null,
      "outputs": []
    },
    {
      "cell_type": "code",
      "metadata": {
        "id": "bfa7ffb2",
        "colab": {
          "base_uri": "https://localhost:8080/"
        },
        "outputId": "7c940231-b28b-459c-9a87-405d9ae19ccd"
      },
      "source": [
        "data.isnull().sum()"
      ],
      "id": "bfa7ffb2",
      "execution_count": null,
      "outputs": [
        {
          "output_type": "execute_result",
          "data": {
            "text/plain": [
              "Date       0\n",
              "Dexinus    0\n",
              "dtype: int64"
            ]
          },
          "metadata": {},
          "execution_count": 15
        }
      ]
    },
    {
      "cell_type": "code",
      "metadata": {
        "id": "f59c4a2e"
      },
      "source": [
        "#transformation of values to float\n",
        "data['Dexinus'] = pd.to_numeric(data['Dexinus'], downcast=\"float\")"
      ],
      "id": "f59c4a2e",
      "execution_count": null,
      "outputs": []
    },
    {
      "cell_type": "code",
      "metadata": {
        "id": "3fe6312b",
        "colab": {
          "base_uri": "https://localhost:8080/"
        },
        "outputId": "9f6415af-80cf-4ab0-8531-aaa317b7a430"
      },
      "source": [
        "data.info()"
      ],
      "id": "3fe6312b",
      "execution_count": null,
      "outputs": [
        {
          "output_type": "stream",
          "text": [
            "<class 'pandas.core.frame.DataFrame'>\n",
            "Int64Index: 12649 entries, 22 to 12616\n",
            "Data columns (total 2 columns):\n",
            " #   Column   Non-Null Count  Dtype         \n",
            "---  ------   --------------  -----         \n",
            " 0   Date     12649 non-null  datetime64[ns]\n",
            " 1   Dexinus  12649 non-null  float32       \n",
            "dtypes: datetime64[ns](1), float32(1)\n",
            "memory usage: 247.1 KB\n"
          ],
          "name": "stdout"
        }
      ]
    },
    {
      "cell_type": "code",
      "metadata": {
        "id": "92a44ef9",
        "colab": {
          "base_uri": "https://localhost:8080/"
        },
        "outputId": "6960b756-fa55-4d68-8dd0-e4cd563c67bd"
      },
      "source": [
        "data.duplicated().sum()"
      ],
      "id": "92a44ef9",
      "execution_count": null,
      "outputs": [
        {
          "output_type": "execute_result",
          "data": {
            "text/plain": [
              "0"
            ]
          },
          "metadata": {},
          "execution_count": 18
        }
      ]
    },
    {
      "cell_type": "markdown",
      "metadata": {
        "id": "d97300ea"
      },
      "source": [
        "### Final Data"
      ],
      "id": "d97300ea"
    },
    {
      "cell_type": "code",
      "metadata": {
        "id": "21065395"
      },
      "source": [
        "final_data = data.copy()"
      ],
      "id": "21065395",
      "execution_count": null,
      "outputs": []
    },
    {
      "cell_type": "code",
      "metadata": {
        "id": "d283bee7",
        "colab": {
          "base_uri": "https://localhost:8080/",
          "height": 204
        },
        "outputId": "4939bf16-d3c8-4424-badc-478fa3a1405e"
      },
      "source": [
        "final_data.head()"
      ],
      "id": "d283bee7",
      "execution_count": null,
      "outputs": [
        {
          "output_type": "execute_result",
          "data": {
            "text/html": [
              "<div>\n",
              "<style scoped>\n",
              "    .dataframe tbody tr th:only-of-type {\n",
              "        vertical-align: middle;\n",
              "    }\n",
              "\n",
              "    .dataframe tbody tr th {\n",
              "        vertical-align: top;\n",
              "    }\n",
              "\n",
              "    .dataframe thead th {\n",
              "        text-align: right;\n",
              "    }\n",
              "</style>\n",
              "<table border=\"1\" class=\"dataframe\">\n",
              "  <thead>\n",
              "    <tr style=\"text-align: right;\">\n",
              "      <th></th>\n",
              "      <th>Date</th>\n",
              "      <th>Dexinus</th>\n",
              "    </tr>\n",
              "  </thead>\n",
              "  <tbody>\n",
              "    <tr>\n",
              "      <th>22</th>\n",
              "      <td>1973-01-02</td>\n",
              "      <td>8.00</td>\n",
              "    </tr>\n",
              "    <tr>\n",
              "      <th>42</th>\n",
              "      <td>1973-01-03</td>\n",
              "      <td>7.55</td>\n",
              "    </tr>\n",
              "    <tr>\n",
              "      <th>85</th>\n",
              "      <td>1973-01-05</td>\n",
              "      <td>7.54</td>\n",
              "    </tr>\n",
              "    <tr>\n",
              "      <th>108</th>\n",
              "      <td>1973-01-06</td>\n",
              "      <td>7.25</td>\n",
              "    </tr>\n",
              "    <tr>\n",
              "      <th>151</th>\n",
              "      <td>1973-01-08</td>\n",
              "      <td>7.49</td>\n",
              "    </tr>\n",
              "  </tbody>\n",
              "</table>\n",
              "</div>"
            ],
            "text/plain": [
              "          Date  Dexinus\n",
              "22  1973-01-02     8.00\n",
              "42  1973-01-03     7.55\n",
              "85  1973-01-05     7.54\n",
              "108 1973-01-06     7.25\n",
              "151 1973-01-08     7.49"
            ]
          },
          "metadata": {},
          "execution_count": 20
        }
      ]
    },
    {
      "cell_type": "code",
      "metadata": {
        "id": "f6bd6a34"
      },
      "source": [
        "data1 = data.copy()"
      ],
      "id": "f6bd6a34",
      "execution_count": null,
      "outputs": []
    },
    {
      "cell_type": "code",
      "metadata": {
        "id": "604c3887",
        "colab": {
          "base_uri": "https://localhost:8080/",
          "height": 204
        },
        "outputId": "6d0ebe92-5b36-49f8-83b7-687f6a4b9d79"
      },
      "source": [
        "data1.head()"
      ],
      "id": "604c3887",
      "execution_count": null,
      "outputs": [
        {
          "output_type": "execute_result",
          "data": {
            "text/html": [
              "<div>\n",
              "<style scoped>\n",
              "    .dataframe tbody tr th:only-of-type {\n",
              "        vertical-align: middle;\n",
              "    }\n",
              "\n",
              "    .dataframe tbody tr th {\n",
              "        vertical-align: top;\n",
              "    }\n",
              "\n",
              "    .dataframe thead th {\n",
              "        text-align: right;\n",
              "    }\n",
              "</style>\n",
              "<table border=\"1\" class=\"dataframe\">\n",
              "  <thead>\n",
              "    <tr style=\"text-align: right;\">\n",
              "      <th></th>\n",
              "      <th>Date</th>\n",
              "      <th>Dexinus</th>\n",
              "    </tr>\n",
              "  </thead>\n",
              "  <tbody>\n",
              "    <tr>\n",
              "      <th>22</th>\n",
              "      <td>1973-01-02</td>\n",
              "      <td>8.00</td>\n",
              "    </tr>\n",
              "    <tr>\n",
              "      <th>42</th>\n",
              "      <td>1973-01-03</td>\n",
              "      <td>7.55</td>\n",
              "    </tr>\n",
              "    <tr>\n",
              "      <th>85</th>\n",
              "      <td>1973-01-05</td>\n",
              "      <td>7.54</td>\n",
              "    </tr>\n",
              "    <tr>\n",
              "      <th>108</th>\n",
              "      <td>1973-01-06</td>\n",
              "      <td>7.25</td>\n",
              "    </tr>\n",
              "    <tr>\n",
              "      <th>151</th>\n",
              "      <td>1973-01-08</td>\n",
              "      <td>7.49</td>\n",
              "    </tr>\n",
              "  </tbody>\n",
              "</table>\n",
              "</div>"
            ],
            "text/plain": [
              "          Date  Dexinus\n",
              "22  1973-01-02     8.00\n",
              "42  1973-01-03     7.55\n",
              "85  1973-01-05     7.54\n",
              "108 1973-01-06     7.25\n",
              "151 1973-01-08     7.49"
            ]
          },
          "metadata": {},
          "execution_count": 22
        }
      ]
    },
    {
      "cell_type": "code",
      "metadata": {
        "id": "677c44a0"
      },
      "source": [
        "final_data1 = data1.copy()"
      ],
      "id": "677c44a0",
      "execution_count": null,
      "outputs": []
    },
    {
      "cell_type": "markdown",
      "metadata": {
        "id": "610e8994"
      },
      "source": [
        "### Segregating Years, Months, Day"
      ],
      "id": "610e8994"
    },
    {
      "cell_type": "code",
      "metadata": {
        "id": "36b6d62c"
      },
      "source": [
        "df1 = final_data.copy()"
      ],
      "id": "36b6d62c",
      "execution_count": null,
      "outputs": []
    },
    {
      "cell_type": "code",
      "metadata": {
        "id": "8dc323ac"
      },
      "source": [
        "#if date is not set to index then use \n",
        "#Year\n",
        "df1['Year']= [i.year for i in df1['Date']]\n",
        "#Month\n",
        "df1['Month']= [i.month for i in df1['Date']]\n",
        "#Day\n",
        "df1['Day']= [i.day for i in df1['Date']]"
      ],
      "id": "8dc323ac",
      "execution_count": null,
      "outputs": []
    },
    {
      "cell_type": "code",
      "metadata": {
        "id": "99d0a126",
        "colab": {
          "base_uri": "https://localhost:8080/",
          "height": 204
        },
        "outputId": "93b0643d-ba36-4684-c2b8-31220342dc85"
      },
      "source": [
        "df1.head()"
      ],
      "id": "99d0a126",
      "execution_count": null,
      "outputs": [
        {
          "output_type": "execute_result",
          "data": {
            "text/html": [
              "<div>\n",
              "<style scoped>\n",
              "    .dataframe tbody tr th:only-of-type {\n",
              "        vertical-align: middle;\n",
              "    }\n",
              "\n",
              "    .dataframe tbody tr th {\n",
              "        vertical-align: top;\n",
              "    }\n",
              "\n",
              "    .dataframe thead th {\n",
              "        text-align: right;\n",
              "    }\n",
              "</style>\n",
              "<table border=\"1\" class=\"dataframe\">\n",
              "  <thead>\n",
              "    <tr style=\"text-align: right;\">\n",
              "      <th></th>\n",
              "      <th>Date</th>\n",
              "      <th>Dexinus</th>\n",
              "      <th>Year</th>\n",
              "      <th>Month</th>\n",
              "      <th>Day</th>\n",
              "    </tr>\n",
              "  </thead>\n",
              "  <tbody>\n",
              "    <tr>\n",
              "      <th>22</th>\n",
              "      <td>1973-01-02</td>\n",
              "      <td>8.00</td>\n",
              "      <td>1973</td>\n",
              "      <td>1</td>\n",
              "      <td>2</td>\n",
              "    </tr>\n",
              "    <tr>\n",
              "      <th>42</th>\n",
              "      <td>1973-01-03</td>\n",
              "      <td>7.55</td>\n",
              "      <td>1973</td>\n",
              "      <td>1</td>\n",
              "      <td>3</td>\n",
              "    </tr>\n",
              "    <tr>\n",
              "      <th>85</th>\n",
              "      <td>1973-01-05</td>\n",
              "      <td>7.54</td>\n",
              "      <td>1973</td>\n",
              "      <td>1</td>\n",
              "      <td>5</td>\n",
              "    </tr>\n",
              "    <tr>\n",
              "      <th>108</th>\n",
              "      <td>1973-01-06</td>\n",
              "      <td>7.25</td>\n",
              "      <td>1973</td>\n",
              "      <td>1</td>\n",
              "      <td>6</td>\n",
              "    </tr>\n",
              "    <tr>\n",
              "      <th>151</th>\n",
              "      <td>1973-01-08</td>\n",
              "      <td>7.49</td>\n",
              "      <td>1973</td>\n",
              "      <td>1</td>\n",
              "      <td>8</td>\n",
              "    </tr>\n",
              "  </tbody>\n",
              "</table>\n",
              "</div>"
            ],
            "text/plain": [
              "          Date  Dexinus  Year  Month  Day\n",
              "22  1973-01-02     8.00  1973      1    2\n",
              "42  1973-01-03     7.55  1973      1    3\n",
              "85  1973-01-05     7.54  1973      1    5\n",
              "108 1973-01-06     7.25  1973      1    6\n",
              "151 1973-01-08     7.49  1973      1    8"
            ]
          },
          "metadata": {},
          "execution_count": 26
        }
      ]
    },
    {
      "cell_type": "code",
      "metadata": {
        "id": "ae310fda",
        "colab": {
          "base_uri": "https://localhost:8080/"
        },
        "outputId": "4f2a5169-4836-4d03-ba1d-e5a95f192961"
      },
      "source": [
        "df1.info()"
      ],
      "id": "ae310fda",
      "execution_count": null,
      "outputs": [
        {
          "output_type": "stream",
          "text": [
            "<class 'pandas.core.frame.DataFrame'>\n",
            "Int64Index: 12649 entries, 22 to 12616\n",
            "Data columns (total 5 columns):\n",
            " #   Column   Non-Null Count  Dtype         \n",
            "---  ------   --------------  -----         \n",
            " 0   Date     12649 non-null  datetime64[ns]\n",
            " 1   Dexinus  12649 non-null  float32       \n",
            " 2   Year     12649 non-null  int64         \n",
            " 3   Month    12649 non-null  int64         \n",
            " 4   Day      12649 non-null  int64         \n",
            "dtypes: datetime64[ns](1), float32(1), int64(3)\n",
            "memory usage: 543.5 KB\n"
          ],
          "name": "stdout"
        }
      ]
    },
    {
      "cell_type": "code",
      "metadata": {
        "id": "06d58efb",
        "colab": {
          "base_uri": "https://localhost:8080/",
          "height": 706
        },
        "outputId": "ef5ed708-2e87-436f-ada5-1e3bd5a3dede"
      },
      "source": [
        "#Line Plot\n",
        "plt.figure(figsize =(18,8),dpi=100)\n",
        "df1.Dexinus.plot()\n",
        "plt.ylabel('Exchange Rate, USD into INR')\n",
        "plt.xlabel('Year')\n",
        "plt.title('INR/USD Exchange Rate for the years 1973-01-02 to 2021-06-25')\n",
        "plt.show()"
      ],
      "id": "06d58efb",
      "execution_count": null,
      "outputs": [
        {
          "output_type": "display_data",
          "data": {
            "image/png": "[encoded data removed]",
            "text/plain": [
              "<Figure size 1800x800 with 1 Axes>"
            ]
          },
          "metadata": {
            "needs_background": "light"
          }
        }
      ]
    },
    {
      "cell_type": "code",
      "metadata": {
        "id": "917a4d44",
        "colab": {
          "base_uri": "https://localhost:8080/",
          "height": 498
        },
        "outputId": "c6383d9d-4ac7-4010-e789-01906f73c270"
      },
      "source": [
        "### Box Plot\n",
        "box1 = df1.groupby('Year')\n",
        "\n",
        "years = list(np.unique(df1.Year))\n",
        "\n",
        "fig, ax = plt.subplots(1, len(years), figsize=(18, 8), sharey=True)\n",
        "for i, year in enumerate(years):\n",
        "    X = box1.get_group(year)\n",
        "    # subplots=True,layout=(1,len(A)),figsize=(18,8),use_index = True,\n",
        "    X.plot(y='Dexinus',\n",
        "           kind='box',\n",
        "           ax=ax[i],\n",
        "           label=year,\n",
        "           rot=90,\n",
        "           ylim=(5, 85),\n",
        "           sharey=True)\n",
        "    plt.tight_layout\n",
        "#plt.title('box plot');\n",
        "plt.show()"
      ],
      "id": "917a4d44",
      "execution_count": null,
      "outputs": [
        {
          "output_type": "display_data",
          "data": {
            "image/png": "[encoded data removed]",
            "text/plain": [
              "<Figure size 1296x576 with 49 Axes>"
            ]
          },
          "metadata": {
            "needs_background": "light"
          }
        }
      ]
    },
    {
      "cell_type": "code",
      "metadata": {
        "id": "16ba63d6"
      },
      "source": [
        "## LSTM\n",
        "df2 = final_data.copy()\n",
        "df2 = df2.set_index('Date')"
      ],
      "id": "16ba63d6",
      "execution_count": null,
      "outputs": []
    },
    {
      "cell_type": "code",
      "metadata": {
        "id": "e61d3693",
        "colab": {
          "base_uri": "https://localhost:8080/",
          "height": 235
        },
        "outputId": "2a151c94-c407-4976-f397-e25de49f7a9f"
      },
      "source": [
        "df2.head()"
      ],
      "id": "e61d3693",
      "execution_count": null,
      "outputs": [
        {
          "output_type": "execute_result",
          "data": {
            "text/html": [
              "<div>\n",
              "<style scoped>\n",
              "    .dataframe tbody tr th:only-of-type {\n",
              "        vertical-align: middle;\n",
              "    }\n",
              "\n",
              "    .dataframe tbody tr th {\n",
              "        vertical-align: top;\n",
              "    }\n",
              "\n",
              "    .dataframe thead th {\n",
              "        text-align: right;\n",
              "    }\n",
              "</style>\n",
              "<table border=\"1\" class=\"dataframe\">\n",
              "  <thead>\n",
              "    <tr style=\"text-align: right;\">\n",
              "      <th></th>\n",
              "      <th>Dexinus</th>\n",
              "    </tr>\n",
              "    <tr>\n",
              "      <th>Date</th>\n",
              "      <th></th>\n",
              "    </tr>\n",
              "  </thead>\n",
              "  <tbody>\n",
              "    <tr>\n",
              "      <th>1973-01-02</th>\n",
              "      <td>8.00</td>\n",
              "    </tr>\n",
              "    <tr>\n",
              "      <th>1973-01-03</th>\n",
              "      <td>7.55</td>\n",
              "    </tr>\n",
              "    <tr>\n",
              "      <th>1973-01-05</th>\n",
              "      <td>7.54</td>\n",
              "    </tr>\n",
              "    <tr>\n",
              "      <th>1973-01-06</th>\n",
              "      <td>7.25</td>\n",
              "    </tr>\n",
              "    <tr>\n",
              "      <th>1973-01-08</th>\n",
              "      <td>7.49</td>\n",
              "    </tr>\n",
              "  </tbody>\n",
              "</table>\n",
              "</div>"
            ],
            "text/plain": [
              "            Dexinus\n",
              "Date               \n",
              "1973-01-02     8.00\n",
              "1973-01-03     7.55\n",
              "1973-01-05     7.54\n",
              "1973-01-06     7.25\n",
              "1973-01-08     7.49"
            ]
          },
          "metadata": {},
          "execution_count": 31
        }
      ]
    },
    {
      "cell_type": "code",
      "metadata": {
        "id": "4a50d9b3"
      },
      "source": [
        "#MinMax Scaler\n",
        "from sklearn.preprocessing import MinMaxScaler"
      ],
      "id": "4a50d9b3",
      "execution_count": null,
      "outputs": []
    },
    {
      "cell_type": "code",
      "metadata": {
        "id": "4a6b9022"
      },
      "source": [
        "scaler = MinMaxScaler()"
      ],
      "id": "4a6b9022",
      "execution_count": null,
      "outputs": []
    },
    {
      "cell_type": "code",
      "metadata": {
        "id": "f8c4e286"
      },
      "source": [
        "df3 = scaler.fit_transform(df2)"
      ],
      "id": "f8c4e286",
      "execution_count": null,
      "outputs": []
    },
    {
      "cell_type": "code",
      "metadata": {
        "colab": {
          "base_uri": "https://localhost:8080/"
        },
        "id": "sC2MupE23rsX",
        "outputId": "5ada89ba-2798-4093-9b6d-48df8d45ee8c"
      },
      "source": [
        "df3"
      ],
      "id": "sC2MupE23rsX",
      "execution_count": null,
      "outputs": [
        {
          "output_type": "execute_result",
          "data": {
            "text/plain": [
              "array([[0.01161124],\n",
              "       [0.00516056],\n",
              "       [0.0050172 ],\n",
              "       ...,\n",
              "       [0.9392202 ],\n",
              "       [0.9724771 ],\n",
              "       [0.9509748 ]], dtype=float32)"
            ]
          },
          "metadata": {},
          "execution_count": 35
        }
      ]
    },
    {
      "cell_type": "code",
      "metadata": {
        "id": "98f86b6b"
      },
      "source": [
        "#Splitting Data\n",
        "#Train and test sets\n",
        "split_point_lstm = round(len(df3)*(3/4))\n",
        "df3_train = df3[:split_point_lstm]\n",
        "lstm_len_train = len(df3_train)\n",
        "df3_test = df3[split_point_lstm:]\n",
        "lstm_len_test = len(df3_test)"
      ],
      "id": "98f86b6b",
      "execution_count": null,
      "outputs": []
    },
    {
      "cell_type": "code",
      "metadata": {
        "id": "0f969c26",
        "colab": {
          "base_uri": "https://localhost:8080/"
        },
        "outputId": "af5bbf97-28fb-4eac-a577-0870ff22d77c"
      },
      "source": [
        "print(df3_train.shape)\n",
        "print(df3_test.shape)"
      ],
      "id": "0f969c26",
      "execution_count": null,
      "outputs": [
        {
          "output_type": "stream",
          "text": [
            "(9487, 1)\n",
            "(3162, 1)\n"
          ],
          "name": "stdout"
        }
      ]
    },
    {
      "cell_type": "code",
      "metadata": {
        "id": "9774143f"
      },
      "source": [
        "## Transformation\n",
        "def get_data(data3_lstm, look_back):\n",
        "  datax, datay = [],[]\n",
        "  for i in range(len(data3_lstm)-look_back-1):\n",
        "    datax.append(data3_lstm[i:(i+look_back),0])\n",
        "    datay.append(data3_lstm[i+look_back,0])\n",
        "  return np.array(datax) , np.array(datay)"
      ],
      "id": "9774143f",
      "execution_count": null,
      "outputs": []
    },
    {
      "cell_type": "code",
      "metadata": {
        "id": "9e033bae",
        "colab": {
          "base_uri": "https://localhost:8080/"
        },
        "outputId": "a9adc3d4-1b7f-4662-e12f-6c577d31eb92"
      },
      "source": [
        "look_back = 1\n",
        "\n",
        "x_train_lstm , y_train_lstm = get_data(df3_train, look_back)\n",
        "print(x_train_lstm.shape)\n",
        "print(y_train_lstm.shape)"
      ],
      "id": "9e033bae",
      "execution_count": null,
      "outputs": [
        {
          "output_type": "stream",
          "text": [
            "(9485, 1)\n",
            "(9485,)\n"
          ],
          "name": "stdout"
        }
      ]
    },
    {
      "cell_type": "code",
      "metadata": {
        "id": "2091a35f",
        "colab": {
          "base_uri": "https://localhost:8080/"
        },
        "outputId": "8bc67f49-0ee0-4414-a346-122707be9fd4"
      },
      "source": [
        "x_test_lstm , y_test_lstm = get_data(df3_test,look_back)\n",
        "print(x_test_lstm.shape)\n",
        "print(y_test_lstm.shape)"
      ],
      "id": "2091a35f",
      "execution_count": null,
      "outputs": [
        {
          "output_type": "stream",
          "text": [
            "(3160, 1)\n",
            "(3160,)\n"
          ],
          "name": "stdout"
        }
      ]
    },
    {
      "cell_type": "code",
      "metadata": {
        "id": "5c2b5415"
      },
      "source": [
        "#Processing train and test sets for LSTM model\n",
        "x_train_lstm = x_train_lstm.reshape(x_train_lstm.shape[0],x_train_lstm.shape[1], 1)\n",
        "x_test_lstm = x_test_lstm.reshape(x_test_lstm.shape[0],x_test_lstm.shape[1], 1)"
      ],
      "id": "5c2b5415",
      "execution_count": null,
      "outputs": []
    },
    {
      "cell_type": "code",
      "metadata": {
        "id": "80c9a63d",
        "colab": {
          "base_uri": "https://localhost:8080/"
        },
        "outputId": "bedf5b1d-ff1a-4e24-9182-9044e354da49"
      },
      "source": [
        "print(x_train_lstm.shape)\n",
        "print(x_test_lstm.shape)"
      ],
      "id": "80c9a63d",
      "execution_count": null,
      "outputs": [
        {
          "output_type": "stream",
          "text": [
            "(9485, 1, 1)\n",
            "(3160, 1, 1)\n"
          ],
          "name": "stdout"
        }
      ]
    },
    {
      "cell_type": "code",
      "metadata": {
        "id": "6f1fb62c"
      },
      "source": [
        "## Model\n",
        "#Define the LSTM model\n",
        "from keras.models import Sequential\n",
        "from keras.layers import Dense,LSTM\n",
        "from sklearn.metrics import accuracy_score, confusion_matrix,classification_report, r2_score,mean_absolute_error,mean_squared_error"
      ],
      "id": "6f1fb62c",
      "execution_count": null,
      "outputs": []
    },
    {
      "cell_type": "code",
      "metadata": {
        "id": "074b8f39"
      },
      "source": [
        "n_features_lstm=x_train_lstm.shape[1]\n",
        "model_lstm=Sequential()\n",
        "model_lstm.add(LSTM(100,activation='relu',input_shape=(1,1)))\n",
        "model_lstm.add(Dense(n_features_lstm))"
      ],
      "id": "074b8f39",
      "execution_count": null,
      "outputs": []
    },
    {
      "cell_type": "code",
      "metadata": {
        "id": "cb902592",
        "colab": {
          "base_uri": "https://localhost:8080/"
        },
        "outputId": "07070083-5be1-40bf-d3ff-df787ea4c72d"
      },
      "source": [
        "model_lstm.summary()"
      ],
      "id": "cb902592",
      "execution_count": null,
      "outputs": [
        {
          "output_type": "stream",
          "text": [
            "Model: \"sequential\"\n",
            "_________________________________________________________________\n",
            "Layer (type)                 Output Shape              Param #   \n",
            "=================================================================\n",
            "lstm (LSTM)                  (None, 100)               40800     \n",
            "_________________________________________________________________\n",
            "dense (Dense)                (None, 1)                 101       \n",
            "=================================================================\n",
            "Total params: 40,901\n",
            "Trainable params: 40,901\n",
            "Non-trainable params: 0\n",
            "_________________________________________________________________\n"
          ],
          "name": "stdout"
        }
      ]
    },
    {
      "cell_type": "code",
      "metadata": {
        "id": "95dcf594"
      },
      "source": [
        "## Compilation\n",
        "model_lstm.compile(optimizer='adam', loss = 'mse')"
      ],
      "id": "95dcf594",
      "execution_count": null,
      "outputs": []
    },
    {
      "cell_type": "code",
      "metadata": {
        "id": "698a19c9",
        "colab": {
          "base_uri": "https://localhost:8080/"
        },
        "outputId": "8db4d638-ed19-45da-fb28-8274cc749d4e"
      },
      "source": [
        "#Training\n",
        "model_lstm.fit(x_train_lstm,y_train_lstm, epochs = 5, batch_size=1)"
      ],
      "id": "698a19c9",
      "execution_count": null,
      "outputs": [
        {
          "output_type": "stream",
          "text": [
            "Epoch 1/5\n",
            "9485/9485 [==============================] - 17s 2ms/step - loss: 0.0017\n",
            "Epoch 2/5\n",
            "9485/9485 [==============================] - 15s 2ms/step - loss: 1.3206e-04\n",
            "Epoch 3/5\n",
            "9485/9485 [==============================] - 16s 2ms/step - loss: 1.2696e-04\n",
            "Epoch 4/5\n",
            "9485/9485 [==============================] - 16s 2ms/step - loss: 1.2836e-04\n",
            "Epoch 5/5\n",
            "9485/9485 [==============================] - 16s 2ms/step - loss: 1.2403e-04\n"
          ],
          "name": "stdout"
        },
        {
          "output_type": "execute_result",
          "data": {
            "text/plain": [
              "<keras.callbacks.History at 0x7f40c991fd90>"
            ]
          },
          "metadata": {},
          "execution_count": 47
        }
      ]
    },
    {
      "cell_type": "code",
      "metadata": {
        "id": "1fa32d3d",
        "colab": {
          "base_uri": "https://localhost:8080/"
        },
        "outputId": "f8c7e4a0-c12f-48d5-c7a6-b035f5ad7f9c"
      },
      "source": [
        "#Prediction using the trained model\n",
        "scaler.scale_"
      ],
      "id": "1fa32d3d",
      "execution_count": null,
      "outputs": [
        {
          "output_type": "execute_result",
          "data": {
            "text/plain": [
              "array([0.01433486], dtype=float32)"
            ]
          },
          "metadata": {},
          "execution_count": 48
        }
      ]
    },
    {
      "cell_type": "code",
      "metadata": {
        "id": "3ee9b7fb",
        "colab": {
          "base_uri": "https://localhost:8080/"
        },
        "outputId": "f2220400-943d-44ef-c105-94b20df1f13b"
      },
      "source": [
        "y_pred_lstm = model_lstm.predict(x_test_lstm)\n",
        "y_pred_lstm = scaler.inverse_transform(y_pred_lstm)\n",
        "print(y_pred_lstm[:10])"
      ],
      "id": "3ee9b7fb",
      "execution_count": null,
      "outputs": [
        {
          "output_type": "stream",
          "text": [
            "[[49.535297]\n",
            " [49.603714]\n",
            " [49.33978 ]\n",
            " [47.57519 ]\n",
            " [47.643906]\n",
            " [47.30011 ]\n",
            " [47.30011 ]\n",
            " [46.95528 ]\n",
            " [46.95528 ]\n",
            " [47.692986]]\n"
          ],
          "name": "stdout"
        }
      ]
    },
    {
      "cell_type": "code",
      "metadata": {
        "id": "31bbcf94",
        "colab": {
          "base_uri": "https://localhost:8080/"
        },
        "outputId": "29e9977b-50c4-4078-d03e-e4dc37b315a4"
      },
      "source": [
        "#Processing test shape\n",
        "y_test_lstm = np.array(y_test_lstm).reshape(-1,1)\n",
        "y_test_lstm = scaler.inverse_transform(y_test_lstm)\n",
        "print(y_test_lstm[:10])"
      ],
      "id": "31bbcf94",
      "execution_count": null,
      "outputs": [
        {
          "output_type": "stream",
          "text": [
            "[[49.65    ]\n",
            " [49.380005]\n",
            " [47.579998]\n",
            " [47.65    ]\n",
            " [47.299995]\n",
            " [47.299995]\n",
            " [46.949997]\n",
            " [46.949997]\n",
            " [47.699997]\n",
            " [47.61    ]]\n"
          ],
          "name": "stdout"
        }
      ]
    },
    {
      "cell_type": "code",
      "metadata": {
        "id": "0dc5b2a9",
        "colab": {
          "base_uri": "https://localhost:8080/",
          "height": 516
        },
        "outputId": "e244a543-4037-4665-b546-6dee20f4f189"
      },
      "source": [
        "#Visualizing the results\n",
        "plt.figure(figsize=(10,8))\n",
        "plt.title('Foreign Exchange Rate of India')\n",
        "plt.plot(y_test_lstm , label = 'Actual', color = 'c', linewidth=6)\n",
        "plt.plot(y_pred_lstm , label = 'Predicted', color = 'm', linewidth=1)\n",
        "plt.legend()"
      ],
      "id": "0dc5b2a9",
      "execution_count": null,
      "outputs": [
        {
          "output_type": "execute_result",
          "data": {
            "text/plain": [
              "<matplotlib.legend.Legend at 0x7f40c22de790>"
            ]
          },
          "metadata": {},
          "execution_count": 51
        },
        {
          "output_type": "display_data",
          "data": {
            "image/png": "[encoded data removed]",
            "text/plain": [
              "<Figure size 720x576 with 1 Axes>"
            ]
          },
          "metadata": {
            "needs_background": "light"
          }
        }
      ]
    },
    {
      "cell_type": "code",
      "metadata": {
        "id": "b4709e7b",
        "colab": {
          "base_uri": "https://localhost:8080/"
        },
        "outputId": "99257456-896a-4124-f030-ec8212bb2698"
      },
      "source": [
        "## Mean Squared Error\n",
        "mean_squared_error(y_test_lstm, y_pred_lstm)"
      ],
      "id": "b4709e7b",
      "execution_count": null,
      "outputs": [
        {
          "output_type": "execute_result",
          "data": {
            "text/plain": [
              "2.4967034"
            ]
          },
          "metadata": {},
          "execution_count": 52
        }
      ]
    },
    {
      "cell_type": "code",
      "metadata": {
        "id": "2f617fad"
      },
      "source": [
        "## LSTM on 1 year Data\n",
        "scaler_one_year = MinMaxScaler()"
      ],
      "id": "2f617fad",
      "execution_count": null,
      "outputs": []
    },
    {
      "cell_type": "code",
      "metadata": {
        "id": "307de526"
      },
      "source": [
        "# Data\n",
        "df_oneyear = final_data.copy()"
      ],
      "id": "307de526",
      "execution_count": null,
      "outputs": []
    },
    {
      "cell_type": "code",
      "metadata": {
        "id": "c9740cb9"
      },
      "source": [
        "df_oneyear = df_oneyear.set_index('Date')"
      ],
      "id": "c9740cb9",
      "execution_count": null,
      "outputs": []
    },
    {
      "cell_type": "code",
      "metadata": {
        "id": "52c679e3"
      },
      "source": [
        "one_year = df_oneyear.loc[df_oneyear.index >= '2020-06-25']"
      ],
      "id": "52c679e3",
      "execution_count": null,
      "outputs": []
    },
    {
      "cell_type": "code",
      "metadata": {
        "id": "d4024c50"
      },
      "source": [
        "lstm_one_year = one_year.copy()"
      ],
      "id": "d4024c50",
      "execution_count": null,
      "outputs": []
    },
    {
      "cell_type": "code",
      "metadata": {
        "id": "91bb051f",
        "colab": {
          "base_uri": "https://localhost:8080/",
          "height": 235
        },
        "outputId": "cd270aa4-6f23-497f-ef1d-b1f84e12b33d"
      },
      "source": [
        "lstm_one_year.head()"
      ],
      "id": "91bb051f",
      "execution_count": null,
      "outputs": [
        {
          "output_type": "execute_result",
          "data": {
            "text/html": [
              "<div>\n",
              "<style scoped>\n",
              "    .dataframe tbody tr th:only-of-type {\n",
              "        vertical-align: middle;\n",
              "    }\n",
              "\n",
              "    .dataframe tbody tr th {\n",
              "        vertical-align: top;\n",
              "    }\n",
              "\n",
              "    .dataframe thead th {\n",
              "        text-align: right;\n",
              "    }\n",
              "</style>\n",
              "<table border=\"1\" class=\"dataframe\">\n",
              "  <thead>\n",
              "    <tr style=\"text-align: right;\">\n",
              "      <th></th>\n",
              "      <th>Dexinus</th>\n",
              "    </tr>\n",
              "    <tr>\n",
              "      <th>Date</th>\n",
              "      <th></th>\n",
              "    </tr>\n",
              "  </thead>\n",
              "  <tbody>\n",
              "    <tr>\n",
              "      <th>2020-06-25</th>\n",
              "      <td>75.580002</td>\n",
              "    </tr>\n",
              "    <tr>\n",
              "      <th>2020-06-26</th>\n",
              "      <td>75.629997</td>\n",
              "    </tr>\n",
              "    <tr>\n",
              "      <th>2020-06-29</th>\n",
              "      <td>75.519997</td>\n",
              "    </tr>\n",
              "    <tr>\n",
              "      <th>2020-06-30</th>\n",
              "      <td>75.529999</td>\n",
              "    </tr>\n",
              "    <tr>\n",
              "      <th>2020-07-01</th>\n",
              "      <td>71.839996</td>\n",
              "    </tr>\n",
              "  </tbody>\n",
              "</table>\n",
              "</div>"
            ],
            "text/plain": [
              "              Dexinus\n",
              "Date                 \n",
              "2020-06-25  75.580002\n",
              "2020-06-26  75.629997\n",
              "2020-06-29  75.519997\n",
              "2020-06-30  75.529999\n",
              "2020-07-01  71.839996"
            ]
          },
          "metadata": {},
          "execution_count": 58
        }
      ]
    },
    {
      "cell_type": "code",
      "metadata": {
        "id": "10846ea3"
      },
      "source": [
        "one_year_lstm = scaler.fit_transform(lstm_one_year)"
      ],
      "id": "10846ea3",
      "execution_count": null,
      "outputs": []
    },
    {
      "cell_type": "code",
      "metadata": {
        "id": "9d702739",
        "colab": {
          "base_uri": "https://localhost:8080/"
        },
        "outputId": "d59234c3-74b7-4503-a85e-5640eec5d252"
      },
      "source": [
        "one_year_lstm"
      ],
      "id": "9d702739",
      "execution_count": null,
      "outputs": [
        {
          "output_type": "execute_result",
          "data": {
            "text/plain": [
              "array([[0.8656721 ],\n",
              "       [0.87499905],\n",
              "       [0.8544769 ],\n",
              "       [0.85634327],\n",
              "       [0.16790962],\n",
              "       [0.09888077],\n",
              "       [0.8768654 ],\n",
              "       [0.9029846 ],\n",
              "       [0.7220144 ],\n",
              "       [0.764925  ],\n",
              "       [0.764925  ],\n",
              "       [0.4365673 ],\n",
              "       [0.5391798 ],\n",
              "       [0.7873144 ],\n",
              "       [0.8283577 ],\n",
              "       [0.7779856 ],\n",
              "       [0.7779856 ],\n",
              "       [0.7444029 ],\n",
              "       [0.7145519 ],\n",
              "       [0.6716423 ],\n",
              "       [0.6753731 ],\n",
              "       [0.7220144 ],\n",
              "       [0.7145519 ],\n",
              "       [0.7145519 ],\n",
              "       [0.7406721 ],\n",
              "       [0.74253654],\n",
              "       [0.73507404],\n",
              "       [0.7388058 ],\n",
              "       [0.10634327],\n",
              "       [0.9365673 ],\n",
              "       [0.8656721 ],\n",
              "       [0.8395529 ],\n",
              "       [0.7462692 ],\n",
              "       [0.52985   ],\n",
              "       [0.44589615],\n",
              "       [0.5111942 ],\n",
              "       [0.7220144 ],\n",
              "       [0.7332096 ],\n",
              "       [0.7089548 ],\n",
              "       [0.6865673 ],\n",
              "       [0.7294769 ],\n",
              "       [0.75932884],\n",
              "       [0.74253654],\n",
              "       [0.60261154],\n",
              "       [0.60820866],\n",
              "       [0.6119404 ],\n",
              "       [0.5503731 ],\n",
              "       [0.40485096],\n",
              "       [0.4309702 ],\n",
              "       [0.04104519],\n",
              "       [0.61007404],\n",
              "       [1.        ],\n",
              "       [0.8395529 ],\n",
              "       [0.77985096],\n",
              "       [0.45522308],\n",
              "       [0.38059807],\n",
              "       [0.5764923 ],\n",
              "       [0.5167904 ],\n",
              "       [0.46268654],\n",
              "       [0.49067116],\n",
              "       [0.485075  ],\n",
              "       [0.49626827],\n",
              "       [0.485075  ],\n",
              "       [0.4925375 ],\n",
              "       [0.47761154],\n",
              "       [0.48320866],\n",
              "       [0.5522394 ],\n",
              "       [0.5167904 ],\n",
              "       [0.53171635],\n",
              "       [0.52985   ],\n",
              "       [0.485075  ],\n",
              "       [0.        ],\n",
              "       [0.06343269],\n",
              "       [0.59888077],\n",
              "       [0.9197769 ],\n",
              "       [0.8787317 ],\n",
              "       [0.78358173],\n",
              "       [0.7406721 ],\n",
              "       [0.46455193],\n",
              "       [0.6287308 ],\n",
              "       [0.51865673],\n",
              "       [0.4682827 ],\n",
              "       [0.42910385],\n",
              "       [0.47388077],\n",
              "       [0.46268654],\n",
              "       [0.44216347],\n",
              "       [0.47201538],\n",
              "       [0.5       ],\n",
              "       [0.5055971 ],\n",
              "       [0.54477596],\n",
              "       [0.5578356 ],\n",
              "       [0.5       ],\n",
              "       [0.60634327],\n",
              "       [0.6492529 ],\n",
              "       [0.68096924],\n",
              "       [0.05783558],\n",
              "       [0.5111942 ],\n",
              "       [0.9197769 ],\n",
              "       [0.9384327 ],\n",
              "       [0.6847019 ],\n",
              "       [0.4682827 ],\n",
              "       [0.4682827 ],\n",
              "       [0.5205231 ],\n",
              "       [0.6753731 ],\n",
              "       [0.64738846],\n",
              "       [0.6492529 ],\n",
              "       [0.5895519 ],\n",
              "       [0.6007471 ],\n",
              "       [0.59328365],\n",
              "       [0.61007404],\n",
              "       [0.58582115],\n",
              "       [0.52425385],\n",
              "       [0.52425385],\n",
              "       [0.52425385],\n",
              "       [0.57276154],\n",
              "       [0.06529903],\n",
              "       [0.6175375 ],\n",
              "       [0.7630596 ],\n",
              "       [0.9496269 ],\n",
              "       [0.7070904 ],\n",
              "       [0.7070904 ],\n",
              "       [0.6884327 ],\n",
              "       [0.5037308 ],\n",
              "       [0.48880577],\n",
              "       [0.5055971 ],\n",
              "       [0.48320866],\n",
              "       [0.48320866],\n",
              "       [0.5764923 ],\n",
              "       [0.5429106 ],\n",
              "       [0.5279846 ],\n",
              "       [0.5279846 ],\n",
              "       [0.5279846 ],\n",
              "       [0.47761154],\n",
              "       [0.44589615],\n",
              "       [0.40858173],\n",
              "       [0.38619423],\n",
              "       [0.38619423],\n",
              "       [0.40485096],\n",
              "       [0.45895576],\n",
              "       [0.4440298 ],\n",
              "       [0.3526125 ],\n",
              "       [0.3973875 ],\n",
              "       [0.40485096],\n",
              "       [0.39925385],\n",
              "       [0.39925385],\n",
              "       [0.42164135],\n",
              "       [0.42164135],\n",
              "       [0.3768654 ],\n",
              "       [0.38059807],\n",
              "       [0.38619423],\n",
              "       [0.3656721 ],\n",
              "       [0.39365768],\n",
              "       [0.3675375 ],\n",
              "       [0.35447693],\n",
              "       [0.37499905],\n",
              "       [0.4384327 ],\n",
              "       [0.45335865],\n",
              "       [0.37873173],\n",
              "       [0.37873173],\n",
              "       [0.35820866],\n",
              "       [0.3488798 ],\n",
              "       [0.3190298 ],\n",
              "       [0.2910452 ],\n",
              "       [0.28731441],\n",
              "       [0.27985096],\n",
              "       [0.26865578],\n",
              "       [0.3358202 ],\n",
              "       [0.5559702 ],\n",
              "       [0.35447693],\n",
              "       [0.35634327],\n",
              "       [0.53731346],\n",
              "       [0.38619423],\n",
              "       [0.3059702 ],\n",
              "       [0.294775  ],\n",
              "       [0.30223846],\n",
              "       [0.31529808],\n",
              "       [0.2817154 ],\n",
              "       [0.26679134],\n",
              "       [0.294775  ],\n",
              "       [0.30783558],\n",
              "       [0.32649326],\n",
              "       [0.3190298 ],\n",
              "       [0.33768654],\n",
              "       [0.4682827 ],\n",
              "       [0.41044807],\n",
              "       [0.39925385],\n",
              "       [0.37126827],\n",
              "       [0.33395576],\n",
              "       [0.5335827 ],\n",
              "       [0.360075  ],\n",
              "       [0.8078356 ],\n",
              "       [0.7705221 ],\n",
              "       [0.7220144 ],\n",
              "       [0.6604481 ],\n",
              "       [0.7332096 ],\n",
              "       [0.8283577 ],\n",
              "       [0.8358202 ],\n",
              "       [0.7779856 ],\n",
              "       [0.7518654 ],\n",
              "       [0.71082115],\n",
              "       [0.6791048 ],\n",
              "       [0.6623125 ],\n",
              "       [0.5839548 ],\n",
              "       [0.5708952 ],\n",
              "       [0.41231346],\n",
              "       [0.35634327],\n",
              "       [0.4235077 ],\n",
              "       [0.4384327 ],\n",
              "       [0.5354471 ],\n",
              "       [0.47388077],\n",
              "       [0.42723942],\n",
              "       [0.44029903],\n",
              "       [0.39179134],\n",
              "       [0.42164135],\n",
              "       [0.389925  ],\n",
              "       [0.35074615],\n",
              "       [0.35820866],\n",
              "       [0.34328365],\n",
              "       [0.33022404],\n",
              "       [0.30783558],\n",
              "       [0.27611923],\n",
              "       [0.27611923],\n",
              "       [0.41231346],\n",
              "       [0.47574615],\n",
              "       [0.5037308 ],\n",
              "       [0.4141798 ],\n",
              "       [0.44962692],\n",
              "       [0.44216347],\n",
              "       [0.6007471 ],\n",
              "       [0.5970144 ],\n",
              "       [0.6044779 ],\n",
              "       [0.63992596],\n",
              "       [0.59514904],\n",
              "       [0.5970144 ],\n",
              "       [0.5970144 ],\n",
              "       [0.46455193],\n",
              "       [0.6361933 ],\n",
              "       [0.43470097],\n",
              "       [0.34701538],\n",
              "       [0.44216347],\n",
              "       [0.3656721 ],\n",
              "       [0.4440298 ],\n",
              "       [0.67723846],\n",
              "       [0.37126827],\n",
              "       [0.3526125 ],\n",
              "       [0.36380577],\n",
              "       [0.70522404],\n",
              "       [0.38059807],\n",
              "       [0.35074615],\n",
              "       [0.35820866],\n",
              "       [0.46082115],\n",
              "       [0.40298462],\n",
              "       [0.47761154],\n",
              "       [0.32649326],\n",
              "       [0.32649326],\n",
              "       [0.45708942],\n",
              "       [0.42910385],\n",
              "       [0.43283653],\n",
              "       [0.30970097],\n",
              "       [0.33022404],\n",
              "       [0.7630596 ],\n",
              "       [0.48320866]], dtype=float32)"
            ]
          },
          "metadata": {},
          "execution_count": 60
        }
      ]
    },
    {
      "cell_type": "code",
      "metadata": {
        "id": "16f8960e"
      },
      "source": [
        "##Splitting\n",
        "one_year_split_point = round(len(one_year_lstm)*(3/4))\n",
        "one_year_lstm_train = one_year_lstm[:one_year_split_point]\n",
        "one_year_lstm_len_train = len(one_year_lstm_train)\n",
        "one_year_lstm_test = one_year_lstm[one_year_split_point:]\n",
        "one_year_lstm_len_test = len(one_year_lstm_test)"
      ],
      "id": "16f8960e",
      "execution_count": null,
      "outputs": []
    },
    {
      "cell_type": "code",
      "metadata": {
        "id": "2dc52a2f",
        "colab": {
          "base_uri": "https://localhost:8080/"
        },
        "outputId": "2aace456-1f9c-422b-b6db-a5750cc94621"
      },
      "source": [
        "print(one_year_lstm_train.shape)\n",
        "print(one_year_lstm_test.shape)"
      ],
      "id": "2dc52a2f",
      "execution_count": null,
      "outputs": [
        {
          "output_type": "stream",
          "text": [
            "(196, 1)\n",
            "(66, 1)\n"
          ],
          "name": "stdout"
        }
      ]
    },
    {
      "cell_type": "code",
      "metadata": {
        "id": "d336b40c"
      },
      "source": [
        "## Transformation\n",
        "def get_data_one_year(data_one_year_lstm, look_back_one_year):\n",
        "  datax, datay = [],[]\n",
        "  for i in range(len(data_one_year_lstm)-look_back_one_year-1):\n",
        "    datax.append(data_one_year_lstm[i:(i+look_back_one_year),0])\n",
        "    datay.append(data_one_year_lstm[i+look_back_one_year,0])\n",
        "  return np.array(datax) , np.array(datay)"
      ],
      "id": "d336b40c",
      "execution_count": null,
      "outputs": []
    },
    {
      "cell_type": "code",
      "metadata": {
        "id": "f3df37bb",
        "colab": {
          "base_uri": "https://localhost:8080/"
        },
        "outputId": "1ad7284d-f8ec-499a-ebe2-333910623509"
      },
      "source": [
        "look_back_one_year = 1\n",
        "\n",
        "x_train_one_year , y_train_one_year = get_data_one_year(one_year_lstm_train, look_back_one_year)\n",
        "print(x_train_one_year.shape)\n",
        "print(y_train_one_year.shape)"
      ],
      "id": "f3df37bb",
      "execution_count": null,
      "outputs": [
        {
          "output_type": "stream",
          "text": [
            "(194, 1)\n",
            "(194,)\n"
          ],
          "name": "stdout"
        }
      ]
    },
    {
      "cell_type": "code",
      "metadata": {
        "id": "fbdfdc4e",
        "colab": {
          "base_uri": "https://localhost:8080/"
        },
        "outputId": "7529d5a9-4d72-4980-fbea-4bb41b73b312"
      },
      "source": [
        "x_test_one_year , y_test_one_year = get_data_one_year(one_year_lstm_test, look_back_one_year)\n",
        "print(x_test_one_year.shape)\n",
        "print(y_test_one_year.shape)"
      ],
      "id": "fbdfdc4e",
      "execution_count": null,
      "outputs": [
        {
          "output_type": "stream",
          "text": [
            "(64, 1)\n",
            "(64,)\n"
          ],
          "name": "stdout"
        }
      ]
    },
    {
      "cell_type": "code",
      "metadata": {
        "id": "8402517e"
      },
      "source": [
        "#Processing train and test sets for LSTM model\n",
        "x_train_one_year = x_train_one_year.reshape(x_train_one_year.shape[0],x_train_one_year.shape[1], 1)\n",
        "x_test_one_year = x_test_one_year.reshape(x_test_one_year.shape[0],x_test_one_year.shape[1], 1)"
      ],
      "id": "8402517e",
      "execution_count": null,
      "outputs": []
    },
    {
      "cell_type": "code",
      "metadata": {
        "id": "713c667b",
        "colab": {
          "base_uri": "https://localhost:8080/"
        },
        "outputId": "4c156e9c-8462-4bec-c213-d28866498244"
      },
      "source": [
        "print(x_train_one_year.shape)\n",
        "print(x_test_one_year.shape)"
      ],
      "id": "713c667b",
      "execution_count": null,
      "outputs": [
        {
          "output_type": "stream",
          "text": [
            "(194, 1, 1)\n",
            "(64, 1, 1)\n"
          ],
          "name": "stdout"
        }
      ]
    },
    {
      "cell_type": "code",
      "metadata": {
        "id": "a4b58980"
      },
      "source": [
        "## Model\n",
        "n_features_one_year=x_train_one_year.shape[1]\n",
        "model_one_year=Sequential()\n",
        "model_one_year.add(LSTM(100,activation='relu',input_shape=(1,1)))\n",
        "model_one_year.add(Dense(n_features_one_year))"
      ],
      "id": "a4b58980",
      "execution_count": null,
      "outputs": []
    },
    {
      "cell_type": "code",
      "metadata": {
        "id": "6c769eff",
        "colab": {
          "base_uri": "https://localhost:8080/"
        },
        "outputId": "7fb731a2-6e99-4a22-dddc-0d568566df08"
      },
      "source": [
        "model_one_year.summary()"
      ],
      "id": "6c769eff",
      "execution_count": null,
      "outputs": [
        {
          "output_type": "stream",
          "text": [
            "Model: \"sequential_1\"\n",
            "_________________________________________________________________\n",
            "Layer (type)                 Output Shape              Param #   \n",
            "=================================================================\n",
            "lstm_1 (LSTM)                (None, 100)               40800     \n",
            "_________________________________________________________________\n",
            "dense_1 (Dense)              (None, 1)                 101       \n",
            "=================================================================\n",
            "Total params: 40,901\n",
            "Trainable params: 40,901\n",
            "Non-trainable params: 0\n",
            "_________________________________________________________________\n"
          ],
          "name": "stdout"
        }
      ]
    },
    {
      "cell_type": "code",
      "metadata": {
        "id": "1dfc5018"
      },
      "source": [
        "## Compilation\n",
        "model_one_year.compile(optimizer='adam', loss = 'mse')"
      ],
      "id": "1dfc5018",
      "execution_count": null,
      "outputs": []
    },
    {
      "cell_type": "code",
      "metadata": {
        "id": "9a30360c",
        "colab": {
          "base_uri": "https://localhost:8080/"
        },
        "outputId": "6c8b24ae-9458-48b3-a482-9742be4d9a34"
      },
      "source": [
        "#Training\n",
        "model_one_year.fit(x_train_one_year,y_train_one_year, epochs = 5, batch_size=1)"
      ],
      "id": "9a30360c",
      "execution_count": null,
      "outputs": [
        {
          "output_type": "stream",
          "text": [
            "Epoch 1/5\n",
            "194/194 [==============================] - 1s 2ms/step - loss: 0.0990\n",
            "Epoch 2/5\n",
            "194/194 [==============================] - 0s 2ms/step - loss: 0.0270\n",
            "Epoch 3/5\n",
            "194/194 [==============================] - 0s 2ms/step - loss: 0.0264\n",
            "Epoch 4/5\n",
            "194/194 [==============================] - 0s 2ms/step - loss: 0.0261\n",
            "Epoch 5/5\n",
            "194/194 [==============================] - 0s 2ms/step - loss: 0.0262\n"
          ],
          "name": "stdout"
        },
        {
          "output_type": "execute_result",
          "data": {
            "text/plain": [
              "<keras.callbacks.History at 0x7f40c34729d0>"
            ]
          },
          "metadata": {},
          "execution_count": 71
        }
      ]
    },
    {
      "cell_type": "code",
      "metadata": {
        "id": "dadc8535",
        "colab": {
          "base_uri": "https://localhost:8080/"
        },
        "outputId": "0ca1c234-8fd6-486d-fea4-af4511e50198"
      },
      "source": [
        "#Prediction using the trained model\n",
        "scaler.scale_"
      ],
      "id": "dadc8535",
      "execution_count": null,
      "outputs": [
        {
          "output_type": "execute_result",
          "data": {
            "text/plain": [
              "array([0.18656714], dtype=float32)"
            ]
          },
          "metadata": {},
          "execution_count": 72
        }
      ]
    },
    {
      "cell_type": "code",
      "metadata": {
        "id": "128435a8",
        "colab": {
          "base_uri": "https://localhost:8080/"
        },
        "outputId": "bd3c6a87-d561-4d23-9c31-a75edc3111b3"
      },
      "source": [
        "y_pred_one_year = model_one_year.predict(x_test_one_year)\n",
        "y_pred_one_year = scaler.inverse_transform(y_pred_one_year)\n",
        "print(y_pred_one_year[:30])"
      ],
      "id": "128435a8",
      "execution_count": null,
      "outputs": [
        {
          "output_type": "stream",
          "text": [
            "[[74.57138 ]\n",
            " [74.40715 ]\n",
            " [74.333824]\n",
            " [74.21967 ]\n",
            " [74.13236 ]\n",
            " [74.08644 ]\n",
            " [73.87506 ]\n",
            " [73.84029 ]\n",
            " [73.42847 ]\n",
            " [73.28768 ]\n",
            " [73.45691 ]\n",
            " [73.49497 ]\n",
            " [73.74657 ]\n",
            " [73.586075]\n",
            " [73.46641 ]\n",
            " [73.49975 ]\n",
            " [73.376564]\n",
            " [73.452156]\n",
            " [73.371864]\n",
            " [73.27373 ]\n",
            " [73.29233 ]\n",
            " [73.255165]\n",
            " [73.222786]\n",
            " [73.16757 ]\n",
            " [73.09001 ]\n",
            " [73.09001 ]\n",
            " [73.42847 ]\n",
            " [73.5909  ]\n",
            " [73.66353 ]\n",
            " [73.4332  ]]\n"
          ],
          "name": "stdout"
        }
      ]
    },
    {
      "cell_type": "code",
      "metadata": {
        "colab": {
          "base_uri": "https://localhost:8080/"
        },
        "id": "dcImIHw2TZSk",
        "outputId": "00134664-59b6-4ada-caea-d1bc564e5836"
      },
      "source": [
        "y_pred_one_year"
      ],
      "id": "dcImIHw2TZSk",
      "execution_count": null,
      "outputs": [
        {
          "output_type": "execute_result",
          "data": {
            "text/plain": [
              "array([[74.57138 ],\n",
              "       [74.40715 ],\n",
              "       [74.333824],\n",
              "       [74.21967 ],\n",
              "       [74.13236 ],\n",
              "       [74.08644 ],\n",
              "       [73.87506 ],\n",
              "       [73.84029 ],\n",
              "       [73.42847 ],\n",
              "       [73.28768 ],\n",
              "       [73.45691 ],\n",
              "       [73.49497 ],\n",
              "       [73.74657 ],\n",
              "       [73.586075],\n",
              "       [73.46641 ],\n",
              "       [73.49975 ],\n",
              "       [73.376564],\n",
              "       [73.452156],\n",
              "       [73.371864],\n",
              "       [73.27373 ],\n",
              "       [73.29233 ],\n",
              "       [73.255165],\n",
              "       [73.222786],\n",
              "       [73.16757 ],\n",
              "       [73.09001 ],\n",
              "       [73.09001 ],\n",
              "       [73.42847 ],\n",
              "       [73.5909  ],\n",
              "       [73.66353 ],\n",
              "       [73.4332  ],\n",
              "       [73.52364 ],\n",
              "       [73.50452 ],\n",
              "       [73.91997 ],\n",
              "       [73.909966],\n",
              "       [73.92997 ],\n",
              "       [74.02557 ],\n",
              "       [73.904976],\n",
              "       [73.909966],\n",
              "       [73.909966],\n",
              "       [73.56201 ],\n",
              "       [74.015465],\n",
              "       [73.48544 ],\n",
              "       [73.26444 ],\n",
              "       [73.50452 ],\n",
              "       [73.310974],\n",
              "       [73.50929 ],\n",
              "       [74.12724 ],\n",
              "       [73.32499 ],\n",
              "       [73.27837 ],\n",
              "       [73.30631 ],\n",
              "       [74.20421 ],\n",
              "       [73.3484  ],\n",
              "       [73.27373 ],\n",
              "       [73.29233 ],\n",
              "       [73.5524  ],\n",
              "       [73.40483 ],\n",
              "       [73.59572 ],\n",
              "       [73.21356 ],\n",
              "       [73.21356 ],\n",
              "       [73.5428  ],\n",
              "       [73.47116 ],\n",
              "       [73.48068 ],\n",
              "       [73.172165],\n",
              "       [73.222786]], dtype=float32)"
            ]
          },
          "metadata": {},
          "execution_count": 74
        }
      ]
    },
    {
      "cell_type": "code",
      "metadata": {
        "id": "6bdb2a4e",
        "colab": {
          "base_uri": "https://localhost:8080/"
        },
        "outputId": "cea3e4a4-d03b-48fc-b072-e79ed9c9fc6c"
      },
      "source": [
        "#Processing test shape\n",
        "y_test_one_year = np.array(y_test_one_year).reshape(-1,1)\n",
        "y_test_one_year = scaler.inverse_transform(y_test_one_year)\n",
        "print(y_test_one_year[:30])"
      ],
      "id": "6bdb2a4e",
      "execution_count": null,
      "outputs": [
        {
          "output_type": "stream",
          "text": [
            "[[75.11]\n",
            " [74.97]\n",
            " [74.75]\n",
            " [74.58]\n",
            " [74.49]\n",
            " [74.07]\n",
            " [74.  ]\n",
            " [73.15]\n",
            " [72.85]\n",
            " [73.21]\n",
            " [73.29]\n",
            " [73.81]\n",
            " [73.48]\n",
            " [73.23]\n",
            " [73.3 ]\n",
            " [73.04]\n",
            " [73.2 ]\n",
            " [73.03]\n",
            " [72.82]\n",
            " [72.86]\n",
            " [72.78]\n",
            " [72.71]\n",
            " [72.59]\n",
            " [72.42]\n",
            " [72.42]\n",
            " [73.15]\n",
            " [73.49]\n",
            " [73.64]\n",
            " [73.16]\n",
            " [73.35]]\n"
          ],
          "name": "stdout"
        }
      ]
    },
    {
      "cell_type": "code",
      "metadata": {
        "id": "336d3256",
        "colab": {
          "base_uri": "https://localhost:8080/",
          "height": 516
        },
        "outputId": "70ecfa45-977a-4c02-c7b6-a840f6a53107"
      },
      "source": [
        "### Visualizing\n",
        "plt.figure(figsize=(10,8))\n",
        "plt.title('Foreign Exchange Rate of India')\n",
        "plt.plot(y_test_one_year , label = 'Actual', color = 'k', linewidth=6)\n",
        "plt.plot(y_pred_one_year , label = 'Predicted', color = 'b', linewidth=1)\n",
        "plt.legend()"
      ],
      "id": "336d3256",
      "execution_count": null,
      "outputs": [
        {
          "output_type": "execute_result",
          "data": {
            "text/plain": [
              "<matplotlib.legend.Legend at 0x7f40c0e96dd0>"
            ]
          },
          "metadata": {},
          "execution_count": 76
        },
        {
          "output_type": "display_data",
          "data": {
            "image/png": "[encoded data removed]",
            "text/plain": [
              "<Figure size 720x576 with 1 Axes>"
            ]
          },
          "metadata": {
            "needs_background": "light"
          }
        }
      ]
    },
    {
      "cell_type": "code",
      "metadata": {
        "id": "98dcbc25",
        "colab": {
          "base_uri": "https://localhost:8080/"
        },
        "outputId": "de6f098e-4bd5-46fe-8e4d-ea81a18ad092"
      },
      "source": [
        "## Mean Square Error\n",
        "mean_squared_error(y_test_one_year, y_pred_one_year)"
      ],
      "id": "98dcbc25",
      "execution_count": null,
      "outputs": [
        {
          "output_type": "execute_result",
          "data": {
            "text/plain": [
              "0.33060086"
            ]
          },
          "metadata": {},
          "execution_count": 77
        }
      ]
    },
    {
      "cell_type": "code",
      "metadata": {
        "id": "fiSC2ykjS0Uf"
      },
      "source": [
        "from sklearn.metrics import accuracy_score, confusion_matrix,classification_report, r2_score,mean_absolute_error,mean_squared_error\n",
        "from math import sqrt"
      ],
      "id": "fiSC2ykjS0Uf",
      "execution_count": null,
      "outputs": []
    },
    {
      "cell_type": "code",
      "metadata": {
        "colab": {
          "base_uri": "https://localhost:8080/"
        },
        "id": "EbU992bJSZa4",
        "outputId": "7a8a27d4-52b9-49e8-ca49-90c2ff45a31f"
      },
      "source": [
        "rmse = sqrt(mean_squared_error(y_test_one_year,y_pred_one_year))\n",
        "print(rmse)"
      ],
      "id": "EbU992bJSZa4",
      "execution_count": null,
      "outputs": [
        {
          "output_type": "stream",
          "text": [
            "0.5749790063425622\n"
          ],
          "name": "stdout"
        }
      ]
    }
  ]
}