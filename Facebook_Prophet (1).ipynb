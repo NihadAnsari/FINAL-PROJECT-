{
  "nbformat": 4,
  "nbformat_minor": 0,
  "metadata": {
    "colab": {
      "name": "Facebook_Prophet.ipynb",
      "provenance": [],
      "collapsed_sections": []
    },
    "kernelspec": {
      "display_name": "Python 3",
      "name": "python3"
    },
    "language_info": {
      "name": "python"
    },
    "widgets": {
      "application/vnd.jupyter.widget-state+json": {
        "67d163a7d8d2464abf329e98167f56bf": {
          "model_module": "@jupyter-widgets/controls",
          "model_name": "HBoxModel",
          "model_module_version": "1.5.0",
          "state": {
            "_dom_classes": [],
            "_model_module": "@jupyter-widgets/controls",
            "_model_module_version": "1.5.0",
            "_model_name": "HBoxModel",
            "_view_count": null,
            "_view_module": "@jupyter-widgets/controls",
            "_view_module_version": "1.5.0",
            "_view_name": "HBoxView",
            "box_style": "",
            "children": [
              "IPY_MODEL_3a6674cd503943aa9d8ab83afdc1d5f3",
              "IPY_MODEL_fc64af73e93a46eeb4920c7d9a8be80d"
            ],
            "layout": "IPY_MODEL_033a900285a842bc84675d4cd35bd70b"
          }
        },
        "3a6674cd503943aa9d8ab83afdc1d5f3": {
          "model_module": "@jupyter-widgets/controls",
          "model_name": "FloatProgressModel",
          "model_module_version": "1.5.0",
          "state": {
            "_dom_classes": [],
            "_model_module": "@jupyter-widgets/controls",
            "_model_module_version": "1.5.0",
            "_model_name": "FloatProgressModel",
            "_view_count": null,
            "_view_module": "@jupyter-widgets/controls",
            "_view_module_version": "1.5.0",
            "_view_name": "ProgressView",
            "bar_style": "success",
            "description": "100%",
            "description_tooltip": null,
            "layout": "IPY_MODEL_71bfd93aa99b4ca7aba0039f85e82655",
            "max": 554,
            "min": 0,
            "orientation": "horizontal",
            "style": "IPY_MODEL_f1923f5fb26646178343e9a0a419e043",
            "value": 554
          }
        },
        "fc64af73e93a46eeb4920c7d9a8be80d": {
          "model_module": "@jupyter-widgets/controls",
          "model_name": "HTMLModel",
          "model_module_version": "1.5.0",
          "state": {
            "_dom_classes": [],
            "_model_module": "@jupyter-widgets/controls",
            "_model_module_version": "1.5.0",
            "_model_name": "HTMLModel",
            "_view_count": null,
            "_view_module": "@jupyter-widgets/controls",
            "_view_module_version": "1.5.0",
            "_view_name": "HTMLView",
            "description": "",
            "description_tooltip": null,
            "layout": "IPY_MODEL_9ec8e183194a4a7fba964d20a9e2ad88",
            "placeholder": "​",
            "style": "IPY_MODEL_33ccdccdc00949ec90a30532503b3170",
            "value": " 554/554 [2:27:50&lt;00:00, 16.01s/it]"
          }
        },
        "033a900285a842bc84675d4cd35bd70b": {
          "model_module": "@jupyter-widgets/base",
          "model_name": "LayoutModel",
          "model_module_version": "1.2.0",
          "state": {
            "_model_module": "@jupyter-widgets/base",
            "_model_module_version": "1.2.0",
            "_model_name": "LayoutModel",
            "_view_count": null,
            "_view_module": "@jupyter-widgets/base",
            "_view_module_version": "1.2.0",
            "_view_name": "LayoutView",
            "align_content": null,
            "align_items": null,
            "align_self": null,
            "border": null,
            "bottom": null,
            "display": null,
            "flex": null,
            "flex_flow": null,
            "grid_area": null,
            "grid_auto_columns": null,
            "grid_auto_flow": null,
            "grid_auto_rows": null,
            "grid_column": null,
            "grid_gap": null,
            "grid_row": null,
            "grid_template_areas": null,
            "grid_template_columns": null,
            "grid_template_rows": null,
            "height": null,
            "justify_content": null,
            "justify_items": null,
            "left": null,
            "margin": null,
            "max_height": null,
            "max_width": null,
            "min_height": null,
            "min_width": null,
            "object_fit": null,
            "object_position": null,
            "order": null,
            "overflow": null,
            "overflow_x": null,
            "overflow_y": null,
            "padding": null,
            "right": null,
            "top": null,
            "visibility": null,
            "width": null
          }
        },
        "71bfd93aa99b4ca7aba0039f85e82655": {
          "model_module": "@jupyter-widgets/base",
          "model_name": "LayoutModel",
          "model_module_version": "1.2.0",
          "state": {
            "_model_module": "@jupyter-widgets/base",
            "_model_module_version": "1.2.0",
            "_model_name": "LayoutModel",
            "_view_count": null,
            "_view_module": "@jupyter-widgets/base",
            "_view_module_version": "1.2.0",
            "_view_name": "LayoutView",
            "align_content": null,
            "align_items": null,
            "align_self": null,
            "border": null,
            "bottom": null,
            "display": null,
            "flex": null,
            "flex_flow": null,
            "grid_area": null,
            "grid_auto_columns": null,
            "grid_auto_flow": null,
            "grid_auto_rows": null,
            "grid_column": null,
            "grid_gap": null,
            "grid_row": null,
            "grid_template_areas": null,
            "grid_template_columns": null,
            "grid_template_rows": null,
            "height": null,
            "justify_content": null,
            "justify_items": null,
            "left": null,
            "margin": null,
            "max_height": null,
            "max_width": null,
            "min_height": null,
            "min_width": null,
            "object_fit": null,
            "object_position": null,
            "order": null,
            "overflow": null,
            "overflow_x": null,
            "overflow_y": null,
            "padding": null,
            "right": null,
            "top": null,
            "visibility": null,
            "width": null
          }
        },
        "f1923f5fb26646178343e9a0a419e043": {
          "model_module": "@jupyter-widgets/controls",
          "model_name": "ProgressStyleModel",
          "model_module_version": "1.5.0",
          "state": {
            "_model_module": "@jupyter-widgets/controls",
            "_model_module_version": "1.5.0",
            "_model_name": "ProgressStyleModel",
            "_view_count": null,
            "_view_module": "@jupyter-widgets/base",
            "_view_module_version": "1.2.0",
            "_view_name": "StyleView",
            "bar_color": null,
            "description_width": "initial"
          }
        },
        "9ec8e183194a4a7fba964d20a9e2ad88": {
          "model_module": "@jupyter-widgets/base",
          "model_name": "LayoutModel",
          "model_module_version": "1.2.0",
          "state": {
            "_model_module": "@jupyter-widgets/base",
            "_model_module_version": "1.2.0",
            "_model_name": "LayoutModel",
            "_view_count": null,
            "_view_module": "@jupyter-widgets/base",
            "_view_module_version": "1.2.0",
            "_view_name": "LayoutView",
            "align_content": null,
            "align_items": null,
            "align_self": null,
            "border": null,
            "bottom": null,
            "display": null,
            "flex": null,
            "flex_flow": null,
            "grid_area": null,
            "grid_auto_columns": null,
            "grid_auto_flow": null,
            "grid_auto_rows": null,
            "grid_column": null,
            "grid_gap": null,
            "grid_row": null,
            "grid_template_areas": null,
            "grid_template_columns": null,
            "grid_template_rows": null,
            "height": null,
            "justify_content": null,
            "justify_items": null,
            "left": null,
            "margin": null,
            "max_height": null,
            "max_width": null,
            "min_height": null,
            "min_width": null,
            "object_fit": null,
            "object_position": null,
            "order": null,
            "overflow": null,
            "overflow_x": null,
            "overflow_y": null,
            "padding": null,
            "right": null,
            "top": null,
            "visibility": null,
            "width": null
          }
        },
        "33ccdccdc00949ec90a30532503b3170": {
          "model_module": "@jupyter-widgets/controls",
          "model_name": "DescriptionStyleModel",
          "model_module_version": "1.5.0",
          "state": {
            "_model_module": "@jupyter-widgets/controls",
            "_model_module_version": "1.5.0",
            "_model_name": "DescriptionStyleModel",
            "_view_count": null,
            "_view_module": "@jupyter-widgets/base",
            "_view_module_version": "1.2.0",
            "_view_name": "StyleView",
            "description_width": ""
          }
        }
      }
    }
  },
  "cells": [
    {
      "cell_type": "code",
      "metadata": {
        "id": "fK_wol_Z5HAV"
      },
      "source": [
        "### pip install pystan\n",
        "### conda install -c conda-forge fbprophet \n",
        "import pandas as pd\n",
        "import fbprophet\n",
        "import matplotlib.pyplot as plt\n",
        "%matplotlib inline\n",
        "import seaborn as sns\n",
        "sns.set(style='white')\n",
        "from statsmodels.tsa.stattools import adfuller\n",
        "import numpy as np\n"
      ],
      "execution_count": null,
      "outputs": []
    },
    {
      "cell_type": "code",
      "metadata": {
        "id": "JL0ttXtu5cbz"
      },
      "source": [
        "from fbprophet import Prophet"
      ],
      "execution_count": null,
      "outputs": []
    },
    {
      "cell_type": "code",
      "metadata": {
        "colab": {
          "base_uri": "https://localhost:8080/"
        },
        "id": "hpinLWI75zmA",
        "outputId": "d3fd34e1-0e08-4dc4-88e1-6626d8df651a"
      },
      "source": [
        "dir(Prophet)"
      ],
      "execution_count": null,
      "outputs": [
        {
          "output_type": "execute_result",
          "data": {
            "text/plain": [
              "['__class__',\n",
              " '__delattr__',\n",
              " '__dict__',\n",
              " '__dir__',\n",
              " '__doc__',\n",
              " '__eq__',\n",
              " '__format__',\n",
              " '__ge__',\n",
              " '__getattribute__',\n",
              " '__gt__',\n",
              " '__hash__',\n",
              " '__init__',\n",
              " '__init_subclass__',\n",
              " '__le__',\n",
              " '__lt__',\n",
              " '__module__',\n",
              " '__ne__',\n",
              " '__new__',\n",
              " '__reduce__',\n",
              " '__reduce_ex__',\n",
              " '__repr__',\n",
              " '__setattr__',\n",
              " '__sizeof__',\n",
              " '__str__',\n",
              " '__subclasshook__',\n",
              " '__weakref__',\n",
              " '_load_stan_backend',\n",
              " 'add_country_holidays',\n",
              " 'add_group_component',\n",
              " 'add_regressor',\n",
              " 'add_seasonality',\n",
              " 'construct_holiday_dataframe',\n",
              " 'fit',\n",
              " 'flat_growth_init',\n",
              " 'flat_trend',\n",
              " 'fourier_series',\n",
              " 'initialize_scales',\n",
              " 'linear_growth_init',\n",
              " 'logistic_growth_init',\n",
              " 'make_all_seasonality_features',\n",
              " 'make_future_dataframe',\n",
              " 'make_holiday_features',\n",
              " 'make_seasonality_features',\n",
              " 'parse_seasonality_args',\n",
              " 'percentile',\n",
              " 'piecewise_linear',\n",
              " 'piecewise_logistic',\n",
              " 'plot',\n",
              " 'plot_components',\n",
              " 'predict',\n",
              " 'predict_seasonal_components',\n",
              " 'predict_trend',\n",
              " 'predict_uncertainty',\n",
              " 'predictive_samples',\n",
              " 'regressor_column_matrix',\n",
              " 'sample_model',\n",
              " 'sample_posterior_predictive',\n",
              " 'sample_predictive_trend',\n",
              " 'set_auto_seasonalities',\n",
              " 'set_changepoints',\n",
              " 'setup_dataframe',\n",
              " 'validate_column_name',\n",
              " 'validate_inputs']"
            ]
          },
          "metadata": {
            "tags": []
          },
          "execution_count": 4
        }
      ]
    },
    {
      "cell_type": "code",
      "metadata": {
        "id": "hm0qqTyH53vI"
      },
      "source": [
        "data = pd.read_excel(\"/content/DEXINUS (1).xls\",skiprows=range(0,10))"
      ],
      "execution_count": null,
      "outputs": []
    },
    {
      "cell_type": "code",
      "metadata": {
        "colab": {
          "base_uri": "https://localhost:8080/",
          "height": 204
        },
        "id": "HoczvLAu6Llb",
        "outputId": "82a79c67-2069-44d8-b562-af6e250a0eac"
      },
      "source": [
        "data.head()"
      ],
      "execution_count": null,
      "outputs": [
        {
          "output_type": "execute_result",
          "data": {
            "text/html": [
              "<div>\n",
              "<style scoped>\n",
              "    .dataframe tbody tr th:only-of-type {\n",
              "        vertical-align: middle;\n",
              "    }\n",
              "\n",
              "    .dataframe tbody tr th {\n",
              "        vertical-align: top;\n",
              "    }\n",
              "\n",
              "    .dataframe thead th {\n",
              "        text-align: right;\n",
              "    }\n",
              "</style>\n",
              "<table border=\"1\" class=\"dataframe\">\n",
              "  <thead>\n",
              "    <tr style=\"text-align: right;\">\n",
              "      <th></th>\n",
              "      <th>observation_date</th>\n",
              "      <th>DEXINUS</th>\n",
              "    </tr>\n",
              "  </thead>\n",
              "  <tbody>\n",
              "    <tr>\n",
              "      <th>0</th>\n",
              "      <td>1973-01-02</td>\n",
              "      <td>8.02</td>\n",
              "    </tr>\n",
              "    <tr>\n",
              "      <th>1</th>\n",
              "      <td>1973-01-03</td>\n",
              "      <td>8.02</td>\n",
              "    </tr>\n",
              "    <tr>\n",
              "      <th>2</th>\n",
              "      <td>1973-01-04</td>\n",
              "      <td>8.00</td>\n",
              "    </tr>\n",
              "    <tr>\n",
              "      <th>3</th>\n",
              "      <td>1973-01-05</td>\n",
              "      <td>8.01</td>\n",
              "    </tr>\n",
              "    <tr>\n",
              "      <th>4</th>\n",
              "      <td>1973-01-08</td>\n",
              "      <td>8.00</td>\n",
              "    </tr>\n",
              "  </tbody>\n",
              "</table>\n",
              "</div>"
            ],
            "text/plain": [
              "  observation_date  DEXINUS\n",
              "0       1973-01-02     8.02\n",
              "1       1973-01-03     8.02\n",
              "2       1973-01-04     8.00\n",
              "3       1973-01-05     8.01\n",
              "4       1973-01-08     8.00"
            ]
          },
          "metadata": {
            "tags": []
          },
          "execution_count": 6
        }
      ]
    },
    {
      "cell_type": "code",
      "metadata": {
        "colab": {
          "base_uri": "https://localhost:8080/"
        },
        "id": "i9-qkQUN6PX5",
        "outputId": "efae0882-c9d7-4540-91a3-5c992da6eea6"
      },
      "source": [
        "data.dtypes"
      ],
      "execution_count": null,
      "outputs": [
        {
          "output_type": "execute_result",
          "data": {
            "text/plain": [
              "observation_date    datetime64[ns]\n",
              "DEXINUS                    float64\n",
              "dtype: object"
            ]
          },
          "metadata": {
            "tags": []
          },
          "execution_count": 7
        }
      ]
    },
    {
      "cell_type": "code",
      "metadata": {
        "id": "H36_M1hZ6jY8"
      },
      "source": [
        "data['observation_date'] = pd.to_datetime(data['observation_date'])"
      ],
      "execution_count": null,
      "outputs": []
    },
    {
      "cell_type": "code",
      "metadata": {
        "colab": {
          "base_uri": "https://localhost:8080/",
          "height": 204
        },
        "id": "6s4v2MbI8R5P",
        "outputId": "43554e23-ed41-470a-9cf5-576f562910f1"
      },
      "source": [
        "data.head()"
      ],
      "execution_count": null,
      "outputs": [
        {
          "output_type": "execute_result",
          "data": {
            "text/html": [
              "<div>\n",
              "<style scoped>\n",
              "    .dataframe tbody tr th:only-of-type {\n",
              "        vertical-align: middle;\n",
              "    }\n",
              "\n",
              "    .dataframe tbody tr th {\n",
              "        vertical-align: top;\n",
              "    }\n",
              "\n",
              "    .dataframe thead th {\n",
              "        text-align: right;\n",
              "    }\n",
              "</style>\n",
              "<table border=\"1\" class=\"dataframe\">\n",
              "  <thead>\n",
              "    <tr style=\"text-align: right;\">\n",
              "      <th></th>\n",
              "      <th>observation_date</th>\n",
              "      <th>DEXINUS</th>\n",
              "    </tr>\n",
              "  </thead>\n",
              "  <tbody>\n",
              "    <tr>\n",
              "      <th>0</th>\n",
              "      <td>1973-01-02</td>\n",
              "      <td>8.02</td>\n",
              "    </tr>\n",
              "    <tr>\n",
              "      <th>1</th>\n",
              "      <td>1973-01-03</td>\n",
              "      <td>8.02</td>\n",
              "    </tr>\n",
              "    <tr>\n",
              "      <th>2</th>\n",
              "      <td>1973-01-04</td>\n",
              "      <td>8.00</td>\n",
              "    </tr>\n",
              "    <tr>\n",
              "      <th>3</th>\n",
              "      <td>1973-01-05</td>\n",
              "      <td>8.01</td>\n",
              "    </tr>\n",
              "    <tr>\n",
              "      <th>4</th>\n",
              "      <td>1973-01-08</td>\n",
              "      <td>8.00</td>\n",
              "    </tr>\n",
              "  </tbody>\n",
              "</table>\n",
              "</div>"
            ],
            "text/plain": [
              "  observation_date  DEXINUS\n",
              "0       1973-01-02     8.02\n",
              "1       1973-01-03     8.02\n",
              "2       1973-01-04     8.00\n",
              "3       1973-01-05     8.01\n",
              "4       1973-01-08     8.00"
            ]
          },
          "metadata": {
            "tags": []
          },
          "execution_count": 9
        }
      ]
    },
    {
      "cell_type": "code",
      "metadata": {
        "colab": {
          "base_uri": "https://localhost:8080/"
        },
        "id": "zfYjyrsG8V8n",
        "outputId": "e1c07385-595c-4590-c24c-f1af86d8be98"
      },
      "source": [
        "data.info()"
      ],
      "execution_count": null,
      "outputs": [
        {
          "output_type": "stream",
          "text": [
            "<class 'pandas.core.frame.DataFrame'>\n",
            "RangeIndex: 12649 entries, 0 to 12648\n",
            "Data columns (total 2 columns):\n",
            " #   Column            Non-Null Count  Dtype         \n",
            "---  ------            --------------  -----         \n",
            " 0   observation_date  12649 non-null  datetime64[ns]\n",
            " 1   DEXINUS           12155 non-null  float64       \n",
            "dtypes: datetime64[ns](1), float64(1)\n",
            "memory usage: 197.8 KB\n"
          ],
          "name": "stdout"
        }
      ]
    },
    {
      "cell_type": "code",
      "metadata": {
        "colab": {
          "base_uri": "https://localhost:8080/"
        },
        "id": "SfHDBjsI834l",
        "outputId": "4b6e0bc9-e947-428c-c867-771da35adfcf"
      },
      "source": [
        "data.isnull().sum()"
      ],
      "execution_count": null,
      "outputs": [
        {
          "output_type": "execute_result",
          "data": {
            "text/plain": [
              "observation_date      0\n",
              "DEXINUS             494\n",
              "dtype: int64"
            ]
          },
          "metadata": {
            "tags": []
          },
          "execution_count": 11
        }
      ]
    },
    {
      "cell_type": "code",
      "metadata": {
        "id": "ebqYhgwD5h71"
      },
      "source": [
        "bank = data.copy(deep=True)\n",
        "bank['DEXINUS'].fillna(method='ffill',inplace=True)"
      ],
      "execution_count": null,
      "outputs": []
    },
    {
      "cell_type": "code",
      "metadata": {
        "colab": {
          "base_uri": "https://localhost:8080/"
        },
        "id": "UNdtPHUg6bAs",
        "outputId": "45b440d0-bc05-43d1-8f80-39665b955607"
      },
      "source": [
        "bank.info()"
      ],
      "execution_count": null,
      "outputs": [
        {
          "output_type": "stream",
          "text": [
            "<class 'pandas.core.frame.DataFrame'>\n",
            "RangeIndex: 12649 entries, 0 to 12648\n",
            "Data columns (total 2 columns):\n",
            " #   Column            Non-Null Count  Dtype         \n",
            "---  ------            --------------  -----         \n",
            " 0   observation_date  12649 non-null  datetime64[ns]\n",
            " 1   DEXINUS           12649 non-null  float64       \n",
            "dtypes: datetime64[ns](1), float64(1)\n",
            "memory usage: 197.8 KB\n"
          ],
          "name": "stdout"
        }
      ]
    },
    {
      "cell_type": "code",
      "metadata": {
        "colab": {
          "base_uri": "https://localhost:8080/"
        },
        "id": "h3XDQZ3G9ix_",
        "outputId": "b84868da-d5b6-4f9d-eb65-a2e066795be4"
      },
      "source": [
        "bank.shape"
      ],
      "execution_count": null,
      "outputs": [
        {
          "output_type": "execute_result",
          "data": {
            "text/plain": [
              "(12649, 2)"
            ]
          },
          "metadata": {
            "tags": []
          },
          "execution_count": 14
        }
      ]
    },
    {
      "cell_type": "code",
      "metadata": {
        "colab": {
          "base_uri": "https://localhost:8080/"
        },
        "id": "EmlE55ak9r-c",
        "outputId": "691a6515-7f58-40fa-c5a9-cc93bc142692"
      },
      "source": [
        "bank.isnull().sum()"
      ],
      "execution_count": null,
      "outputs": [
        {
          "output_type": "execute_result",
          "data": {
            "text/plain": [
              "observation_date    0\n",
              "DEXINUS             0\n",
              "dtype: int64"
            ]
          },
          "metadata": {
            "tags": []
          },
          "execution_count": 15
        }
      ]
    },
    {
      "cell_type": "code",
      "metadata": {
        "colab": {
          "base_uri": "https://localhost:8080/"
        },
        "id": "m1zsrEdj-B3B",
        "outputId": "06b85940-4c4e-4abb-b47f-8e4097d21c6c"
      },
      "source": [
        "bank.columns"
      ],
      "execution_count": null,
      "outputs": [
        {
          "output_type": "execute_result",
          "data": {
            "text/plain": [
              "Index(['observation_date', 'DEXINUS'], dtype='object')"
            ]
          },
          "metadata": {
            "tags": []
          },
          "execution_count": 16
        }
      ]
    },
    {
      "cell_type": "code",
      "metadata": {
        "id": "HROaso8Q-J-l"
      },
      "source": [
        "### rename the columns\n",
        "bank.columns =['ds','y']"
      ],
      "execution_count": null,
      "outputs": []
    },
    {
      "cell_type": "code",
      "metadata": {
        "colab": {
          "base_uri": "https://localhost:8080/",
          "height": 204
        },
        "id": "Cid7Ny5R-UVd",
        "outputId": "e1af2bb0-1f7a-4577-88c9-4b613597ce21"
      },
      "source": [
        "bank.head()"
      ],
      "execution_count": null,
      "outputs": [
        {
          "output_type": "execute_result",
          "data": {
            "text/html": [
              "<div>\n",
              "<style scoped>\n",
              "    .dataframe tbody tr th:only-of-type {\n",
              "        vertical-align: middle;\n",
              "    }\n",
              "\n",
              "    .dataframe tbody tr th {\n",
              "        vertical-align: top;\n",
              "    }\n",
              "\n",
              "    .dataframe thead th {\n",
              "        text-align: right;\n",
              "    }\n",
              "</style>\n",
              "<table border=\"1\" class=\"dataframe\">\n",
              "  <thead>\n",
              "    <tr style=\"text-align: right;\">\n",
              "      <th></th>\n",
              "      <th>ds</th>\n",
              "      <th>y</th>\n",
              "    </tr>\n",
              "  </thead>\n",
              "  <tbody>\n",
              "    <tr>\n",
              "      <th>0</th>\n",
              "      <td>1973-01-02</td>\n",
              "      <td>8.02</td>\n",
              "    </tr>\n",
              "    <tr>\n",
              "      <th>1</th>\n",
              "      <td>1973-01-03</td>\n",
              "      <td>8.02</td>\n",
              "    </tr>\n",
              "    <tr>\n",
              "      <th>2</th>\n",
              "      <td>1973-01-04</td>\n",
              "      <td>8.00</td>\n",
              "    </tr>\n",
              "    <tr>\n",
              "      <th>3</th>\n",
              "      <td>1973-01-05</td>\n",
              "      <td>8.01</td>\n",
              "    </tr>\n",
              "    <tr>\n",
              "      <th>4</th>\n",
              "      <td>1973-01-08</td>\n",
              "      <td>8.00</td>\n",
              "    </tr>\n",
              "  </tbody>\n",
              "</table>\n",
              "</div>"
            ],
            "text/plain": [
              "          ds     y\n",
              "0 1973-01-02  8.02\n",
              "1 1973-01-03  8.02\n",
              "2 1973-01-04  8.00\n",
              "3 1973-01-05  8.01\n",
              "4 1973-01-08  8.00"
            ]
          },
          "metadata": {
            "tags": []
          },
          "execution_count": 18
        }
      ]
    },
    {
      "cell_type": "code",
      "metadata": {
        "id": "bmkQJQR--mD9"
      },
      "source": [
        "from pandas import to_datetime"
      ],
      "execution_count": null,
      "outputs": []
    },
    {
      "cell_type": "code",
      "metadata": {
        "id": "DPxGU2PT-v7e"
      },
      "source": [
        "bank['ds'] = pd.to_datetime(bank['ds'])"
      ],
      "execution_count": null,
      "outputs": []
    },
    {
      "cell_type": "code",
      "metadata": {
        "colab": {
          "base_uri": "https://localhost:8080/"
        },
        "id": "xNABN8G8-fwR",
        "outputId": "b601ea0b-8b98-49f1-b6b6-6107033b2592"
      },
      "source": [
        "bank.isnull().sum()"
      ],
      "execution_count": null,
      "outputs": [
        {
          "output_type": "execute_result",
          "data": {
            "text/plain": [
              "ds    0\n",
              "y     0\n",
              "dtype: int64"
            ]
          },
          "metadata": {
            "tags": []
          },
          "execution_count": 21
        }
      ]
    },
    {
      "cell_type": "code",
      "metadata": {
        "id": "irxAg6wG_-KE"
      },
      "source": [
        "### Initialize the model\n",
        "model=Prophet()"
      ],
      "execution_count": null,
      "outputs": []
    },
    {
      "cell_type": "code",
      "metadata": {
        "colab": {
          "base_uri": "https://localhost:8080/"
        },
        "id": "m0DFsDv9AOMv",
        "outputId": "9e017e9d-16aa-4f10-84f3-e69508284b7e"
      },
      "source": [
        "### Fit the model\n",
        "model.fit(bank)\n"
      ],
      "execution_count": null,
      "outputs": [
        {
          "output_type": "stream",
          "text": [
            "INFO:numexpr.utils:NumExpr defaulting to 2 threads.\n",
            "INFO:fbprophet:Disabling daily seasonality. Run prophet with daily_seasonality=True to override this.\n"
          ],
          "name": "stderr"
        },
        {
          "output_type": "execute_result",
          "data": {
            "text/plain": [
              "<fbprophet.forecaster.Prophet at 0x7fab4290b890>"
            ]
          },
          "metadata": {
            "tags": []
          },
          "execution_count": 23
        }
      ]
    },
    {
      "cell_type": "code",
      "metadata": {
        "colab": {
          "base_uri": "https://localhost:8080/"
        },
        "id": "EzQZJmgLAlAe",
        "outputId": "eb69f1b5-2f58-48e6-dcf8-cc9ba968937a"
      },
      "source": [
        "model.component_modes"
      ],
      "execution_count": null,
      "outputs": [
        {
          "output_type": "execute_result",
          "data": {
            "text/plain": [
              "{'additive': ['yearly',\n",
              "  'weekly',\n",
              "  'additive_terms',\n",
              "  'extra_regressors_additive',\n",
              "  'holidays'],\n",
              " 'multiplicative': ['multiplicative_terms', 'extra_regressors_multiplicative']}"
            ]
          },
          "metadata": {
            "tags": []
          },
          "execution_count": 24
        }
      ]
    },
    {
      "cell_type": "code",
      "metadata": {
        "colab": {
          "base_uri": "https://localhost:8080/"
        },
        "id": "f_5n55IxAed7",
        "outputId": "c6865e54-664a-4c94-d111-01488522b8c2"
      },
      "source": [
        "model.seasonalities"
      ],
      "execution_count": null,
      "outputs": [
        {
          "output_type": "execute_result",
          "data": {
            "text/plain": [
              "OrderedDict([('yearly',\n",
              "              {'condition_name': None,\n",
              "               'fourier_order': 10,\n",
              "               'mode': 'additive',\n",
              "               'period': 365.25,\n",
              "               'prior_scale': 10.0}),\n",
              "             ('weekly',\n",
              "              {'condition_name': None,\n",
              "               'fourier_order': 3,\n",
              "               'mode': 'additive',\n",
              "               'period': 7,\n",
              "               'prior_scale': 10.0})])"
            ]
          },
          "metadata": {
            "tags": []
          },
          "execution_count": 25
        }
      ]
    },
    {
      "cell_type": "markdown",
      "metadata": {
        "id": "MkqNEcrcAt-o"
      },
      "source": [
        "### **Creating future data for prediction**"
      ]
    },
    {
      "cell_type": "code",
      "metadata": {
        "id": "lrhugZXCAqIA"
      },
      "source": [
        "future_dates=model.make_future_dataframe(periods=30,freq='D')"
      ],
      "execution_count": null,
      "outputs": []
    },
    {
      "cell_type": "code",
      "metadata": {
        "colab": {
          "base_uri": "https://localhost:8080/",
          "height": 204
        },
        "id": "whJJ9_UABHM7",
        "outputId": "930a3ab6-9791-44e6-a8ad-ea8437ee71d5"
      },
      "source": [
        "future_dates.head()"
      ],
      "execution_count": null,
      "outputs": [
        {
          "output_type": "execute_result",
          "data": {
            "text/html": [
              "<div>\n",
              "<style scoped>\n",
              "    .dataframe tbody tr th:only-of-type {\n",
              "        vertical-align: middle;\n",
              "    }\n",
              "\n",
              "    .dataframe tbody tr th {\n",
              "        vertical-align: top;\n",
              "    }\n",
              "\n",
              "    .dataframe thead th {\n",
              "        text-align: right;\n",
              "    }\n",
              "</style>\n",
              "<table border=\"1\" class=\"dataframe\">\n",
              "  <thead>\n",
              "    <tr style=\"text-align: right;\">\n",
              "      <th></th>\n",
              "      <th>ds</th>\n",
              "    </tr>\n",
              "  </thead>\n",
              "  <tbody>\n",
              "    <tr>\n",
              "      <th>0</th>\n",
              "      <td>1973-01-02</td>\n",
              "    </tr>\n",
              "    <tr>\n",
              "      <th>1</th>\n",
              "      <td>1973-01-03</td>\n",
              "    </tr>\n",
              "    <tr>\n",
              "      <th>2</th>\n",
              "      <td>1973-01-04</td>\n",
              "    </tr>\n",
              "    <tr>\n",
              "      <th>3</th>\n",
              "      <td>1973-01-05</td>\n",
              "    </tr>\n",
              "    <tr>\n",
              "      <th>4</th>\n",
              "      <td>1973-01-08</td>\n",
              "    </tr>\n",
              "  </tbody>\n",
              "</table>\n",
              "</div>"
            ],
            "text/plain": [
              "          ds\n",
              "0 1973-01-02\n",
              "1 1973-01-03\n",
              "2 1973-01-04\n",
              "3 1973-01-05\n",
              "4 1973-01-08"
            ]
          },
          "metadata": {
            "tags": []
          },
          "execution_count": 27
        }
      ]
    },
    {
      "cell_type": "code",
      "metadata": {
        "colab": {
          "base_uri": "https://localhost:8080/"
        },
        "id": "mktAylU33Z76",
        "outputId": "4b5536aa-b653-4996-ad05-050ed7096c01"
      },
      "source": [
        "bank.shape"
      ],
      "execution_count": null,
      "outputs": [
        {
          "output_type": "execute_result",
          "data": {
            "text/plain": [
              "(12649, 2)"
            ]
          },
          "metadata": {
            "tags": []
          },
          "execution_count": 28
        }
      ]
    },
    {
      "cell_type": "code",
      "metadata": {
        "colab": {
          "base_uri": "https://localhost:8080/"
        },
        "id": "20mvJzPbBQU5",
        "outputId": "1bf0bf92-dd2c-4d42-e5c9-c37a38b88b9b"
      },
      "source": [
        "future_dates.shape"
      ],
      "execution_count": null,
      "outputs": [
        {
          "output_type": "execute_result",
          "data": {
            "text/plain": [
              "(12679, 1)"
            ]
          },
          "metadata": {
            "tags": []
          },
          "execution_count": 29
        }
      ]
    },
    {
      "cell_type": "code",
      "metadata": {
        "colab": {
          "base_uri": "https://localhost:8080/"
        },
        "id": "e7VdS8PHBkZh",
        "outputId": "d3a1624d-6377-4734-b511-477fec3c6dde"
      },
      "source": [
        "bank['ds'].tail()"
      ],
      "execution_count": null,
      "outputs": [
        {
          "output_type": "execute_result",
          "data": {
            "text/plain": [
              "12644   2021-06-21\n",
              "12645   2021-06-22\n",
              "12646   2021-06-23\n",
              "12647   2021-06-24\n",
              "12648   2021-06-25\n",
              "Name: ds, dtype: datetime64[ns]"
            ]
          },
          "metadata": {
            "tags": []
          },
          "execution_count": 30
        }
      ]
    },
    {
      "cell_type": "code",
      "metadata": {
        "colab": {
          "base_uri": "https://localhost:8080/",
          "height": 204
        },
        "id": "dnr5KJqhB-WS",
        "outputId": "3a07ca11-c554-49c0-e716-729c19d1829f"
      },
      "source": [
        "future_dates.tail()"
      ],
      "execution_count": null,
      "outputs": [
        {
          "output_type": "execute_result",
          "data": {
            "text/html": [
              "<div>\n",
              "<style scoped>\n",
              "    .dataframe tbody tr th:only-of-type {\n",
              "        vertical-align: middle;\n",
              "    }\n",
              "\n",
              "    .dataframe tbody tr th {\n",
              "        vertical-align: top;\n",
              "    }\n",
              "\n",
              "    .dataframe thead th {\n",
              "        text-align: right;\n",
              "    }\n",
              "</style>\n",
              "<table border=\"1\" class=\"dataframe\">\n",
              "  <thead>\n",
              "    <tr style=\"text-align: right;\">\n",
              "      <th></th>\n",
              "      <th>ds</th>\n",
              "    </tr>\n",
              "  </thead>\n",
              "  <tbody>\n",
              "    <tr>\n",
              "      <th>12674</th>\n",
              "      <td>2021-07-21</td>\n",
              "    </tr>\n",
              "    <tr>\n",
              "      <th>12675</th>\n",
              "      <td>2021-07-22</td>\n",
              "    </tr>\n",
              "    <tr>\n",
              "      <th>12676</th>\n",
              "      <td>2021-07-23</td>\n",
              "    </tr>\n",
              "    <tr>\n",
              "      <th>12677</th>\n",
              "      <td>2021-07-24</td>\n",
              "    </tr>\n",
              "    <tr>\n",
              "      <th>12678</th>\n",
              "      <td>2021-07-25</td>\n",
              "    </tr>\n",
              "  </tbody>\n",
              "</table>\n",
              "</div>"
            ],
            "text/plain": [
              "              ds\n",
              "12674 2021-07-21\n",
              "12675 2021-07-22\n",
              "12676 2021-07-23\n",
              "12677 2021-07-24\n",
              "12678 2021-07-25"
            ]
          },
          "metadata": {
            "tags": []
          },
          "execution_count": 31
        }
      ]
    },
    {
      "cell_type": "code",
      "metadata": {
        "colab": {
          "base_uri": "https://localhost:8080/",
          "height": 610
        },
        "id": "bdbQrXu3CCU1",
        "outputId": "5701e75d-95e6-417e-d03d-9a8cb233d271"
      },
      "source": [
        "###prediction on future data\n",
        "prediction=model.predict(future_dates)\n",
        "prediction"
      ],
      "execution_count": null,
      "outputs": [
        {
          "output_type": "execute_result",
          "data": {
            "text/html": [
              "<div>\n",
              "<style scoped>\n",
              "    .dataframe tbody tr th:only-of-type {\n",
              "        vertical-align: middle;\n",
              "    }\n",
              "\n",
              "    .dataframe tbody tr th {\n",
              "        vertical-align: top;\n",
              "    }\n",
              "\n",
              "    .dataframe thead th {\n",
              "        text-align: right;\n",
              "    }\n",
              "</style>\n",
              "<table border=\"1\" class=\"dataframe\">\n",
              "  <thead>\n",
              "    <tr style=\"text-align: right;\">\n",
              "      <th></th>\n",
              "      <th>ds</th>\n",
              "      <th>trend</th>\n",
              "      <th>yhat_lower</th>\n",
              "      <th>yhat_upper</th>\n",
              "      <th>trend_lower</th>\n",
              "      <th>trend_upper</th>\n",
              "      <th>additive_terms</th>\n",
              "      <th>additive_terms_lower</th>\n",
              "      <th>additive_terms_upper</th>\n",
              "      <th>weekly</th>\n",
              "      <th>weekly_lower</th>\n",
              "      <th>weekly_upper</th>\n",
              "      <th>yearly</th>\n",
              "      <th>yearly_lower</th>\n",
              "      <th>yearly_upper</th>\n",
              "      <th>multiplicative_terms</th>\n",
              "      <th>multiplicative_terms_lower</th>\n",
              "      <th>multiplicative_terms_upper</th>\n",
              "      <th>yhat</th>\n",
              "    </tr>\n",
              "  </thead>\n",
              "  <tbody>\n",
              "    <tr>\n",
              "      <th>0</th>\n",
              "      <td>1973-01-02</td>\n",
              "      <td>7.533011</td>\n",
              "      <td>5.261998</td>\n",
              "      <td>9.669195</td>\n",
              "      <td>7.533011</td>\n",
              "      <td>7.533011</td>\n",
              "      <td>-0.049897</td>\n",
              "      <td>-0.049897</td>\n",
              "      <td>-0.049897</td>\n",
              "      <td>-0.087282</td>\n",
              "      <td>-0.087282</td>\n",
              "      <td>-0.087282</td>\n",
              "      <td>0.037385</td>\n",
              "      <td>0.037385</td>\n",
              "      <td>0.037385</td>\n",
              "      <td>0.0</td>\n",
              "      <td>0.0</td>\n",
              "      <td>0.0</td>\n",
              "      <td>7.483114</td>\n",
              "    </tr>\n",
              "    <tr>\n",
              "      <th>1</th>\n",
              "      <td>1973-01-03</td>\n",
              "      <td>7.534242</td>\n",
              "      <td>5.347238</td>\n",
              "      <td>9.738367</td>\n",
              "      <td>7.534242</td>\n",
              "      <td>7.534242</td>\n",
              "      <td>-0.059440</td>\n",
              "      <td>-0.059440</td>\n",
              "      <td>-0.059440</td>\n",
              "      <td>-0.092329</td>\n",
              "      <td>-0.092329</td>\n",
              "      <td>-0.092329</td>\n",
              "      <td>0.032889</td>\n",
              "      <td>0.032889</td>\n",
              "      <td>0.032889</td>\n",
              "      <td>0.0</td>\n",
              "      <td>0.0</td>\n",
              "      <td>0.0</td>\n",
              "      <td>7.474801</td>\n",
              "    </tr>\n",
              "    <tr>\n",
              "      <th>2</th>\n",
              "      <td>1973-01-04</td>\n",
              "      <td>7.535472</td>\n",
              "      <td>5.455068</td>\n",
              "      <td>9.688305</td>\n",
              "      <td>7.535472</td>\n",
              "      <td>7.535472</td>\n",
              "      <td>-0.064969</td>\n",
              "      <td>-0.064969</td>\n",
              "      <td>-0.064969</td>\n",
              "      <td>-0.093054</td>\n",
              "      <td>-0.093054</td>\n",
              "      <td>-0.093054</td>\n",
              "      <td>0.028085</td>\n",
              "      <td>0.028085</td>\n",
              "      <td>0.028085</td>\n",
              "      <td>0.0</td>\n",
              "      <td>0.0</td>\n",
              "      <td>0.0</td>\n",
              "      <td>7.470503</td>\n",
              "    </tr>\n",
              "    <tr>\n",
              "      <th>3</th>\n",
              "      <td>1973-01-05</td>\n",
              "      <td>7.536702</td>\n",
              "      <td>5.229682</td>\n",
              "      <td>9.739392</td>\n",
              "      <td>7.536702</td>\n",
              "      <td>7.536702</td>\n",
              "      <td>-0.081259</td>\n",
              "      <td>-0.081259</td>\n",
              "      <td>-0.081259</td>\n",
              "      <td>-0.104233</td>\n",
              "      <td>-0.104233</td>\n",
              "      <td>-0.104233</td>\n",
              "      <td>0.022974</td>\n",
              "      <td>0.022974</td>\n",
              "      <td>0.022974</td>\n",
              "      <td>0.0</td>\n",
              "      <td>0.0</td>\n",
              "      <td>0.0</td>\n",
              "      <td>7.455443</td>\n",
              "    </tr>\n",
              "    <tr>\n",
              "      <th>4</th>\n",
              "      <td>1973-01-08</td>\n",
              "      <td>7.540393</td>\n",
              "      <td>5.131576</td>\n",
              "      <td>9.625987</td>\n",
              "      <td>7.540393</td>\n",
              "      <td>7.540393</td>\n",
              "      <td>-0.087533</td>\n",
              "      <td>-0.087533</td>\n",
              "      <td>-0.087533</td>\n",
              "      <td>-0.093488</td>\n",
              "      <td>-0.093488</td>\n",
              "      <td>-0.093488</td>\n",
              "      <td>0.005956</td>\n",
              "      <td>0.005956</td>\n",
              "      <td>0.005956</td>\n",
              "      <td>0.0</td>\n",
              "      <td>0.0</td>\n",
              "      <td>0.0</td>\n",
              "      <td>7.452860</td>\n",
              "    </tr>\n",
              "    <tr>\n",
              "      <th>...</th>\n",
              "      <td>...</td>\n",
              "      <td>...</td>\n",
              "      <td>...</td>\n",
              "      <td>...</td>\n",
              "      <td>...</td>\n",
              "      <td>...</td>\n",
              "      <td>...</td>\n",
              "      <td>...</td>\n",
              "      <td>...</td>\n",
              "      <td>...</td>\n",
              "      <td>...</td>\n",
              "      <td>...</td>\n",
              "      <td>...</td>\n",
              "      <td>...</td>\n",
              "      <td>...</td>\n",
              "      <td>...</td>\n",
              "      <td>...</td>\n",
              "      <td>...</td>\n",
              "      <td>...</td>\n",
              "    </tr>\n",
              "    <tr>\n",
              "      <th>12674</th>\n",
              "      <td>2021-07-21</td>\n",
              "      <td>76.748365</td>\n",
              "      <td>74.339029</td>\n",
              "      <td>78.799109</td>\n",
              "      <td>76.748365</td>\n",
              "      <td>76.748365</td>\n",
              "      <td>-0.124140</td>\n",
              "      <td>-0.124140</td>\n",
              "      <td>-0.124140</td>\n",
              "      <td>-0.092329</td>\n",
              "      <td>-0.092329</td>\n",
              "      <td>-0.092329</td>\n",
              "      <td>-0.031811</td>\n",
              "      <td>-0.031811</td>\n",
              "      <td>-0.031811</td>\n",
              "      <td>0.0</td>\n",
              "      <td>0.0</td>\n",
              "      <td>0.0</td>\n",
              "      <td>76.624225</td>\n",
              "    </tr>\n",
              "    <tr>\n",
              "      <th>12675</th>\n",
              "      <td>2021-07-22</td>\n",
              "      <td>76.755170</td>\n",
              "      <td>74.365563</td>\n",
              "      <td>78.819989</td>\n",
              "      <td>76.755170</td>\n",
              "      <td>76.755170</td>\n",
              "      <td>-0.129411</td>\n",
              "      <td>-0.129411</td>\n",
              "      <td>-0.129411</td>\n",
              "      <td>-0.093054</td>\n",
              "      <td>-0.093054</td>\n",
              "      <td>-0.093054</td>\n",
              "      <td>-0.036357</td>\n",
              "      <td>-0.036357</td>\n",
              "      <td>-0.036357</td>\n",
              "      <td>0.0</td>\n",
              "      <td>0.0</td>\n",
              "      <td>0.0</td>\n",
              "      <td>76.625759</td>\n",
              "    </tr>\n",
              "    <tr>\n",
              "      <th>12676</th>\n",
              "      <td>2021-07-23</td>\n",
              "      <td>76.761974</td>\n",
              "      <td>74.405687</td>\n",
              "      <td>78.834142</td>\n",
              "      <td>76.761974</td>\n",
              "      <td>76.761974</td>\n",
              "      <td>-0.144178</td>\n",
              "      <td>-0.144178</td>\n",
              "      <td>-0.144178</td>\n",
              "      <td>-0.104233</td>\n",
              "      <td>-0.104233</td>\n",
              "      <td>-0.104233</td>\n",
              "      <td>-0.039945</td>\n",
              "      <td>-0.039945</td>\n",
              "      <td>-0.039945</td>\n",
              "      <td>0.0</td>\n",
              "      <td>0.0</td>\n",
              "      <td>0.0</td>\n",
              "      <td>76.617797</td>\n",
              "    </tr>\n",
              "    <tr>\n",
              "      <th>12677</th>\n",
              "      <td>2021-07-24</td>\n",
              "      <td>76.768779</td>\n",
              "      <td>74.734919</td>\n",
              "      <td>79.193145</td>\n",
              "      <td>76.768779</td>\n",
              "      <td>76.768779</td>\n",
              "      <td>0.192701</td>\n",
              "      <td>0.192701</td>\n",
              "      <td>0.192701</td>\n",
              "      <td>0.235193</td>\n",
              "      <td>0.235193</td>\n",
              "      <td>0.235193</td>\n",
              "      <td>-0.042492</td>\n",
              "      <td>-0.042492</td>\n",
              "      <td>-0.042492</td>\n",
              "      <td>0.0</td>\n",
              "      <td>0.0</td>\n",
              "      <td>0.0</td>\n",
              "      <td>76.961480</td>\n",
              "    </tr>\n",
              "    <tr>\n",
              "      <th>12678</th>\n",
              "      <td>2021-07-25</td>\n",
              "      <td>76.775583</td>\n",
              "      <td>74.744440</td>\n",
              "      <td>79.218296</td>\n",
              "      <td>76.775583</td>\n",
              "      <td>76.775583</td>\n",
              "      <td>0.191261</td>\n",
              "      <td>0.191261</td>\n",
              "      <td>0.191261</td>\n",
              "      <td>0.235193</td>\n",
              "      <td>0.235193</td>\n",
              "      <td>0.235193</td>\n",
              "      <td>-0.043931</td>\n",
              "      <td>-0.043931</td>\n",
              "      <td>-0.043931</td>\n",
              "      <td>0.0</td>\n",
              "      <td>0.0</td>\n",
              "      <td>0.0</td>\n",
              "      <td>76.966845</td>\n",
              "    </tr>\n",
              "  </tbody>\n",
              "</table>\n",
              "<p>12679 rows × 19 columns</p>\n",
              "</div>"
            ],
            "text/plain": [
              "              ds      trend  ...  multiplicative_terms_upper       yhat\n",
              "0     1973-01-02   7.533011  ...                         0.0   7.483114\n",
              "1     1973-01-03   7.534242  ...                         0.0   7.474801\n",
              "2     1973-01-04   7.535472  ...                         0.0   7.470503\n",
              "3     1973-01-05   7.536702  ...                         0.0   7.455443\n",
              "4     1973-01-08   7.540393  ...                         0.0   7.452860\n",
              "...          ...        ...  ...                         ...        ...\n",
              "12674 2021-07-21  76.748365  ...                         0.0  76.624225\n",
              "12675 2021-07-22  76.755170  ...                         0.0  76.625759\n",
              "12676 2021-07-23  76.761974  ...                         0.0  76.617797\n",
              "12677 2021-07-24  76.768779  ...                         0.0  76.961480\n",
              "12678 2021-07-25  76.775583  ...                         0.0  76.966845\n",
              "\n",
              "[12679 rows x 19 columns]"
            ]
          },
          "metadata": {
            "tags": []
          },
          "execution_count": 32
        }
      ]
    },
    {
      "cell_type": "code",
      "metadata": {
        "colab": {
          "base_uri": "https://localhost:8080/"
        },
        "id": "jvl4WQtoCrBl",
        "outputId": "3f6a500b-1080-4cdf-ac89-401a15e83c38"
      },
      "source": [
        "prediction.isnull().sum()"
      ],
      "execution_count": null,
      "outputs": [
        {
          "output_type": "execute_result",
          "data": {
            "text/plain": [
              "ds                            0\n",
              "trend                         0\n",
              "yhat_lower                    0\n",
              "yhat_upper                    0\n",
              "trend_lower                   0\n",
              "trend_upper                   0\n",
              "additive_terms                0\n",
              "additive_terms_lower          0\n",
              "additive_terms_upper          0\n",
              "weekly                        0\n",
              "weekly_lower                  0\n",
              "weekly_upper                  0\n",
              "yearly                        0\n",
              "yearly_lower                  0\n",
              "yearly_upper                  0\n",
              "multiplicative_terms          0\n",
              "multiplicative_terms_lower    0\n",
              "multiplicative_terms_upper    0\n",
              "yhat                          0\n",
              "dtype: int64"
            ]
          },
          "metadata": {
            "tags": []
          },
          "execution_count": 33
        }
      ]
    },
    {
      "cell_type": "code",
      "metadata": {
        "colab": {
          "base_uri": "https://localhost:8080/",
          "height": 204
        },
        "id": "W9Daed2vC6NS",
        "outputId": "4fd96506-2501-4dd6-a117-4eaf0f596ccb"
      },
      "source": [
        "prediction[['ds','yhat','yhat_lower','yhat_upper']].tail()"
      ],
      "execution_count": null,
      "outputs": [
        {
          "output_type": "execute_result",
          "data": {
            "text/html": [
              "<div>\n",
              "<style scoped>\n",
              "    .dataframe tbody tr th:only-of-type {\n",
              "        vertical-align: middle;\n",
              "    }\n",
              "\n",
              "    .dataframe tbody tr th {\n",
              "        vertical-align: top;\n",
              "    }\n",
              "\n",
              "    .dataframe thead th {\n",
              "        text-align: right;\n",
              "    }\n",
              "</style>\n",
              "<table border=\"1\" class=\"dataframe\">\n",
              "  <thead>\n",
              "    <tr style=\"text-align: right;\">\n",
              "      <th></th>\n",
              "      <th>ds</th>\n",
              "      <th>yhat</th>\n",
              "      <th>yhat_lower</th>\n",
              "      <th>yhat_upper</th>\n",
              "    </tr>\n",
              "  </thead>\n",
              "  <tbody>\n",
              "    <tr>\n",
              "      <th>12674</th>\n",
              "      <td>2021-07-21</td>\n",
              "      <td>76.624225</td>\n",
              "      <td>74.339029</td>\n",
              "      <td>78.799109</td>\n",
              "    </tr>\n",
              "    <tr>\n",
              "      <th>12675</th>\n",
              "      <td>2021-07-22</td>\n",
              "      <td>76.625759</td>\n",
              "      <td>74.365563</td>\n",
              "      <td>78.819989</td>\n",
              "    </tr>\n",
              "    <tr>\n",
              "      <th>12676</th>\n",
              "      <td>2021-07-23</td>\n",
              "      <td>76.617797</td>\n",
              "      <td>74.405687</td>\n",
              "      <td>78.834142</td>\n",
              "    </tr>\n",
              "    <tr>\n",
              "      <th>12677</th>\n",
              "      <td>2021-07-24</td>\n",
              "      <td>76.961480</td>\n",
              "      <td>74.734919</td>\n",
              "      <td>79.193145</td>\n",
              "    </tr>\n",
              "    <tr>\n",
              "      <th>12678</th>\n",
              "      <td>2021-07-25</td>\n",
              "      <td>76.966845</td>\n",
              "      <td>74.744440</td>\n",
              "      <td>79.218296</td>\n",
              "    </tr>\n",
              "  </tbody>\n",
              "</table>\n",
              "</div>"
            ],
            "text/plain": [
              "              ds       yhat  yhat_lower  yhat_upper\n",
              "12674 2021-07-21  76.624225   74.339029   78.799109\n",
              "12675 2021-07-22  76.625759   74.365563   78.819989\n",
              "12676 2021-07-23  76.617797   74.405687   78.834142\n",
              "12677 2021-07-24  76.961480   74.734919   79.193145\n",
              "12678 2021-07-25  76.966845   74.744440   79.218296"
            ]
          },
          "metadata": {
            "tags": []
          },
          "execution_count": 34
        }
      ]
    },
    {
      "cell_type": "code",
      "metadata": {
        "colab": {
          "base_uri": "https://localhost:8080/",
          "height": 856
        },
        "id": "WXVU-kafDd66",
        "outputId": "c0ab7f9b-340e-470a-e425-66d8bfc51db8"
      },
      "source": [
        "model.plot(prediction) ####visualization of prediction"
      ],
      "execution_count": null,
      "outputs": [
        {
          "output_type": "execute_result",
          "data": {
            "image/png": "[encoded data removed]",
            "text/plain": [
              "<Figure size 720x432 with 1 Axes>"
            ]
          },
          "metadata": {
            "tags": []
          },
          "execution_count": 35
        },
        {
          "output_type": "display_data",
          "data": {
            "image/png": "[encoded data removed]",
            "text/plain": [
              "<Figure size 720x432 with 1 Axes>"
            ]
          },
          "metadata": {
            "tags": []
          }
        }
      ]
    },
    {
      "cell_type": "code",
      "metadata": {
        "colab": {
          "base_uri": "https://localhost:8080/",
          "height": 1000
        },
        "id": "aVzVI8WMDv5X",
        "outputId": "0f0e8b85-feef-4537-a6e4-649f78cdb621"
      },
      "source": [
        "model.plot_components(prediction)"
      ],
      "execution_count": null,
      "outputs": [
        {
          "output_type": "execute_result",
          "data": {
            "image/png": "[encoded data removed]",
            "text/plain": [
              "<Figure size 648x648 with 3 Axes>"
            ]
          },
          "metadata": {
            "tags": []
          },
          "execution_count": 36
        },
        {
          "output_type": "display_data",
          "data": {
            "image/png": "[encoded data removed]",
            "text/plain": [
              "<Figure size 648x648 with 3 Axes>"
            ]
          },
          "metadata": {
            "tags": []
          }
        }
      ]
    },
    {
      "cell_type": "code",
      "metadata": {
        "id": "pEMQmR9JECzs"
      },
      "source": [
        "from fbprophet.plot import add_changepoints_to_plot"
      ],
      "execution_count": null,
      "outputs": []
    },
    {
      "cell_type": "code",
      "metadata": {
        "colab": {
          "base_uri": "https://localhost:8080/",
          "height": 437
        },
        "id": "AAP7vFFfEN_I",
        "outputId": "db6e0d81-05d0-40c2-ccf9-52950e2c6527"
      },
      "source": [
        "figure=model.plot(prediction)\n",
        "a=add_changepoints_to_plot(figure.gca(),model,prediction)"
      ],
      "execution_count": null,
      "outputs": [
        {
          "output_type": "display_data",
          "data": {
            "image/png": "[encoded data removed]",
            "text/plain": [
              "<Figure size 720x432 with 1 Axes>"
            ]
          },
          "metadata": {
            "tags": []
          }
        }
      ]
    },
    {
      "cell_type": "code",
      "metadata": {
        "id": "0FzsIWV-FHJj"
      },
      "source": [
        "from fbprophet.plot import plot_plotly,plot_components_plotly"
      ],
      "execution_count": null,
      "outputs": []
    },
    {
      "cell_type": "code",
      "metadata": {
        "colab": {
          "base_uri": "https://localhost:8080/",
          "height": 204
        },
        "id": "hgNi_RWfF2rC",
        "outputId": "bda52c59-91f2-4aa9-d029-61307c1985b0"
      },
      "source": [
        "metric_data = prediction.set_index('ds')[['yhat']].join(bank.set_index('ds').y).reset_index()\n",
        "metric_data.tail()"
      ],
      "execution_count": null,
      "outputs": [
        {
          "output_type": "execute_result",
          "data": {
            "text/html": [
              "<div>\n",
              "<style scoped>\n",
              "    .dataframe tbody tr th:only-of-type {\n",
              "        vertical-align: middle;\n",
              "    }\n",
              "\n",
              "    .dataframe tbody tr th {\n",
              "        vertical-align: top;\n",
              "    }\n",
              "\n",
              "    .dataframe thead th {\n",
              "        text-align: right;\n",
              "    }\n",
              "</style>\n",
              "<table border=\"1\" class=\"dataframe\">\n",
              "  <thead>\n",
              "    <tr style=\"text-align: right;\">\n",
              "      <th></th>\n",
              "      <th>ds</th>\n",
              "      <th>yhat</th>\n",
              "      <th>y</th>\n",
              "    </tr>\n",
              "  </thead>\n",
              "  <tbody>\n",
              "    <tr>\n",
              "      <th>12674</th>\n",
              "      <td>2021-07-21</td>\n",
              "      <td>76.624225</td>\n",
              "      <td>NaN</td>\n",
              "    </tr>\n",
              "    <tr>\n",
              "      <th>12675</th>\n",
              "      <td>2021-07-22</td>\n",
              "      <td>76.625759</td>\n",
              "      <td>NaN</td>\n",
              "    </tr>\n",
              "    <tr>\n",
              "      <th>12676</th>\n",
              "      <td>2021-07-23</td>\n",
              "      <td>76.617797</td>\n",
              "      <td>NaN</td>\n",
              "    </tr>\n",
              "    <tr>\n",
              "      <th>12677</th>\n",
              "      <td>2021-07-24</td>\n",
              "      <td>76.961480</td>\n",
              "      <td>NaN</td>\n",
              "    </tr>\n",
              "    <tr>\n",
              "      <th>12678</th>\n",
              "      <td>2021-07-25</td>\n",
              "      <td>76.966845</td>\n",
              "      <td>NaN</td>\n",
              "    </tr>\n",
              "  </tbody>\n",
              "</table>\n",
              "</div>"
            ],
            "text/plain": [
              "              ds       yhat   y\n",
              "12674 2021-07-21  76.624225 NaN\n",
              "12675 2021-07-22  76.625759 NaN\n",
              "12676 2021-07-23  76.617797 NaN\n",
              "12677 2021-07-24  76.961480 NaN\n",
              "12678 2021-07-25  76.966845 NaN"
            ]
          },
          "metadata": {
            "tags": []
          },
          "execution_count": 40
        }
      ]
    },
    {
      "cell_type": "code",
      "metadata": {
        "colab": {
          "base_uri": "https://localhost:8080/"
        },
        "id": "WGJU4fGwHhdn",
        "outputId": "a9a84dd8-4fcf-4096-f723-ff2a9c37f74b"
      },
      "source": [
        "metric_data.isnull().sum()"
      ],
      "execution_count": null,
      "outputs": [
        {
          "output_type": "execute_result",
          "data": {
            "text/plain": [
              "ds       0\n",
              "yhat     0\n",
              "y       30\n",
              "dtype: int64"
            ]
          },
          "metadata": {
            "tags": []
          },
          "execution_count": 41
        }
      ]
    },
    {
      "cell_type": "code",
      "metadata": {
        "id": "8Jzuxs2oHp7n"
      },
      "source": [
        "metric_data.dropna(inplace=True)"
      ],
      "execution_count": null,
      "outputs": []
    },
    {
      "cell_type": "code",
      "metadata": {
        "id": "IwM6H3TIIRTJ"
      },
      "source": [
        "from sklearn.metrics import  mean_squared_error,mean_absolute_error"
      ],
      "execution_count": null,
      "outputs": []
    },
    {
      "cell_type": "code",
      "metadata": {
        "colab": {
          "base_uri": "https://localhost:8080/"
        },
        "id": "VIsohAaLH5OT",
        "outputId": "8195835d-6add-4f5f-8333-cd402c3e459f"
      },
      "source": [
        "mean_squared_error(metric_data.y,metric_data.yhat)"
      ],
      "execution_count": null,
      "outputs": [
        {
          "output_type": "execute_result",
          "data": {
            "text/plain": [
              "2.946630035093659"
            ]
          },
          "metadata": {
            "tags": []
          },
          "execution_count": 44
        }
      ]
    },
    {
      "cell_type": "code",
      "metadata": {
        "colab": {
          "base_uri": "https://localhost:8080/"
        },
        "id": "YgSyT5raIiSh",
        "outputId": "d293a222-5a06-440c-c1c3-664d13dde945"
      },
      "source": [
        "mean_absolute_error(metric_data.y,metric_data.yhat)"
      ],
      "execution_count": null,
      "outputs": [
        {
          "output_type": "execute_result",
          "data": {
            "text/plain": [
              "1.1202835245341187"
            ]
          },
          "metadata": {
            "tags": []
          },
          "execution_count": 45
        }
      ]
    },
    {
      "cell_type": "code",
      "metadata": {
        "id": "6iYlUKSRIunf"
      },
      "source": [
        "def mape(y_true,y_pred):\n",
        "### calculate mape given y_true & y_pred\n",
        "  y_true,y_pred = np.array(y_true),np.array(y_pred)\n",
        "  return np.mean(np.abs((y_true - y_pred)/y_true))*100\n",
        "  "
      ],
      "execution_count": null,
      "outputs": []
    },
    {
      "cell_type": "code",
      "metadata": {
        "colab": {
          "base_uri": "https://localhost:8080/"
        },
        "id": "Eyp164QpNsWB",
        "outputId": "3ce23919-e6ee-4c14-cffa-fb6c0415a3b2"
      },
      "source": [
        "mape(y_true=metric_data['y'],y_pred=metric_data['yhat'])"
      ],
      "execution_count": null,
      "outputs": [
        {
          "output_type": "execute_result",
          "data": {
            "text/plain": [
              "3.2205856072356807"
            ]
          },
          "metadata": {
            "tags": []
          },
          "execution_count": 47
        }
      ]
    },
    {
      "cell_type": "code",
      "metadata": {
        "id": "h3_fFppuOyxi"
      },
      "source": [
        "bank.ds = pd.to_datetime(bank.ds)\n",
        "bank.set_index('ds',inplace=True)"
      ],
      "execution_count": null,
      "outputs": []
    },
    {
      "cell_type": "code",
      "metadata": {
        "id": "lkbT15DBPQhp"
      },
      "source": [
        "split_date = '2010-06-25'\n",
        "train = bank.loc[bank.index <= split_date].copy()\n",
        "test = bank.loc[bank.index > split_date].copy()"
      ],
      "execution_count": null,
      "outputs": []
    },
    {
      "cell_type": "code",
      "metadata": {
        "colab": {
          "base_uri": "https://localhost:8080/"
        },
        "id": "u5QaJBKQQFrQ",
        "outputId": "31c31bfb-18bb-4dc6-f0f3-040acd0bbe5a"
      },
      "source": [
        "train.shape"
      ],
      "execution_count": null,
      "outputs": [
        {
          "output_type": "execute_result",
          "data": {
            "text/plain": [
              "(9779, 1)"
            ]
          },
          "metadata": {
            "tags": []
          },
          "execution_count": 50
        }
      ]
    },
    {
      "cell_type": "code",
      "metadata": {
        "colab": {
          "base_uri": "https://localhost:8080/"
        },
        "id": "yGq4_t8SQMBp",
        "outputId": "a8ab5db5-577d-4fb7-d67a-80889d0beb5a"
      },
      "source": [
        "train.isnull().sum()"
      ],
      "execution_count": null,
      "outputs": [
        {
          "output_type": "execute_result",
          "data": {
            "text/plain": [
              "y    0\n",
              "dtype: int64"
            ]
          },
          "metadata": {
            "tags": []
          },
          "execution_count": 51
        }
      ]
    },
    {
      "cell_type": "code",
      "metadata": {
        "colab": {
          "base_uri": "https://localhost:8080/"
        },
        "id": "XKKIELXxQd8v",
        "outputId": "7a8dbd2d-56cf-4ef0-a26e-5f05d6f97dfe"
      },
      "source": [
        "test.shape"
      ],
      "execution_count": null,
      "outputs": [
        {
          "output_type": "execute_result",
          "data": {
            "text/plain": [
              "(2870, 1)"
            ]
          },
          "metadata": {
            "tags": []
          },
          "execution_count": 52
        }
      ]
    },
    {
      "cell_type": "code",
      "metadata": {
        "colab": {
          "base_uri": "https://localhost:8080/"
        },
        "id": "2zK7xW8wW2jn",
        "outputId": "715ed060-ee55-4594-de5b-cf19426df9bc"
      },
      "source": [
        "test.isnull().sum()"
      ],
      "execution_count": null,
      "outputs": [
        {
          "output_type": "execute_result",
          "data": {
            "text/plain": [
              "y    0\n",
              "dtype: int64"
            ]
          },
          "metadata": {
            "tags": []
          },
          "execution_count": 53
        }
      ]
    },
    {
      "cell_type": "code",
      "metadata": {
        "colab": {
          "base_uri": "https://localhost:8080/",
          "height": 355
        },
        "id": "ZQKNvViiZqM-",
        "outputId": "a3ee5836-c5d8-49d8-ffb7-c2e84bc51c4a"
      },
      "source": [
        "### plot train and test so you can see where we have split\n",
        "test \\\n",
        "   .rename(columns={'y': 'test set'}) \\\n",
        "   .join(train.rename(columns={'y':'training set'}),\n",
        "         how='outer') \\\n",
        "   .plot(figsize=(15,5),title='exchange rate',style='.')\n",
        "plt.show()"
      ],
      "execution_count": null,
      "outputs": [
        {
          "output_type": "display_data",
          "data": {
            "image/png": "[encoded data removed]",
            "text/plain": [
              "<Figure size 1080x360 with 1 Axes>"
            ]
          },
          "metadata": {
            "tags": []
          }
        }
      ]
    },
    {
      "cell_type": "code",
      "metadata": {
        "colab": {
          "base_uri": "https://localhost:8080/",
          "height": 204
        },
        "id": "eGUoOvJycEtX",
        "outputId": "e87691f7-bdc6-45c5-a3dc-592b02e14ebf"
      },
      "source": [
        "train.reset_index().rename(columns={'Date':'ds','DEXINUS':'y'}).head()"
      ],
      "execution_count": null,
      "outputs": [
        {
          "output_type": "execute_result",
          "data": {
            "text/html": [
              "<div>\n",
              "<style scoped>\n",
              "    .dataframe tbody tr th:only-of-type {\n",
              "        vertical-align: middle;\n",
              "    }\n",
              "\n",
              "    .dataframe tbody tr th {\n",
              "        vertical-align: top;\n",
              "    }\n",
              "\n",
              "    .dataframe thead th {\n",
              "        text-align: right;\n",
              "    }\n",
              "</style>\n",
              "<table border=\"1\" class=\"dataframe\">\n",
              "  <thead>\n",
              "    <tr style=\"text-align: right;\">\n",
              "      <th></th>\n",
              "      <th>ds</th>\n",
              "      <th>y</th>\n",
              "    </tr>\n",
              "  </thead>\n",
              "  <tbody>\n",
              "    <tr>\n",
              "      <th>0</th>\n",
              "      <td>1973-01-02</td>\n",
              "      <td>8.02</td>\n",
              "    </tr>\n",
              "    <tr>\n",
              "      <th>1</th>\n",
              "      <td>1973-01-03</td>\n",
              "      <td>8.02</td>\n",
              "    </tr>\n",
              "    <tr>\n",
              "      <th>2</th>\n",
              "      <td>1973-01-04</td>\n",
              "      <td>8.00</td>\n",
              "    </tr>\n",
              "    <tr>\n",
              "      <th>3</th>\n",
              "      <td>1973-01-05</td>\n",
              "      <td>8.01</td>\n",
              "    </tr>\n",
              "    <tr>\n",
              "      <th>4</th>\n",
              "      <td>1973-01-08</td>\n",
              "      <td>8.00</td>\n",
              "    </tr>\n",
              "  </tbody>\n",
              "</table>\n",
              "</div>"
            ],
            "text/plain": [
              "          ds     y\n",
              "0 1973-01-02  8.02\n",
              "1 1973-01-03  8.02\n",
              "2 1973-01-04  8.00\n",
              "3 1973-01-05  8.01\n",
              "4 1973-01-08  8.00"
            ]
          },
          "metadata": {
            "tags": []
          },
          "execution_count": 55
        }
      ]
    },
    {
      "cell_type": "code",
      "metadata": {
        "id": "4qQXdPIPdaCH"
      },
      "source": [
        "test_result = model.predict(bank.reset_index()\\\n",
        "                          .rename(columns={'Datetime':'ds'}))"
      ],
      "execution_count": null,
      "outputs": []
    },
    {
      "cell_type": "code",
      "metadata": {
        "colab": {
          "base_uri": "https://localhost:8080/",
          "height": 310
        },
        "id": "K4yBovBLewl-",
        "outputId": "79ca1b88-6f6b-433f-f4ae-0aafc01990df"
      },
      "source": [
        "test_result.tail()"
      ],
      "execution_count": null,
      "outputs": [
        {
          "output_type": "execute_result",
          "data": {
            "text/html": [
              "<div>\n",
              "<style scoped>\n",
              "    .dataframe tbody tr th:only-of-type {\n",
              "        vertical-align: middle;\n",
              "    }\n",
              "\n",
              "    .dataframe tbody tr th {\n",
              "        vertical-align: top;\n",
              "    }\n",
              "\n",
              "    .dataframe thead th {\n",
              "        text-align: right;\n",
              "    }\n",
              "</style>\n",
              "<table border=\"1\" class=\"dataframe\">\n",
              "  <thead>\n",
              "    <tr style=\"text-align: right;\">\n",
              "      <th></th>\n",
              "      <th>ds</th>\n",
              "      <th>trend</th>\n",
              "      <th>yhat_lower</th>\n",
              "      <th>yhat_upper</th>\n",
              "      <th>trend_lower</th>\n",
              "      <th>trend_upper</th>\n",
              "      <th>additive_terms</th>\n",
              "      <th>additive_terms_lower</th>\n",
              "      <th>additive_terms_upper</th>\n",
              "      <th>weekly</th>\n",
              "      <th>weekly_lower</th>\n",
              "      <th>weekly_upper</th>\n",
              "      <th>yearly</th>\n",
              "      <th>yearly_lower</th>\n",
              "      <th>yearly_upper</th>\n",
              "      <th>multiplicative_terms</th>\n",
              "      <th>multiplicative_terms_lower</th>\n",
              "      <th>multiplicative_terms_upper</th>\n",
              "      <th>yhat</th>\n",
              "    </tr>\n",
              "  </thead>\n",
              "  <tbody>\n",
              "    <tr>\n",
              "      <th>12644</th>\n",
              "      <td>2021-06-21</td>\n",
              "      <td>76.544229</td>\n",
              "      <td>74.166980</td>\n",
              "      <td>78.498740</td>\n",
              "      <td>76.544229</td>\n",
              "      <td>76.544229</td>\n",
              "      <td>-0.130761</td>\n",
              "      <td>-0.130761</td>\n",
              "      <td>-0.130761</td>\n",
              "      <td>-0.093488</td>\n",
              "      <td>-0.093488</td>\n",
              "      <td>-0.093488</td>\n",
              "      <td>-0.037272</td>\n",
              "      <td>-0.037272</td>\n",
              "      <td>-0.037272</td>\n",
              "      <td>0.0</td>\n",
              "      <td>0.0</td>\n",
              "      <td>0.0</td>\n",
              "      <td>76.413468</td>\n",
              "    </tr>\n",
              "    <tr>\n",
              "      <th>12645</th>\n",
              "      <td>2021-06-22</td>\n",
              "      <td>76.551034</td>\n",
              "      <td>74.168185</td>\n",
              "      <td>78.520993</td>\n",
              "      <td>76.551034</td>\n",
              "      <td>76.551034</td>\n",
              "      <td>-0.113916</td>\n",
              "      <td>-0.113916</td>\n",
              "      <td>-0.113916</td>\n",
              "      <td>-0.087282</td>\n",
              "      <td>-0.087282</td>\n",
              "      <td>-0.087282</td>\n",
              "      <td>-0.026634</td>\n",
              "      <td>-0.026634</td>\n",
              "      <td>-0.026634</td>\n",
              "      <td>0.0</td>\n",
              "      <td>0.0</td>\n",
              "      <td>0.0</td>\n",
              "      <td>76.437118</td>\n",
              "    </tr>\n",
              "    <tr>\n",
              "      <th>12646</th>\n",
              "      <td>2021-06-23</td>\n",
              "      <td>76.557838</td>\n",
              "      <td>74.217284</td>\n",
              "      <td>78.668278</td>\n",
              "      <td>76.557838</td>\n",
              "      <td>76.557838</td>\n",
              "      <td>-0.108346</td>\n",
              "      <td>-0.108346</td>\n",
              "      <td>-0.108346</td>\n",
              "      <td>-0.092329</td>\n",
              "      <td>-0.092329</td>\n",
              "      <td>-0.092329</td>\n",
              "      <td>-0.016017</td>\n",
              "      <td>-0.016017</td>\n",
              "      <td>-0.016017</td>\n",
              "      <td>0.0</td>\n",
              "      <td>0.0</td>\n",
              "      <td>0.0</td>\n",
              "      <td>76.449492</td>\n",
              "    </tr>\n",
              "    <tr>\n",
              "      <th>12647</th>\n",
              "      <td>2021-06-24</td>\n",
              "      <td>76.564643</td>\n",
              "      <td>74.307952</td>\n",
              "      <td>78.669910</td>\n",
              "      <td>76.564643</td>\n",
              "      <td>76.564643</td>\n",
              "      <td>-0.098629</td>\n",
              "      <td>-0.098629</td>\n",
              "      <td>-0.098629</td>\n",
              "      <td>-0.093054</td>\n",
              "      <td>-0.093054</td>\n",
              "      <td>-0.093054</td>\n",
              "      <td>-0.005575</td>\n",
              "      <td>-0.005575</td>\n",
              "      <td>-0.005575</td>\n",
              "      <td>0.0</td>\n",
              "      <td>0.0</td>\n",
              "      <td>0.0</td>\n",
              "      <td>76.466014</td>\n",
              "    </tr>\n",
              "    <tr>\n",
              "      <th>12648</th>\n",
              "      <td>2021-06-25</td>\n",
              "      <td>76.571447</td>\n",
              "      <td>74.299059</td>\n",
              "      <td>78.638772</td>\n",
              "      <td>76.571447</td>\n",
              "      <td>76.571447</td>\n",
              "      <td>-0.099696</td>\n",
              "      <td>-0.099696</td>\n",
              "      <td>-0.099696</td>\n",
              "      <td>-0.104233</td>\n",
              "      <td>-0.104233</td>\n",
              "      <td>-0.104233</td>\n",
              "      <td>0.004537</td>\n",
              "      <td>0.004537</td>\n",
              "      <td>0.004537</td>\n",
              "      <td>0.0</td>\n",
              "      <td>0.0</td>\n",
              "      <td>0.0</td>\n",
              "      <td>76.471751</td>\n",
              "    </tr>\n",
              "  </tbody>\n",
              "</table>\n",
              "</div>"
            ],
            "text/plain": [
              "              ds      trend  ...  multiplicative_terms_upper       yhat\n",
              "12644 2021-06-21  76.544229  ...                         0.0  76.413468\n",
              "12645 2021-06-22  76.551034  ...                         0.0  76.437118\n",
              "12646 2021-06-23  76.557838  ...                         0.0  76.449492\n",
              "12647 2021-06-24  76.564643  ...                         0.0  76.466014\n",
              "12648 2021-06-25  76.571447  ...                         0.0  76.471751\n",
              "\n",
              "[5 rows x 19 columns]"
            ]
          },
          "metadata": {
            "tags": []
          },
          "execution_count": 57
        }
      ]
    },
    {
      "cell_type": "code",
      "metadata": {
        "colab": {
          "base_uri": "https://localhost:8080/"
        },
        "id": "5pFF9vpUfD5G",
        "outputId": "d338e8df-0fe3-4d88-acf7-73de514ea269"
      },
      "source": [
        "test.isnull().sum()"
      ],
      "execution_count": null,
      "outputs": [
        {
          "output_type": "execute_result",
          "data": {
            "text/plain": [
              "y    0\n",
              "dtype: int64"
            ]
          },
          "metadata": {
            "tags": []
          },
          "execution_count": 58
        }
      ]
    },
    {
      "cell_type": "code",
      "metadata": {
        "colab": {
          "base_uri": "https://localhost:8080/",
          "height": 270,
          "referenced_widgets": [
            "67d163a7d8d2464abf329e98167f56bf",
            "3a6674cd503943aa9d8ab83afdc1d5f3",
            "fc64af73e93a46eeb4920c7d9a8be80d",
            "033a900285a842bc84675d4cd35bd70b",
            "71bfd93aa99b4ca7aba0039f85e82655",
            "f1923f5fb26646178343e9a0a419e043",
            "9ec8e183194a4a7fba964d20a9e2ad88",
            "33ccdccdc00949ec90a30532503b3170"
          ]
        },
        "id": "zYkhpt6PEdrM",
        "outputId": "dd07a4a9-0594-4566-e655-e1bb4401128f"
      },
      "source": [
        "from fbprophet.diagnostics import  cross_validation\n",
        "bank_cv = cross_validation(model, initial='730 days',period='30 days',horizon='365 days')\n",
        "bank_cv.head()"
      ],
      "execution_count": null,
      "outputs": [
        {
          "output_type": "stream",
          "text": [
            "INFO:fbprophet:Making 554 forecasts with cutoffs between 1975-01-23 00:00:00 and 2020-06-25 00:00:00\n"
          ],
          "name": "stderr"
        },
        {
          "output_type": "display_data",
          "data": {
            "application/vnd.jupyter.widget-view+json": {
              "model_id": "67d163a7d8d2464abf329e98167f56bf",
              "version_major": 2,
              "version_minor": 0
            },
            "text/plain": [
              "HBox(children=(FloatProgress(value=0.0, max=554.0), HTML(value='')))"
            ]
          },
          "metadata": {
            "tags": []
          }
        },
        {
          "output_type": "stream",
          "text": [
            "\n"
          ],
          "name": "stdout"
        },
        {
          "output_type": "execute_result",
          "data": {
            "text/html": [
              "<div>\n",
              "<style scoped>\n",
              "    .dataframe tbody tr th:only-of-type {\n",
              "        vertical-align: middle;\n",
              "    }\n",
              "\n",
              "    .dataframe tbody tr th {\n",
              "        vertical-align: top;\n",
              "    }\n",
              "\n",
              "    .dataframe thead th {\n",
              "        text-align: right;\n",
              "    }\n",
              "</style>\n",
              "<table border=\"1\" class=\"dataframe\">\n",
              "  <thead>\n",
              "    <tr style=\"text-align: right;\">\n",
              "      <th></th>\n",
              "      <th>ds</th>\n",
              "      <th>yhat</th>\n",
              "      <th>yhat_lower</th>\n",
              "      <th>yhat_upper</th>\n",
              "      <th>y</th>\n",
              "      <th>cutoff</th>\n",
              "    </tr>\n",
              "  </thead>\n",
              "  <tbody>\n",
              "    <tr>\n",
              "      <th>0</th>\n",
              "      <td>1975-01-24</td>\n",
              "      <td>8.163681</td>\n",
              "      <td>8.071460</td>\n",
              "      <td>8.248163</td>\n",
              "      <td>8.13</td>\n",
              "      <td>1975-01-23</td>\n",
              "    </tr>\n",
              "    <tr>\n",
              "      <th>1</th>\n",
              "      <td>1975-01-27</td>\n",
              "      <td>8.141355</td>\n",
              "      <td>8.053748</td>\n",
              "      <td>8.224379</td>\n",
              "      <td>8.13</td>\n",
              "      <td>1975-01-23</td>\n",
              "    </tr>\n",
              "    <tr>\n",
              "      <th>2</th>\n",
              "      <td>1975-01-28</td>\n",
              "      <td>8.135679</td>\n",
              "      <td>8.053964</td>\n",
              "      <td>8.223576</td>\n",
              "      <td>8.13</td>\n",
              "      <td>1975-01-23</td>\n",
              "    </tr>\n",
              "    <tr>\n",
              "      <th>3</th>\n",
              "      <td>1975-01-29</td>\n",
              "      <td>8.125452</td>\n",
              "      <td>8.041848</td>\n",
              "      <td>8.218528</td>\n",
              "      <td>8.13</td>\n",
              "      <td>1975-01-23</td>\n",
              "    </tr>\n",
              "    <tr>\n",
              "      <th>4</th>\n",
              "      <td>1975-01-30</td>\n",
              "      <td>8.106738</td>\n",
              "      <td>8.024301</td>\n",
              "      <td>8.186456</td>\n",
              "      <td>8.13</td>\n",
              "      <td>1975-01-23</td>\n",
              "    </tr>\n",
              "  </tbody>\n",
              "</table>\n",
              "</div>"
            ],
            "text/plain": [
              "          ds      yhat  yhat_lower  yhat_upper     y     cutoff\n",
              "0 1975-01-24  8.163681    8.071460    8.248163  8.13 1975-01-23\n",
              "1 1975-01-27  8.141355    8.053748    8.224379  8.13 1975-01-23\n",
              "2 1975-01-28  8.135679    8.053964    8.223576  8.13 1975-01-23\n",
              "3 1975-01-29  8.125452    8.041848    8.218528  8.13 1975-01-23\n",
              "4 1975-01-30  8.106738    8.024301    8.186456  8.13 1975-01-23"
            ]
          },
          "metadata": {
            "tags": []
          },
          "execution_count": 59
        }
      ]
    },
    {
      "cell_type": "code",
      "metadata": {
        "id": "JuXUi0GnKO3L",
        "colab": {
          "base_uri": "https://localhost:8080/",
          "height": 204
        },
        "outputId": "001f489c-4f47-4b10-9e9a-4d7d8604e011"
      },
      "source": [
        "from fbprophet.diagnostics import performance_metrics\n",
        "bank_p = performance_metrics(bank_cv)\n",
        "bank_p.head()"
      ],
      "execution_count": null,
      "outputs": [
        {
          "output_type": "execute_result",
          "data": {
            "text/html": [
              "<div>\n",
              "<style scoped>\n",
              "    .dataframe tbody tr th:only-of-type {\n",
              "        vertical-align: middle;\n",
              "    }\n",
              "\n",
              "    .dataframe tbody tr th {\n",
              "        vertical-align: top;\n",
              "    }\n",
              "\n",
              "    .dataframe thead th {\n",
              "        text-align: right;\n",
              "    }\n",
              "</style>\n",
              "<table border=\"1\" class=\"dataframe\">\n",
              "  <thead>\n",
              "    <tr style=\"text-align: right;\">\n",
              "      <th></th>\n",
              "      <th>horizon</th>\n",
              "      <th>mse</th>\n",
              "      <th>rmse</th>\n",
              "      <th>mae</th>\n",
              "      <th>mape</th>\n",
              "      <th>mdape</th>\n",
              "      <th>coverage</th>\n",
              "    </tr>\n",
              "  </thead>\n",
              "  <tbody>\n",
              "    <tr>\n",
              "      <th>0</th>\n",
              "      <td>37 days</td>\n",
              "      <td>7.097740</td>\n",
              "      <td>2.664158</td>\n",
              "      <td>1.763674</td>\n",
              "      <td>0.045551</td>\n",
              "      <td>0.033222</td>\n",
              "      <td>0.381500</td>\n",
              "    </tr>\n",
              "    <tr>\n",
              "      <th>1</th>\n",
              "      <td>38 days</td>\n",
              "      <td>7.123442</td>\n",
              "      <td>2.668978</td>\n",
              "      <td>1.767577</td>\n",
              "      <td>0.045696</td>\n",
              "      <td>0.033331</td>\n",
              "      <td>0.380129</td>\n",
              "    </tr>\n",
              "    <tr>\n",
              "      <th>2</th>\n",
              "      <td>39 days</td>\n",
              "      <td>7.143812</td>\n",
              "      <td>2.672791</td>\n",
              "      <td>1.770845</td>\n",
              "      <td>0.045829</td>\n",
              "      <td>0.033302</td>\n",
              "      <td>0.378578</td>\n",
              "    </tr>\n",
              "    <tr>\n",
              "      <th>3</th>\n",
              "      <td>40 days</td>\n",
              "      <td>7.161132</td>\n",
              "      <td>2.676029</td>\n",
              "      <td>1.774552</td>\n",
              "      <td>0.045984</td>\n",
              "      <td>0.033565</td>\n",
              "      <td>0.376972</td>\n",
              "    </tr>\n",
              "    <tr>\n",
              "      <th>4</th>\n",
              "      <td>41 days</td>\n",
              "      <td>7.179617</td>\n",
              "      <td>2.679481</td>\n",
              "      <td>1.778178</td>\n",
              "      <td>0.046126</td>\n",
              "      <td>0.033509</td>\n",
              "      <td>0.376003</td>\n",
              "    </tr>\n",
              "  </tbody>\n",
              "</table>\n",
              "</div>"
            ],
            "text/plain": [
              "  horizon       mse      rmse       mae      mape     mdape  coverage\n",
              "0 37 days  7.097740  2.664158  1.763674  0.045551  0.033222  0.381500\n",
              "1 38 days  7.123442  2.668978  1.767577  0.045696  0.033331  0.380129\n",
              "2 39 days  7.143812  2.672791  1.770845  0.045829  0.033302  0.378578\n",
              "3 40 days  7.161132  2.676029  1.774552  0.045984  0.033565  0.376972\n",
              "4 41 days  7.179617  2.679481  1.778178  0.046126  0.033509  0.376003"
            ]
          },
          "metadata": {
            "tags": []
          },
          "execution_count": 60
        }
      ]
    },
    {
      "cell_type": "code",
      "metadata": {
        "id": "Gu3bpjrDOZC4",
        "colab": {
          "base_uri": "https://localhost:8080/",
          "height": 420
        },
        "outputId": "6122f81b-a1ca-46f0-ba1c-cc11a122ebf1"
      },
      "source": [
        "bank_p"
      ],
      "execution_count": null,
      "outputs": [
        {
          "output_type": "execute_result",
          "data": {
            "text/html": [
              "<div>\n",
              "<style scoped>\n",
              "    .dataframe tbody tr th:only-of-type {\n",
              "        vertical-align: middle;\n",
              "    }\n",
              "\n",
              "    .dataframe tbody tr th {\n",
              "        vertical-align: top;\n",
              "    }\n",
              "\n",
              "    .dataframe thead th {\n",
              "        text-align: right;\n",
              "    }\n",
              "</style>\n",
              "<table border=\"1\" class=\"dataframe\">\n",
              "  <thead>\n",
              "    <tr style=\"text-align: right;\">\n",
              "      <th></th>\n",
              "      <th>horizon</th>\n",
              "      <th>mse</th>\n",
              "      <th>rmse</th>\n",
              "      <th>mae</th>\n",
              "      <th>mape</th>\n",
              "      <th>mdape</th>\n",
              "      <th>coverage</th>\n",
              "    </tr>\n",
              "  </thead>\n",
              "  <tbody>\n",
              "    <tr>\n",
              "      <th>0</th>\n",
              "      <td>37 days</td>\n",
              "      <td>7.097740</td>\n",
              "      <td>2.664158</td>\n",
              "      <td>1.763674</td>\n",
              "      <td>0.045551</td>\n",
              "      <td>0.033222</td>\n",
              "      <td>0.381500</td>\n",
              "    </tr>\n",
              "    <tr>\n",
              "      <th>1</th>\n",
              "      <td>38 days</td>\n",
              "      <td>7.123442</td>\n",
              "      <td>2.668978</td>\n",
              "      <td>1.767577</td>\n",
              "      <td>0.045696</td>\n",
              "      <td>0.033331</td>\n",
              "      <td>0.380129</td>\n",
              "    </tr>\n",
              "    <tr>\n",
              "      <th>2</th>\n",
              "      <td>39 days</td>\n",
              "      <td>7.143812</td>\n",
              "      <td>2.672791</td>\n",
              "      <td>1.770845</td>\n",
              "      <td>0.045829</td>\n",
              "      <td>0.033302</td>\n",
              "      <td>0.378578</td>\n",
              "    </tr>\n",
              "    <tr>\n",
              "      <th>3</th>\n",
              "      <td>40 days</td>\n",
              "      <td>7.161132</td>\n",
              "      <td>2.676029</td>\n",
              "      <td>1.774552</td>\n",
              "      <td>0.045984</td>\n",
              "      <td>0.033565</td>\n",
              "      <td>0.376972</td>\n",
              "    </tr>\n",
              "    <tr>\n",
              "      <th>4</th>\n",
              "      <td>41 days</td>\n",
              "      <td>7.179617</td>\n",
              "      <td>2.679481</td>\n",
              "      <td>1.778178</td>\n",
              "      <td>0.046126</td>\n",
              "      <td>0.033509</td>\n",
              "      <td>0.376003</td>\n",
              "    </tr>\n",
              "    <tr>\n",
              "      <th>...</th>\n",
              "      <td>...</td>\n",
              "      <td>...</td>\n",
              "      <td>...</td>\n",
              "      <td>...</td>\n",
              "      <td>...</td>\n",
              "      <td>...</td>\n",
              "      <td>...</td>\n",
              "    </tr>\n",
              "    <tr>\n",
              "      <th>324</th>\n",
              "      <td>361 days</td>\n",
              "      <td>15.872681</td>\n",
              "      <td>3.984053</td>\n",
              "      <td>2.908480</td>\n",
              "      <td>0.082563</td>\n",
              "      <td>0.069573</td>\n",
              "      <td>0.393533</td>\n",
              "    </tr>\n",
              "    <tr>\n",
              "      <th>325</th>\n",
              "      <td>362 days</td>\n",
              "      <td>15.910564</td>\n",
              "      <td>3.988805</td>\n",
              "      <td>2.913150</td>\n",
              "      <td>0.082706</td>\n",
              "      <td>0.069694</td>\n",
              "      <td>0.393311</td>\n",
              "    </tr>\n",
              "    <tr>\n",
              "      <th>326</th>\n",
              "      <td>363 days</td>\n",
              "      <td>15.948040</td>\n",
              "      <td>3.993500</td>\n",
              "      <td>2.917642</td>\n",
              "      <td>0.082839</td>\n",
              "      <td>0.069617</td>\n",
              "      <td>0.393139</td>\n",
              "    </tr>\n",
              "    <tr>\n",
              "      <th>327</th>\n",
              "      <td>364 days</td>\n",
              "      <td>15.990268</td>\n",
              "      <td>3.998783</td>\n",
              "      <td>2.922595</td>\n",
              "      <td>0.082983</td>\n",
              "      <td>0.069759</td>\n",
              "      <td>0.393486</td>\n",
              "    </tr>\n",
              "    <tr>\n",
              "      <th>328</th>\n",
              "      <td>365 days</td>\n",
              "      <td>16.030910</td>\n",
              "      <td>4.003862</td>\n",
              "      <td>2.927454</td>\n",
              "      <td>0.083118</td>\n",
              "      <td>0.069869</td>\n",
              "      <td>0.394005</td>\n",
              "    </tr>\n",
              "  </tbody>\n",
              "</table>\n",
              "<p>329 rows × 7 columns</p>\n",
              "</div>"
            ],
            "text/plain": [
              "     horizon        mse      rmse       mae      mape     mdape  coverage\n",
              "0    37 days   7.097740  2.664158  1.763674  0.045551  0.033222  0.381500\n",
              "1    38 days   7.123442  2.668978  1.767577  0.045696  0.033331  0.380129\n",
              "2    39 days   7.143812  2.672791  1.770845  0.045829  0.033302  0.378578\n",
              "3    40 days   7.161132  2.676029  1.774552  0.045984  0.033565  0.376972\n",
              "4    41 days   7.179617  2.679481  1.778178  0.046126  0.033509  0.376003\n",
              "..       ...        ...       ...       ...       ...       ...       ...\n",
              "324 361 days  15.872681  3.984053  2.908480  0.082563  0.069573  0.393533\n",
              "325 362 days  15.910564  3.988805  2.913150  0.082706  0.069694  0.393311\n",
              "326 363 days  15.948040  3.993500  2.917642  0.082839  0.069617  0.393139\n",
              "327 364 days  15.990268  3.998783  2.922595  0.082983  0.069759  0.393486\n",
              "328 365 days  16.030910  4.003862  2.927454  0.083118  0.069869  0.394005\n",
              "\n",
              "[329 rows x 7 columns]"
            ]
          },
          "metadata": {
            "tags": []
          },
          "execution_count": 61
        }
      ]
    },
    {
      "cell_type": "code",
      "metadata": {
        "id": "FTLpMnxxoHcK",
        "colab": {
          "base_uri": "https://localhost:8080/",
          "height": 393
        },
        "outputId": "3e263d23-9efd-45a3-c60d-bf3ffca60729"
      },
      "source": [
        "from fbprophet.plot import plot_cross_validation_metric\n",
        "fig = plot_cross_validation_metric(bank_cv, metric='rmse')"
      ],
      "execution_count": null,
      "outputs": [
        {
          "output_type": "display_data",
          "data": {
            "image/png": "[encoded data removed]",
            "text/plain": [
              "<Figure size 720x432 with 1 Axes>"
            ]
          },
          "metadata": {
            "tags": []
          }
        }
      ]
    }
  ]
}